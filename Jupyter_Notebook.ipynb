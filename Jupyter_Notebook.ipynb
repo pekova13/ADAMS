{
  "nbformat": 4,
  "nbformat_minor": 0,
  "metadata": {
    "colab": {
      "name": "Prediction_Of_Likes_On_Social_Media.ipynb",
      "provenance": [],
      "collapsed_sections": [
        "BRBFX6gOrp6c",
        "QUTEYiI3rs64",
        "9H0sBTcBAxyH",
        "D6_PG01eA_0u",
        "6UBwg78I84ez",
        "ZjXxQhKO9OVV",
        "8k7y3cIR9ZTV",
        "o0HQyQPk9d5l",
        "dKGpA8Dz9mKx"
      ],
      "include_colab_link": true
    },
    "kernelspec": {
      "name": "python3",
      "display_name": "Python 3"
    },
    "accelerator": "GPU"
  },
  "cells": [
    {
      "cell_type": "markdown",
      "metadata": {
        "id": "view-in-github",
        "colab_type": "text"
      },
      "source": [
        "<a href=\"https://colab.research.google.com/github/pekova13/ADAMS/blob/main/Prediction_Of_Likes_On_Social_Media.ipynb\" target=\"_parent\"><img src=\"https://colab.research.google.com/assets/colab-badge.svg\" alt=\"Open In Colab\"/></a>"
      ]
    },
    {
      "cell_type": "markdown",
      "metadata": {
        "id": "S6JlUOYJD4uj"
      },
      "source": [
        "\n",
        "\n",
        "## 1. Libraries and Functions"
      ]
    },
    {
      "cell_type": "markdown",
      "metadata": {
        "id": "BRBFX6gOrp6c"
      },
      "source": [
        "#### Libraries"
      ]
    },
    {
      "cell_type": "code",
      "metadata": {
        "id": "dyPuizfrIfpa"
      },
      "source": [
        "import pandas as pd\n",
        "import numpy as np\n",
        "\n",
        "# Library re provides regular expressions functionality\n",
        "import re\n",
        "\n",
        "# Library beatifulsoup4 handles html\n",
        "from bs4 import BeautifulSoup\n",
        "\n",
        "import nltk\n",
        "nltk.download('averaged_perceptron_tagger')\n",
        "nltk.download('stopwords')\n",
        "nltk.download('wordnet')\n",
        "nltk.download('punkt')\n",
        "from nltk.tokenize import word_tokenize\n",
        "from nltk.corpus import stopwords\n",
        "from nltk.stem import WordNetLemmatizer\n",
        "from nltk.corpus import wordnet\n",
        "from nltk.tokenize.treebank import TreebankWordDetokenizer\n",
        "\n",
        "from sklearn import model_selection\n",
        "from sklearn.preprocessing import LabelEncoder\n",
        "from sklearn.model_selection import train_test_split\n",
        "from sklearn.metrics import classification_report, confusion_matrix\n",
        "from sklearn.preprocessing import MinMaxScaler\n",
        "\n",
        "from keras.models import Sequential\n",
        "from keras.initializers import Constant\n",
        "from keras.preprocessing.text import Tokenizer\n",
        "from keras.preprocessing.sequence import pad_sequences\n",
        "from keras import optimizers\n",
        "\n",
        "import gensim\n",
        "from gensim.models import Word2Vec\n",
        "from gensim import models\n",
        "import gensim.downloader as api\n",
        "from gensim.models import KeyedVectors\n",
        "from gensim.models.keyedvectors import Word2VecKeyedVectors\n",
        "from gensim.models.keyedvectors import KeyedVectors\n",
        "\n",
        "import tensorflow\n",
        "tensorflow.__version__\n",
        "from tensorflow.python.keras.layers import Input, Dense,Embedding,GRU, Dropout, LSTM, Bidirectional, concatenate, CuDNNLSTM\n",
        "from tensorflow.python.keras.models import Model\n",
        "from tensorflow.python.keras.layers.embeddings import Embedding\n",
        "from tensorflow.python.keras.initializers import Constant\n",
        "\n",
        "from collections import Counter\n",
        "from sklearn.metrics import mean_squared_error as mse\n",
        "from sklearn.feature_extraction.text import TfidfVectorizer\n",
        "from sklearn.feature_extraction import DictVectorizer\n",
        "from scipy.sparse import hstack\n",
        "from sklearn.linear_model import Ridge\n",
        "from tensorflow.keras.callbacks import EarlyStopping\n",
        "!pip install optuna\n",
        "import optuna\n",
        "!pip install googletrans\n",
        "from googletrans import Translator\n",
        "\n",
        "import seaborn as sns\n",
        "import matplotlib.pyplot as plt\n",
        "%matplotlib inline"
      ],
      "execution_count": null,
      "outputs": []
    },
    {
      "cell_type": "markdown",
      "metadata": {
        "id": "QUTEYiI3rs64"
      },
      "source": [
        "#### Functions"
      ]
    },
    {
      "cell_type": "code",
      "metadata": {
        "id": "BxyMQ0k2rd82"
      },
      "source": [
        "def get_mse_on_test_and_validation_set(X_val_num_frame, X_test_num_frame,predictions_val, predictions_test, y_val_orig, y_test_orig, scaler_object):\n",
        "\n",
        "      \"\"\" \n",
        "        A function which firstly inversely rescales the generated predictions, then compares them to the true values of the target variable and finally\n",
        "        outputs the MSE on the validation and the test data\n",
        "\n",
        "        Parameters:\n",
        "        X_val_num_frame: a data frame containing the rescaled values of all numeric variables (Length, Responses, Claps) for the validation set\n",
        "        X_test_num_frame: same as above but for test set\n",
        "        predictions_val: predictions (scaled) on the validation data\n",
        "        predictions_test: predictions (scaled) on the test data \n",
        "        y_val_orig: a list of the true y values for the validation set\n",
        "        y_test_orig: a list of the true y values for the validation set\n",
        "        scaler_object: the scaler used to initially rescale the data\n",
        "\n",
        "        Output: MSE on test and validation set\n",
        "      \"\"\"\n",
        "\n",
        "\n",
        "    \n",
        "      # At first, the data must be prepared for the inverse scaling: the shape must be the same as the frame the scaler was initially fitted to. Thus,\n",
        "      # a copy of the data frame, containing all rescaled numeric variables is made, and the last column Claps_Norm is dropped to make place for the\n",
        "      # predicted claps.\n",
        "    \n",
        "      X_to_resc_val = X_val_num_frame.copy()\n",
        "      X_to_resc_val = X_to_resc_val.drop([\"Claps_Norm\"], axis=1)\n",
        "      X_to_resc_test = X_test_num_frame.copy()\n",
        "      X_to_resc_test = X_to_resc_test.drop([\"Claps_Norm\"], axis=1)\n",
        "\n",
        "      \n",
        "      # Different models output predictions in different shapes. For the current function to work, the predictions must be held in a 1D array. Depending\n",
        "      # on the output of the model, a transformation into a 1D array is made.\n",
        "      \n",
        "\n",
        "      if (predictions_val.ndim != 1) and (predictions_test.ndim != 1):\n",
        "        predictions_val=predictions_val.reshape(predictions_val.shape[0])\n",
        "        predictions_test=predictions_test.reshape(predictions_test.shape[0])\n",
        "\n",
        "      \n",
        "      #The 1D arrays holding the (still not inversely rescaled) predictions are transformed into simple lists and then assigned to the place of the dropped\n",
        "      #Claps_Norm (s. above)\n",
        "      \n",
        "\n",
        "      prediction_claps_val = []\n",
        "      prediction_claps_test = []\n",
        "      for i in range (0, len(predictions_val)):\n",
        "        pred_claps_val = predictions_val[i]\n",
        "        pred_claps_test = predictions_test[i]\n",
        "        prediction_claps_val.append(pred_claps_val)\n",
        "        prediction_claps_test.append(pred_claps_test)\n",
        "\n",
        "\n",
        "      X_to_resc_val[\"Predicted_Claps_Norm\"] = prediction_claps_val\n",
        "      X_to_resc_test[\"Predicted_Claps_Norm\"] = prediction_claps_test  \n",
        "      \n",
        "      #inversely rescale the data frame, containing the rescaled predictions\n",
        "      \n",
        "      inverse_val = scaler_object.inverse_transform(X_to_resc_val)\n",
        "      inverse_test = scaler_object.inverse_transform(X_to_resc_test)\n",
        "\n",
        "      \n",
        "      #put the inversely rescaled predictions in a separate list\n",
        "      \n",
        "      prediction_claps_inverse_val = []\n",
        "      prediction_claps_inverse_test = []\n",
        "\n",
        "      for i in range (0, len(inverse_val)):\n",
        "        pred_val = inverse_val[i][2]\n",
        "        pred_test = inverse_test[i][2]\n",
        "        prediction_claps_inverse_val.append((round(pred_val)))\n",
        "        prediction_claps_inverse_test.append((round(pred_test)))\n",
        "\n",
        "      \n",
        "      #compare the true and the predicted y values on the test and val set based on MSE\n",
        "      \n",
        "      loss_value_val_set = mse(y_val_orig, prediction_claps_inverse_val)\n",
        "\n",
        "      loss_value_test_set = mse(y_test_orig, prediction_claps_inverse_test)\n",
        "\n",
        "      print(\"The MSE on the validation set is \", round(loss_value_val_set))\n",
        "      print(\"The MSE on the test set is \", round(loss_value_test_set))"
      ],
      "execution_count": null,
      "outputs": []
    },
    {
      "cell_type": "code",
      "metadata": {
        "id": "wQYnHSSWvuWZ"
      },
      "source": [
        "# function to get the embedding matrix for the vocabulary in the data (copied from ADAMS SoSe 2020 tutorial)\n",
        "def get_embedding_matrix(tokenizer, pretrain, vocab_size):\n",
        "    '''\n",
        "        Helper function to construct an embedding matrix for \n",
        "        the focal corpus based on some pre-trained embeddings.\n",
        "    '''\n",
        "    \n",
        "    dim = 0\n",
        "    if isinstance(pretrain, KeyedVectors) or isinstance(pretrain, Word2VecKeyedVectors):\n",
        "        dim = pretrain.vector_size        \n",
        "    elif isinstance(pretrain, dict):\n",
        "        dim = next(iter(pretrain.values())).shape[0]  # get embedding of an arbitrary word\n",
        "    else:\n",
        "        raise Exception('{} is not supported'.format(type(pretrain)))\n",
        "    \n",
        "    \n",
        "    # Initialize embedding matrix\n",
        "    emb_mat = np.zeros((vocab_size, dim))\n",
        "\n",
        "    # There will be some words in our corpus for which we lack a pre-trained embedding.\n",
        "    # In this tutorial, we will simply use a vector of zeros for such words. We also keep\n",
        "    # track of the words to do some debugging if needed\n",
        "    oov_words = []\n",
        "    # Below we use the tokenizer object that created our task vocabulary. This is crucial to ensure\n",
        "    # that the position of a words in our embedding matrix corresponds to its index in our integer\n",
        "    # encoded input data\n",
        "    for word, i in tokenizer.word_index.items():  \n",
        "        # try-catch together with a zero-initilaized embedding matrix achieves our rough fix for oov words\n",
        "        try:\n",
        "            emb_mat[i] = pretrain[word]\n",
        "        except:\n",
        "            oov_words.append(word)\n",
        "    print('Created embedding matrix of shape {}'.format(emb_mat.shape))\n",
        "    print('Encountered {} out-of-vocabulary words.'.format(len(oov_words)))\n",
        "    return (emb_mat, oov_words)"
      ],
      "execution_count": null,
      "outputs": []
    },
    {
      "cell_type": "code",
      "metadata": {
        "id": "LkrpN2zjv66Q"
      },
      "source": [
        "# outlier truncation function (copied from ADAMS SoSe 2020 Tutorial Nr. 2)\n",
        "\n",
        "def outlier_truncation(x, factor=1.5):\n",
        "    '''\n",
        "    Identifies outlier values based on the inter-quartile range IQR. \n",
        "    Corresponding outliers are truncated and set to a value factor x IQR\n",
        "    \n",
        "        Parameters:\n",
        "            x (Pandas Series): A data frame column to scan for outliers\n",
        "            factor (float): An outlier is a value this many times the IQR above q3/below q1\n",
        "            \n",
        "        Returns:\n",
        "            Adjusted variable in which outliers are truncated\n",
        "    '''\n",
        "    x_new = x.copy()\n",
        "    \n",
        "    # Calculate IQR\n",
        "    IQR = x.quantile(0.75) - x.quantile(0.25) \n",
        "    \n",
        "    # Define upper/lower bound\n",
        "    upper = x.quantile(0.75) + factor*IQR\n",
        "    lower = x.quantile(0.25) - factor*IQR\n",
        "    \n",
        "    # Truncation\n",
        "    x_new[x < lower] = lower\n",
        "    x_new[x > upper] = upper\n",
        "    \n",
        "    return x_new"
      ],
      "execution_count": null,
      "outputs": []
    },
    {
      "cell_type": "code",
      "metadata": {
        "id": "132CTlXOwDF_"
      },
      "source": [
        "# function to support lemmatization (copied from ADAMS SoSe 2020 Tutorial Nr. 11)\n",
        "\n",
        "def get_wordnet_pos(word):\n",
        "    \"\"\"Map POS tag to first character for lemmatization\"\"\"\n",
        "    tag = nltk.pos_tag([word])[0][1][0].upper()\n",
        "    tag_dict = {\"J\": wordnet.ADJ,\n",
        "                \"N\": wordnet.NOUN,\n",
        "                \"V\": wordnet.VERB,\n",
        "                \"R\": wordnet.ADV}\n",
        "\n",
        "    return tag_dict.get(tag, wordnet.NOUN)"
      ],
      "execution_count": null,
      "outputs": []
    },
    {
      "cell_type": "code",
      "metadata": {
        "id": "n44-nr6UwDGB"
      },
      "source": [
        "# function to clean all entries (copied from ADAMS SoSe 2020 Tutorial Nr. 11)\n",
        "\n",
        "def clean_entries(df):\n",
        "    \"\"\" Standard NLP pre-processing chain including removal of html tags, non-alphanumeric characters, and stopwords.\n",
        "        Words are subject to lemmatization using their POS tags, which are determind using WordNet. \n",
        "    \"\"\"\n",
        "    entries = []\n",
        "\n",
        "    lemmatizer = WordNetLemmatizer()\n",
        "    \n",
        "    print('*' * 40)\n",
        "    print('Cleaning {} entries.'.format(df.shape[0]))\n",
        "    counter = 0\n",
        "    for entry in df:\n",
        "        \n",
        "        # remove html content\n",
        "        entry_text = BeautifulSoup(entry).get_text()\n",
        "        \n",
        "        # remove non-alphabetic characters\n",
        "        entry_text = re.sub(\"[^a-zA-Z]\",\" \", entry_text)\n",
        "    \n",
        "        # tokenize the sentences\n",
        "        words = word_tokenize(entry_text.lower())\n",
        "  \n",
        "        # filter stopwords\n",
        "        words = [w for w in words if w not in stopwords.words(\"english\")]\n",
        "        \n",
        "        # lemmatize each word to its lemma\n",
        "        lemma_words =[lemmatizer.lemmatize(i, get_wordnet_pos(i)) for i in words]\n",
        "    \n",
        "        entries.append(lemma_words)\n",
        "              \n",
        "        if (counter > 0 and counter % 500 == 0):\n",
        "            print('Processed {} entries'.format(counter))\n",
        "            \n",
        "        counter += 1\n",
        "        \n",
        "    print('DONE')\n",
        "    print('*' * 40)\n",
        "\n",
        "    return(entries) "
      ],
      "execution_count": null,
      "outputs": []
    },
    {
      "cell_type": "code",
      "metadata": {
        "id": "SIA2JXB-4hhl"
      },
      "source": [
        "class HP_Optimization():\n",
        "\n",
        "      \"\"\"\n",
        "      A function for hyperparameter optimization, which fits no predictive model (like in the case of bayesian optimization) and does not search through\n",
        "      all possible combinations of predefined vales (like in the case of grid search). An amount of trials for the optimizer to run is set. Each trial\n",
        "      runs different amount of epochs. \n",
        "      The configuration space is organized in a tree structure:\n",
        "      1. choose the number of hidden layers: for example 2\n",
        "      2. choose the values for each of the hyperparameters (HPs) active when number of layers is two\n",
        "      3. the current trial will not samle any hyperparamter values hat do not satisfy the condition of 2 layers\n",
        "      The main advantage of a tree parzen estimator is that it considers the past evaluations to determine the next best values for each hyperparameter\n",
        "\n",
        "      It is necessary to create a class in a first place in order to keep all three functions needed for this type of optimization:\n",
        "\n",
        "      \"\"\"\n",
        "\n",
        "\n",
        "      def __init__(self,X_train_numerical, X_train_textual,y_train,X_val_numerical,X_val_textual,y_val,\n",
        "             X_test_numerical,X_test_textual,y_test_orig_list,y_val_orig_list,\n",
        "             X_val_numerical_frame, X_test_numerical_frame, scaler,\n",
        "             max_length_review,num_words,embedding_dim,embedding_weights,\n",
        "             num_trials):\n",
        "        \"\"\"\n",
        "        initialization function (always there at the begeinning of a class), containing all parameters that will be used for the optimization. The other \n",
        "        functions can then access this parameters (by using \"self\") and as well each other\n",
        "\n",
        "        Parameters: \n",
        "        self\n",
        "        X_train_numerical: df holding numerical features from X_train \n",
        "        X_train_textual: df holding (already transofrmed to numerical) text data from X_train\n",
        "        X_val_numerical: df holding numerical features from X_val \n",
        "        X_val_textual: df holding (already transofrmed to numerical) text data from X_val\n",
        "        y_val: rescaled y_val\n",
        "        X_test_numerical: df holding numerical features from X_test\n",
        "        X_test_textual: df holding (already transofrmed to numerical) text data from X_test\n",
        "        y_test_orig_list: list holding original values of y_test\n",
        "        y_val_orig_list: list holding original values of y_val\n",
        "        X_val_numerical_frame: df holding all numerical features from X_val and y_val\n",
        "        X_test_numerical_frame: df holding all numerical features from X_test and y_test\n",
        "        scaler: scaler used to initially rescale the numerical data\n",
        "        max_length_review: longest entry in the train set\n",
        "        num_words: amount of words to be kept in the embedding matrix\n",
        "        embedding_dim: dimensions of the embedding matrix \n",
        "        embedding_weights: weights of the embedding matrix\n",
        "        num_trials: trials for the optimizer to run through \n",
        "        \"\"\"\n",
        "      \n",
        "        self.X_train_numerical=X_train_numerical\n",
        "        self.X_train_textual=X_train_textual\n",
        "        self.y_train=y_train\n",
        "        self.X_val_numerical=X_val_numerical\n",
        "        self.X_val_textual=X_val_textual\n",
        "        self.y_val=y_val\n",
        "        self.X_test_numerical=X_test_numerical\n",
        "        self.X_test_textual=X_test_textual\n",
        "        self.y_test_orig_list=y_test_orig_list\n",
        "        self.y_val_orig_list=y_val_orig_list\n",
        "        self.max_length_review=max_length_review\n",
        "        self.num_words=num_words\n",
        "        self.embedding_dim=embedding_dim\n",
        "        self.embedding_weights=embedding_weights\n",
        "        self.num_trials=num_trials\n",
        "        self.X_val_numerical_frame=X_val_numerical_frame\n",
        "        self.X_test_numerical_frame = X_test_numerical_frame\n",
        "        self.scaler = scaler\n",
        "\n",
        "      def run_hp(self):\n",
        "      \n",
        "        \"\"\"\n",
        "        starts solving an optimization task with regard to an objective function \n",
        "        Parameter: self\n",
        "        Return: study object: corresponds to an optimization task, i.e., a set of trials the optimizer has to run through to optimize the objective function\n",
        "        \"\"\"\n",
        "        study=optuna.create_study()\n",
        "        study.optimize(self.objective_function, n_trials=self.num_trials)\n",
        "        return study\n",
        "\n",
        "      def objective_function(self,trial): \n",
        "\n",
        "        \"\"\"\n",
        "        objective function to be optimized\n",
        "        Parameters: number of trials for the optimizer to run through\n",
        "        Return: loss on validation set\n",
        "        \"\"\"\n",
        "        \n",
        "        # clear up the memory after a session  \n",
        "        tensorflow.keras.backend.clear_session()\n",
        "        \n",
        "        #Input Layers (from the Keras model)\n",
        "        inputA = Input(shape=(self.max_length_review,))\n",
        "        \n",
        "        embedding_layer = Embedding(self.num_words, \n",
        "                          self.embedding_dim,  \n",
        "                          embeddings_initializer=Constant(self.embedding_weights), \n",
        "                          input_length=self.max_length_review, \n",
        "                          trainable=False  # we start with frozen weights and relax this choice in model #5\n",
        "                          )(inputA)\n",
        "        outputA=embedding_layer\n",
        "\n",
        "        inputB = Input(shape=(self.X_train_numerical.shape[1],))\n",
        "        outputB=inputB\n",
        "\n",
        "        #Tune Number of Dense Layers for numerical Data, the Number of Neurons in each and the drop out rate, following each dense layer:\n",
        "        print(\"Hyperparameter Optimization: \")\n",
        "        num_dense_layers_numerical=trial.suggest_int('num_dense_layers_numerical', low=1, high=3, step=1)\n",
        "        print(\"Number of Dense Layers for NUmerical Data: \",num_dense_layers_numerical,\"\\n\")\n",
        "\n",
        "        for i in range(0,num_dense_layers_numerical):\n",
        "          neurons_current_dense_numerical=trial.suggest_int('neurons_dense_numerical_'+str(i), low=10, high=70, step=10)\n",
        "          current_dropout_rate_numerical=trial.suggest_categorical('dropout_rate_numerical_'+str(i),[0.25,0.30,0.35,0.40,0.45,0.50,0.55,0.60])\n",
        "          print(\"Neurons in \", str(i+1),\".Dense Layer for numerical Data: \",neurons_current_dense_numerical,\"\\n\")\n",
        "          print(\"Dropout Rate in Dropout Layer following the Dense Layer: \",current_dropout_rate_numerical,\"\\n\")\n",
        "          outputB = Dense(neurons_current_dense_numerical, activation=\"tanh\")(outputB)\n",
        "          outputB = (Dropout(current_dropout_rate_numerical))(outputB)\n",
        "\n",
        "        numerical_model = Model(inputs=inputB, outputs=outputB)\n",
        "\n",
        "        #Tune Number of CuDNNLSTM Layers for numerical Data, the Number of Neurons in each and the drop out rate, following each CuDNNLSTM Layer:\n",
        "        num_lstm_layers_textual=trial.suggest_int('num_lstm_layers_textual', low=1, high=3, step=1)\n",
        "        print(\"Number of LSTM Layers for Textual Data: \",num_lstm_layers_textual,\"\\n\")\n",
        "        \n",
        "        return_sequences=True\n",
        "        for i in range(0,num_lstm_layers_textual):\n",
        "          if i==num_lstm_layers_textual-1:\n",
        "            return_sequences=False\n",
        "          neurons_current_lstm_textual=trial.suggest_int('neurons_lstm_textual_'+str(i), low=10, high=70, step=10)\n",
        "          current_dropout_rate_textual=trial.suggest_categorical('dropout_rate_textual_'+str(i),[0.25,0.30,0.35,0.40,0.45,0.50,0.55,0.60])\n",
        "          print(\"Neurons in \", str(i+1),\". CuDNNLSTM Layer for textual Data: \",neurons_current_lstm_textual,\"\\n\")\n",
        "          print(\"Dropout Rate in Dropout Layer following the CuDNNLSTM Layer: \",current_dropout_rate_textual,\"\\n\")\n",
        "          outputA = CuDNNLSTM(neurons_current_dense_numerical,return_sequences=return_sequences)(outputA)\n",
        "          outputA = (Dropout(current_dropout_rate_textual))(outputA)\n",
        "\n",
        "        textual_model = Model(inputs=inputA, outputs=outputA)\n",
        "\n",
        "        combined = concatenate([textual_model.output, numerical_model.output])\n",
        "\n",
        "        final_output = Dense(1, activation=\"linear\")(combined)\n",
        "\n",
        "        model = Model(inputs=[textual_model.input, numerical_model.input], outputs=final_output)\n",
        "\n",
        "        # print statements to output the parameters, which are currently being tried out by the optimizer\n",
        "        # In case the loss on the test and validation set is sufficiently lower than the original model before tuning, it can be directly seen \n",
        "        # which values the hyperparameters are currently set to\n",
        "\n",
        "        print(\"Keras Model Summary: \",model.summary())\n",
        "\n",
        "        learning_rate=trial.suggest_discrete_uniform('learning_rate', 0.0001,0.1,0.0001)\n",
        "        learning_rate=round(learning_rate,5)\n",
        "        print(\"Learning Rate: \",learning_rate,\"\\n\")\n",
        "\n",
        "        batch_size=trial.suggest_categorical('batch_size', [32,64,128,256,512,1024])\n",
        "        print(\"Batch Size: \",batch_size,\"\\n\")\n",
        "\n",
        "        epochs=trial.suggest_int('epochs', low=10, high=50, step=10)\n",
        "        print(\"Epochs: \",epochs,\"\\n\")\n",
        "\n",
        "        opt = optimizers.Adam(lr=learning_rate)\n",
        "\n",
        "        model.compile(optimizer=opt, loss='MSE')\n",
        "\n",
        "        early_stop = EarlyStopping(monitor='val_loss', min_delta=0.001, patience=10, restore_best_weights=True)\n",
        "\n",
        "        # create a checkpoint callback to save the best model (so that predictions can be generated straight after, without having to fit it once again)\n",
        "        model_checkpoint_callback = tensorflow.keras.callbacks.ModelCheckpoint(\"/content/gdrive/My Drive/ADAMS_2020/best_num_textModel.h5\",save_best_only=True)\n",
        "\n",
        "        story = model.fit([self.X_train_textual, self.X_train_numerical],self.y_train,\n",
        "                          batch_size=batch_size, epochs=epochs, \n",
        "                          validation_data=([self.X_val_textual, self.X_val_numerical], self.y_val), callbacks=[early_stop, model_checkpoint_callback])\n",
        "\n",
        "        pred_val_set = model.predict([self.X_val_textual, self.X_val_numerical])\n",
        "        pred_val_set=pred_val_set.reshape(pred_val_set.shape[0])\n",
        "\n",
        "        pred_test_set = model.predict([self.X_test_textual, self.X_test_numerical])\n",
        "        pred_test_set=pred_test_set.reshape(pred_test_set.shape[0])\n",
        "\n",
        "        #Inver Rescale with self.scaler (the code from here is part of the function \n",
        "        #rescaled_numeric_input_dataframes: see below for details on the function)\n",
        "\n",
        "        X_to_rev_val = self.X_val_numerical_frame.copy()\n",
        "        X_to_rev_val = X_to_rev_val.drop([\"Claps_Norm\"], axis=1)\n",
        "        X_to_rev_test = self.X_test_numerical_frame.copy()\n",
        "        X_to_rev_test = X_to_rev_test.drop([\"Claps_Norm\"], axis=1)\n",
        "\n",
        "        prediction_claps_val = []\n",
        "        prediction_claps_test = []\n",
        "        for i in range (0, len(pred_val_set)):\n",
        "          pred_claps_val = pred_val_set[i]\n",
        "          pred_claps_test = pred_test_set[i]\n",
        "          prediction_claps_val.append(pred_claps_val)\n",
        "          prediction_claps_test.append(pred_claps_test)\n",
        "\n",
        "\n",
        "        X_to_rev_val[\"Predicted_Claps_Norm\"] = prediction_claps_val\n",
        "        X_to_rev_test[\"Predicted_Claps_Norm\"] = prediction_claps_test\n",
        "\n",
        "        inverse_val = self.scaler.inverse_transform(X_to_rev_val)\n",
        "        inverse_test = self.scaler.inverse_transform(X_to_rev_test)\n",
        "\n",
        "        prediction_claps_inverse_val = []\n",
        "        prediction_claps_inverse_test = []\n",
        "\n",
        "        for i in range (0, len(inverse_val)):\n",
        "          pred_val = inverse_val[i][2]\n",
        "          pred_test = inverse_test[i][2]\n",
        "          prediction_claps_inverse_val.append((round(pred_val)))\n",
        "          prediction_claps_inverse_test.append((round(pred_test)))\n",
        "\n",
        "        # compare predictions with real values to estimate performance of the model with certain hyperparameter values\n",
        "        loss_value_val_set = mse(self.y_val_orig_list, prediction_claps_inverse_val)\n",
        "\n",
        "        loss_value_test_set = mse(self.y_test_orig_list, prediction_claps_inverse_test)\n",
        "        \n",
        "        print(\"Achieved Loss on Validation Set: \",loss_value_val_set)\n",
        "        print(\"Achieved Loss on Test Set: \",loss_value_test_set)\n",
        "\n",
        "        return loss_value_val_set"
      ],
      "execution_count": null,
      "outputs": []
    },
    {
      "cell_type": "code",
      "metadata": {
        "id": "ew_w1u1Q4Snr"
      },
      "source": [
        "def rescaled_numeric_input_dataframes(range_lower, range_upper, num_train_frame, num_test_frame, num_val_frame, \n",
        "                                      unscaled_numerical_x_train_features, unscaled_numerical_x_test_features, unscaled_numerical_x_val_features,\n",
        "                                      y_train, y_test, y_val):\n",
        "  \n",
        "      \"\"\"\n",
        "      A function which provides a X and y data sets containing rescaled numeric values, ready to be used in a model\n",
        "\n",
        "      Parameters: \n",
        "      range_lower: lower border for the rescaling\n",
        "      range_upper: upper border for the rescaling\n",
        "      num_train_frame: data frame holding the original values of all numeric features from X_train + y_train\n",
        "      num_test_frame: data frame holding the original values of all numeric features from X_test + y_test\n",
        "      num_val_frame: data frame holding the original values of all numeric features from X_val + y_val\n",
        "      unscaled_numerical_x_train_features: a data frame holding all numerical X_train features (original values)\n",
        "      unscaled_numerical_x_test_features: a data frame holding all numerical X_test features (original values)\n",
        "      unscaled_numerical_x_val_features: a data frame holding all numerical X_val features (original values)\n",
        "      y_train: original values of y_train\n",
        "      y_test: original values of y_test\n",
        "      y_val: original values of y_val\n",
        "\n",
        "      Return:\n",
        "      create final data frames (series in the case of the y-sets), containing only normalized numeric values, which will be used in the ML models\n",
        "\n",
        "\n",
        "      \"\"\"\n",
        "\n",
        "      # initialize a scaler, fir it on a numeric data frame (holding numeric features of X train and y) and then transform numeric train, test and val data\n",
        "      scaler = MinMaxScaler(feature_range=(range_lower, range_upper))\n",
        "      scaler.fit(train_frame_num)\n",
        "      num_normalized_train = scaler.transform(num_train_frame)\n",
        "      num_normalized_test = scaler.transform(test_frame_num)\n",
        "      num_normalized_val = scaler.transform(val_frame_num)\n",
        "\n",
        "      # put the rescaled numeric of the test and val data in separate data frames\n",
        "      num_normalized_test_frame = pd.DataFrame({'Length_Norm': num_normalized_test[:, 0], 'Responses_Norm': num_normalized_test[:, 1], 'Claps_Norm': num_normalized_test[:, 2]})\n",
        "      num_normalized_val_frame = pd.DataFrame({'Length_Norm': num_normalized_val[:, 0], 'Responses_Norm': num_normalized_val[:, 1], 'Claps_Norm': num_normalized_val[:, 2]})\n",
        "      \n",
        "      # assign the normalized values of the variable Length to a data frame, which will be X_train, but with rescaled features\n",
        "      length_norm_train = []\n",
        "      for m in range (0, num_normalized_train.shape[0]):\n",
        "        len_norm_train = num_normalized_train[m][0]\n",
        "        length_norm_train.append(len_norm_train)\n",
        "\n",
        "      unscaled_numerical_x_train_features[\"Length_Norm\"] = length_norm_train\n",
        "\n",
        "      # assign the normalized values of the variable Length to a data frame, which will be X_test, but with rescaled features\n",
        "      length_norm_test = []\n",
        "      for m in range (0, num_normalized_test.shape[0]):\n",
        "        len_norm_test = num_normalized_test[m][0]\n",
        "        length_norm_test.append(len_norm_test)\n",
        "\n",
        "      unscaled_numerical_x_test_features[\"Length_Norm\"] = length_norm_test\n",
        "\n",
        "      # assign the normalized values of the variable Length to a data frame, which will be X_val, but with rescaled features\n",
        "      length_norm_val = []\n",
        "      for m in range (0, num_normalized_val.shape[0]):\n",
        "        len_norm_val = num_normalized_val[m][0]\n",
        "        length_norm_val.append(len_norm_val)\n",
        "\n",
        "      unscaled_numerical_x_val_features[\"Length_Norm\"] = length_norm_val\n",
        "\n",
        "      # repeat the same for the variable Responses\n",
        "      responses_norm_train = []\n",
        "      for m in range (0, num_normalized_train.shape[0]):\n",
        "        resp_norm_train = num_normalized_train[m][1]\n",
        "        responses_norm_train.append(resp_norm_train)\n",
        "\n",
        "      unscaled_numerical_x_train_features[\"Responses_Norm\"] = responses_norm_train\n",
        "\n",
        "      responses_norm_test = []\n",
        "      for m in range (0, num_normalized_test.shape[0]):\n",
        "        resp_norm_test = num_normalized_test[m][1]\n",
        "        responses_norm_test.append(resp_norm_test)\n",
        "\n",
        "      unscaled_numerical_x_test_features[\"Responses_Norm\"] = responses_norm_test\n",
        "\n",
        "      responses_norm_val = []\n",
        "      for m in range (0, num_normalized_val.shape[0]):\n",
        "        resp_norm_val = num_normalized_val[m][1]\n",
        "        responses_norm_val.append(resp_norm_val)\n",
        "\n",
        "      unscaled_numerical_x_val_features[\"Responses_Norm\"] = responses_norm_val\n",
        "\n",
        "      # assign the normalized values of the variable Claps to a data frame, which will be y_train, but with rescaled features\n",
        "      claps_norm_train = []\n",
        "      for m in range (0, num_normalized_train.shape[0]):\n",
        "      cl_norm_train = num_normalized_train[m][2]\n",
        "      claps_norm_train.append(cl_norm_train)\n",
        "\n",
        "      y_train_fr = y_train.to_frame().copy()\n",
        "      y_train_fr[\"Claps_Norm\"] = claps_norm_train\n",
        "      y_train_fr = y_train_fr.drop([\"Claps\"], axis=1)\n",
        "      y_train_norm = y_train_fr.copy()\n",
        "\n",
        "      # assign the normalized values of the variable Claps to a data frame, which will be y_test, but with rescaled features\n",
        "      claps_norm_test = []\n",
        "      for m in range (0, num_normalized_test.shape[0]):\n",
        "      cl_norm_test = num_normalized_test[m][2]\n",
        "      claps_norm_test.append(cl_norm_test)\n",
        "\n",
        "      y_test_fr = y_test.to_frame().copy()\n",
        "      y_test_fr[\"Claps_Norm\"] = claps_norm_test\n",
        "      y_test_fr = y_test_fr.drop([\"Claps\"], axis=1)\n",
        "      y_test_norm = y_test_fr.copy()\n",
        "\n",
        "      # assign the normalized values of the variable Claps to a data frame, which will be y_val, but with rescaled features\n",
        "      claps_norm_val = []\n",
        "      for m in range (0, num_normalized_val.shape[0]):\n",
        "      cl_norm_val = num_normalized_val[m][2]\n",
        "      claps_norm_val.append(cl_norm_val)\n",
        "\n",
        "      y_val_fr = y_val.to_frame().copy()\n",
        "      y_val_fr[\"Claps_Norm\"] = claps_norm_val\n",
        "      y_val_fr = y_val_fr.drop([\"Claps\"], axis=1)\n",
        "      y_val_norm = y_val_fr.copy()\n",
        "\n",
        "      # create final data frames (series in the case of the y-sets), containing only normalized numeric values, which will be used in the ML models\n",
        "      scaled_numerical_x_train_features = unscaled_numerical_x_train_features.drop([\"Length\", \"Responses\"], axis=1).copy()\n",
        "      scaled_numerical_x_test_features = unscaled_numerical_x_test_features.drop([\"Length\", \"Responses\"], axis=1).copy()\n",
        "      scaled_numerical_x_val_features = unscaled_numerical_x_val_features.drop([\"Length\", \"Responses\"], axis=1).copy()\n",
        "\n",
        "      y_train_norm = y_train_norm[\"Claps_Norm\"]\n",
        "      y_test_norm = y_test_norm[\"Claps_Norm\"]\n",
        "      y_val_norm = y_val_norm[\"Claps_Norm\"]\n",
        "\n",
        "      return [scaled_numerical_x_train_features,scaled_numerical_x_test_features,scaled_numerical_x_val_features,y_train_norm, y_test_norm, y_val_norm]\n",
        "\n"
      ],
      "execution_count": null,
      "outputs": []
    },
    {
      "cell_type": "code",
      "metadata": {
        "id": "A4EXMw49XH-2"
      },
      "source": [
        "def train_test_loss(history):\n",
        "  plt.plot(history.history[\"loss\"])\n",
        "  plt.plot(history.history[\"val_loss\"])\n",
        "  plt.title('model loss')\n",
        "  plt.ylabel('loss')\n",
        "  plt.xlabel('epoch')\n",
        "  plt.legend(['train', 'test'], loc='upper left')\n",
        "  plt.show()"
      ],
      "execution_count": null,
      "outputs": []
    },
    {
      "cell_type": "markdown",
      "metadata": {
        "id": "9H0sBTcBAxyH"
      },
      "source": [
        "## 2. Mount Drive"
      ]
    },
    {
      "cell_type": "code",
      "metadata": {
        "id": "J7a0lxZYW8Wi",
        "colab": {
          "base_uri": "https://localhost:8080/",
          "height": 34
        },
        "outputId": "888429a5-4bad-46db-8567-2ba550baf7e0"
      },
      "source": [
        "import os  # operating system interface \n",
        "print(os.getcwd())"
      ],
      "execution_count": null,
      "outputs": [
        {
          "output_type": "stream",
          "text": [
            "/content\n"
          ],
          "name": "stdout"
        }
      ]
    },
    {
      "cell_type": "code",
      "metadata": {
        "id": "-V_LoawmXAeH",
        "colab": {
          "base_uri": "https://localhost:8080/",
          "height": 122
        },
        "outputId": "61efc61c-af62-4898-f5b6-9cc0721f6233"
      },
      "source": [
        "from google.colab import drive\n",
        "drive.mount('/content/gdrive')"
      ],
      "execution_count": null,
      "outputs": [
        {
          "output_type": "stream",
          "text": [
            "Go to this URL in a browser: https://accounts.google.com/o/oauth2/auth?client_id=947318989803-6bn6qk8qdgf4n4g3pfee6491hc0brc4i.apps.googleusercontent.com&redirect_uri=urn%3aietf%3awg%3aoauth%3a2.0%3aoob&scope=email%20https%3a%2f%2fwww.googleapis.com%2fauth%2fdocs.test%20https%3a%2f%2fwww.googleapis.com%2fauth%2fdrive%20https%3a%2f%2fwww.googleapis.com%2fauth%2fdrive.photos.readonly%20https%3a%2f%2fwww.googleapis.com%2fauth%2fpeopleapi.readonly&response_type=code\n",
            "\n",
            "Enter your authorization code:\n",
            "··········\n",
            "Mounted at /content/gdrive\n"
          ],
          "name": "stdout"
        }
      ]
    },
    {
      "cell_type": "code",
      "metadata": {
        "id": "Xc3LwenXXMre"
      },
      "source": [
        "#!ls \"/content/gdrive/My Drive/ADAMS_2020/Train.csv\""
      ],
      "execution_count": null,
      "outputs": []
    },
    {
      "cell_type": "markdown",
      "metadata": {
        "id": "D6_PG01eA_0u"
      },
      "source": [
        "## 3. Load Data"
      ]
    },
    {
      "cell_type": "code",
      "metadata": {
        "id": "a7FNwvymXScr"
      },
      "source": [
        "file = \"/content/gdrive/My Drive/ADAMS_2020/Train.csv\"\n",
        "df = pd.read_csv(file)"
      ],
      "execution_count": null,
      "outputs": []
    },
    {
      "cell_type": "code",
      "metadata": {
        "id": "K8MO7vslWni7"
      },
      "source": [
        "file_test = \"/content/gdrive/My Drive/ADAMS_2020/Test.csv\"\n",
        "df_test = pd.read_csv(file_test)"
      ],
      "execution_count": null,
      "outputs": []
    },
    {
      "cell_type": "markdown",
      "metadata": {
        "id": "8EwBLY26EkU_"
      },
      "source": [
        "## 4. Data Analysis and Data Preprocessing"
      ]
    },
    {
      "cell_type": "code",
      "metadata": {
        "id": "H_e0-mILW__i",
        "colab": {
          "base_uri": "https://localhost:8080/",
          "height": 547
        },
        "outputId": "2933580c-1167-4504-8ea8-fca1338a1980"
      },
      "source": [
        "df.head(5)"
      ],
      "execution_count": null,
      "outputs": [
        {
          "output_type": "execute_result",
          "data": {
            "text/html": [
              "<div>\n",
              "<style scoped>\n",
              "    .dataframe tbody tr th:only-of-type {\n",
              "        vertical-align: middle;\n",
              "    }\n",
              "\n",
              "    .dataframe tbody tr th {\n",
              "        vertical-align: top;\n",
              "    }\n",
              "\n",
              "    .dataframe thead th {\n",
              "        text-align: right;\n",
              "    }\n",
              "</style>\n",
              "<table border=\"1\" class=\"dataframe\">\n",
              "  <thead>\n",
              "    <tr style=\"text-align: right;\">\n",
              "      <th></th>\n",
              "      <th>audioVersionDurationSec</th>\n",
              "      <th>codeBlock</th>\n",
              "      <th>codeBlockCount</th>\n",
              "      <th>collectionId</th>\n",
              "      <th>createdDate</th>\n",
              "      <th>createdDatetime</th>\n",
              "      <th>firstPublishedDate</th>\n",
              "      <th>firstPublishedDatetime</th>\n",
              "      <th>imageCount</th>\n",
              "      <th>isSubscriptionLocked</th>\n",
              "      <th>language</th>\n",
              "      <th>latestPublishedDate</th>\n",
              "      <th>latestPublishedDatetime</th>\n",
              "      <th>linksCount</th>\n",
              "      <th>postId</th>\n",
              "      <th>readingTime</th>\n",
              "      <th>recommends</th>\n",
              "      <th>responsesCreatedCount</th>\n",
              "      <th>socialRecommendsCount</th>\n",
              "      <th>subTitle</th>\n",
              "      <th>tagsCount</th>\n",
              "      <th>text</th>\n",
              "      <th>title</th>\n",
              "      <th>totalClapCount</th>\n",
              "      <th>uniqueSlug</th>\n",
              "      <th>updatedDate</th>\n",
              "      <th>updatedDatetime</th>\n",
              "      <th>url</th>\n",
              "      <th>vote</th>\n",
              "      <th>wordCount</th>\n",
              "      <th>publicationdescription</th>\n",
              "      <th>publicationdomain</th>\n",
              "      <th>publicationfacebookPageName</th>\n",
              "      <th>publicationfollowerCount</th>\n",
              "      <th>publicationname</th>\n",
              "      <th>publicationpublicEmail</th>\n",
              "      <th>publicationslug</th>\n",
              "      <th>publicationtags</th>\n",
              "      <th>publicationtwitterUsername</th>\n",
              "      <th>tag_name</th>\n",
              "      <th>slug</th>\n",
              "      <th>name</th>\n",
              "      <th>postCount</th>\n",
              "      <th>author</th>\n",
              "      <th>bio</th>\n",
              "      <th>userId</th>\n",
              "      <th>userName</th>\n",
              "      <th>usersFollowedByCount</th>\n",
              "      <th>usersFollowedCount</th>\n",
              "      <th>scrappedDate</th>\n",
              "    </tr>\n",
              "  </thead>\n",
              "  <tbody>\n",
              "    <tr>\n",
              "      <th>0</th>\n",
              "      <td>0</td>\n",
              "      <td>NaN</td>\n",
              "      <td>0.0</td>\n",
              "      <td>638f418c8464</td>\n",
              "      <td>2018-09-18</td>\n",
              "      <td>2018-09-18 20:55:34</td>\n",
              "      <td>2018-09-18</td>\n",
              "      <td>2018-09-18 20:57:03</td>\n",
              "      <td>1</td>\n",
              "      <td>False</td>\n",
              "      <td>en</td>\n",
              "      <td>2018-09-18</td>\n",
              "      <td>2018-09-18 20:58:20</td>\n",
              "      <td>1</td>\n",
              "      <td>10007d3018fe</td>\n",
              "      <td>0.958491</td>\n",
              "      <td>2</td>\n",
              "      <td>0</td>\n",
              "      <td>0</td>\n",
              "      <td>A major private IT company implements blockcha...</td>\n",
              "      <td>5</td>\n",
              "      <td>Private Business, Government and Blockchain\\n\\...</td>\n",
              "      <td>Private Business, Government and Blockchain</td>\n",
              "      <td>100</td>\n",
              "      <td>private-business-government-and-blockchain-100...</td>\n",
              "      <td>2018-09-18</td>\n",
              "      <td>2018-09-18 20:58:20</td>\n",
              "      <td>https://medium.com/s/story/private-business-go...</td>\n",
              "      <td>False</td>\n",
              "      <td>201</td>\n",
              "      <td>ICOBox is the first and the biggest new genera...</td>\n",
              "      <td>NaN</td>\n",
              "      <td>icobox.io</td>\n",
              "      <td>NaN</td>\n",
              "      <td>ICOBox</td>\n",
              "      <td>support@icobox.io</td>\n",
              "      <td>icobox-io</td>\n",
              "      <td>BLOCKCHAIN,ICO,ETHEREUM,ETHEREUM BLOCKCHAIN,TO...</td>\n",
              "      <td>icobox_io</td>\n",
              "      <td>Blockchain</td>\n",
              "      <td>blockchain</td>\n",
              "      <td>Blockchain</td>\n",
              "      <td>265164.0</td>\n",
              "      <td>Anar Babaev</td>\n",
              "      <td>NaN</td>\n",
              "      <td>f1ad85af0169</td>\n",
              "      <td>babaevanar</td>\n",
              "      <td>450.0</td>\n",
              "      <td>404.0</td>\n",
              "      <td>20181104</td>\n",
              "    </tr>\n",
              "    <tr>\n",
              "      <th>1</th>\n",
              "      <td>0</td>\n",
              "      <td>NaN</td>\n",
              "      <td>0.0</td>\n",
              "      <td>638f418c8464</td>\n",
              "      <td>2018-09-18</td>\n",
              "      <td>2018-09-18 20:55:34</td>\n",
              "      <td>2018-09-18</td>\n",
              "      <td>2018-09-18 20:57:03</td>\n",
              "      <td>1</td>\n",
              "      <td>False</td>\n",
              "      <td>en</td>\n",
              "      <td>2018-09-18</td>\n",
              "      <td>2018-09-18 20:58:20</td>\n",
              "      <td>1</td>\n",
              "      <td>10007d3018fe</td>\n",
              "      <td>0.958491</td>\n",
              "      <td>2</td>\n",
              "      <td>0</td>\n",
              "      <td>0</td>\n",
              "      <td>A major private IT company implements blockcha...</td>\n",
              "      <td>5</td>\n",
              "      <td>Private Business, Government and Blockchain\\n\\...</td>\n",
              "      <td>Private Business, Government and Blockchain</td>\n",
              "      <td>100</td>\n",
              "      <td>private-business-government-and-blockchain-100...</td>\n",
              "      <td>2018-09-18</td>\n",
              "      <td>2018-09-18 20:58:20</td>\n",
              "      <td>https://medium.com/s/story/private-business-go...</td>\n",
              "      <td>False</td>\n",
              "      <td>201</td>\n",
              "      <td>ICOBox is the first and the biggest new genera...</td>\n",
              "      <td>NaN</td>\n",
              "      <td>icobox.io</td>\n",
              "      <td>NaN</td>\n",
              "      <td>ICOBox</td>\n",
              "      <td>support@icobox.io</td>\n",
              "      <td>icobox-io</td>\n",
              "      <td>BLOCKCHAIN,ICO,ETHEREUM,ETHEREUM BLOCKCHAIN,TO...</td>\n",
              "      <td>icobox_io</td>\n",
              "      <td>Samsung</td>\n",
              "      <td>samsung</td>\n",
              "      <td>Samsung</td>\n",
              "      <td>5708.0</td>\n",
              "      <td>Anar Babaev</td>\n",
              "      <td>NaN</td>\n",
              "      <td>f1ad85af0169</td>\n",
              "      <td>babaevanar</td>\n",
              "      <td>450.0</td>\n",
              "      <td>404.0</td>\n",
              "      <td>20181104</td>\n",
              "    </tr>\n",
              "    <tr>\n",
              "      <th>2</th>\n",
              "      <td>0</td>\n",
              "      <td>NaN</td>\n",
              "      <td>0.0</td>\n",
              "      <td>638f418c8464</td>\n",
              "      <td>2018-09-18</td>\n",
              "      <td>2018-09-18 20:55:34</td>\n",
              "      <td>2018-09-18</td>\n",
              "      <td>2018-09-18 20:57:03</td>\n",
              "      <td>1</td>\n",
              "      <td>False</td>\n",
              "      <td>en</td>\n",
              "      <td>2018-09-18</td>\n",
              "      <td>2018-09-18 20:58:20</td>\n",
              "      <td>1</td>\n",
              "      <td>10007d3018fe</td>\n",
              "      <td>0.958491</td>\n",
              "      <td>2</td>\n",
              "      <td>0</td>\n",
              "      <td>0</td>\n",
              "      <td>A major private IT company implements blockcha...</td>\n",
              "      <td>5</td>\n",
              "      <td>Private Business, Government and Blockchain\\n\\...</td>\n",
              "      <td>Private Business, Government and Blockchain</td>\n",
              "      <td>100</td>\n",
              "      <td>private-business-government-and-blockchain-100...</td>\n",
              "      <td>2018-09-18</td>\n",
              "      <td>2018-09-18 20:58:20</td>\n",
              "      <td>https://medium.com/s/story/private-business-go...</td>\n",
              "      <td>False</td>\n",
              "      <td>201</td>\n",
              "      <td>ICOBox is the first and the biggest new genera...</td>\n",
              "      <td>NaN</td>\n",
              "      <td>icobox.io</td>\n",
              "      <td>NaN</td>\n",
              "      <td>ICOBox</td>\n",
              "      <td>support@icobox.io</td>\n",
              "      <td>icobox-io</td>\n",
              "      <td>BLOCKCHAIN,ICO,ETHEREUM,ETHEREUM BLOCKCHAIN,TO...</td>\n",
              "      <td>icobox_io</td>\n",
              "      <td>It</td>\n",
              "      <td>it</td>\n",
              "      <td>It</td>\n",
              "      <td>3720.0</td>\n",
              "      <td>Anar Babaev</td>\n",
              "      <td>NaN</td>\n",
              "      <td>f1ad85af0169</td>\n",
              "      <td>babaevanar</td>\n",
              "      <td>450.0</td>\n",
              "      <td>404.0</td>\n",
              "      <td>20181104</td>\n",
              "    </tr>\n",
              "    <tr>\n",
              "      <th>3</th>\n",
              "      <td>0</td>\n",
              "      <td>NaN</td>\n",
              "      <td>0.0</td>\n",
              "      <td>NaN</td>\n",
              "      <td>2018-01-07</td>\n",
              "      <td>2018-01-07 17:04:37</td>\n",
              "      <td>2018-01-07</td>\n",
              "      <td>2018-01-07 17:06:29</td>\n",
              "      <td>13</td>\n",
              "      <td>False</td>\n",
              "      <td>en</td>\n",
              "      <td>2018-01-07</td>\n",
              "      <td>2018-01-07 17:18:38</td>\n",
              "      <td>24</td>\n",
              "      <td>1000c43bcb97</td>\n",
              "      <td>19.716981</td>\n",
              "      <td>0</td>\n",
              "      <td>0</td>\n",
              "      <td>0</td>\n",
              "      <td>Introduction</td>\n",
              "      <td>5</td>\n",
              "      <td>EPQ draft 1 (4844 words)\\nhttps://upload.wikim...</td>\n",
              "      <td>EPQ draft 1 (4844 words)</td>\n",
              "      <td>0</td>\n",
              "      <td>introduction-3-1000c43bcb97</td>\n",
              "      <td>2018-01-07</td>\n",
              "      <td>2018-01-07 17:18:39</td>\n",
              "      <td>https://medium.com/s/story/introduction-3-1000...</td>\n",
              "      <td>False</td>\n",
              "      <td>4854</td>\n",
              "      <td>NaN</td>\n",
              "      <td>NaN</td>\n",
              "      <td>NaN</td>\n",
              "      <td>NaN</td>\n",
              "      <td>NaN</td>\n",
              "      <td>NaN</td>\n",
              "      <td>NaN</td>\n",
              "      <td>NaN</td>\n",
              "      <td>NaN</td>\n",
              "      <td>Technology</td>\n",
              "      <td>technology</td>\n",
              "      <td>Technology</td>\n",
              "      <td>166125.0</td>\n",
              "      <td>George Sykes</td>\n",
              "      <td>NaN</td>\n",
              "      <td>93b9e94f08ca</td>\n",
              "      <td>tasty231</td>\n",
              "      <td>6.0</td>\n",
              "      <td>22.0</td>\n",
              "      <td>20181104</td>\n",
              "    </tr>\n",
              "    <tr>\n",
              "      <th>4</th>\n",
              "      <td>0</td>\n",
              "      <td>NaN</td>\n",
              "      <td>0.0</td>\n",
              "      <td>NaN</td>\n",
              "      <td>2018-01-07</td>\n",
              "      <td>2018-01-07 17:04:37</td>\n",
              "      <td>2018-01-07</td>\n",
              "      <td>2018-01-07 17:06:29</td>\n",
              "      <td>13</td>\n",
              "      <td>False</td>\n",
              "      <td>en</td>\n",
              "      <td>2018-01-07</td>\n",
              "      <td>2018-01-07 17:18:38</td>\n",
              "      <td>24</td>\n",
              "      <td>1000c43bcb97</td>\n",
              "      <td>19.716981</td>\n",
              "      <td>0</td>\n",
              "      <td>0</td>\n",
              "      <td>0</td>\n",
              "      <td>Introduction</td>\n",
              "      <td>5</td>\n",
              "      <td>EPQ draft 1 (4844 words)\\nhttps://upload.wikim...</td>\n",
              "      <td>EPQ draft 1 (4844 words)</td>\n",
              "      <td>0</td>\n",
              "      <td>introduction-3-1000c43bcb97</td>\n",
              "      <td>2018-01-07</td>\n",
              "      <td>2018-01-07 17:18:39</td>\n",
              "      <td>https://medium.com/s/story/introduction-3-1000...</td>\n",
              "      <td>False</td>\n",
              "      <td>4854</td>\n",
              "      <td>NaN</td>\n",
              "      <td>NaN</td>\n",
              "      <td>NaN</td>\n",
              "      <td>NaN</td>\n",
              "      <td>NaN</td>\n",
              "      <td>NaN</td>\n",
              "      <td>NaN</td>\n",
              "      <td>NaN</td>\n",
              "      <td>NaN</td>\n",
              "      <td>Robotics</td>\n",
              "      <td>robotics</td>\n",
              "      <td>Robotics</td>\n",
              "      <td>9103.0</td>\n",
              "      <td>George Sykes</td>\n",
              "      <td>NaN</td>\n",
              "      <td>93b9e94f08ca</td>\n",
              "      <td>tasty231</td>\n",
              "      <td>6.0</td>\n",
              "      <td>22.0</td>\n",
              "      <td>20181104</td>\n",
              "    </tr>\n",
              "  </tbody>\n",
              "</table>\n",
              "</div>"
            ],
            "text/plain": [
              "   audioVersionDurationSec codeBlock  ...  usersFollowedCount scrappedDate\n",
              "0                        0       NaN  ...               404.0     20181104\n",
              "1                        0       NaN  ...               404.0     20181104\n",
              "2                        0       NaN  ...               404.0     20181104\n",
              "3                        0       NaN  ...                22.0     20181104\n",
              "4                        0       NaN  ...                22.0     20181104\n",
              "\n",
              "[5 rows x 50 columns]"
            ]
          },
          "metadata": {
            "tags": []
          },
          "execution_count": 38
        }
      ]
    },
    {
      "cell_type": "code",
      "metadata": {
        "id": "kBFHRf9hbwTE",
        "colab": {
          "base_uri": "https://localhost:8080/",
          "height": 34
        },
        "outputId": "3d87b9fb-697e-4cce-c439-3ee0a366d636"
      },
      "source": [
        "df.shape"
      ],
      "execution_count": null,
      "outputs": [
        {
          "output_type": "execute_result",
          "data": {
            "text/plain": [
              "(279577, 50)"
            ]
          },
          "metadata": {
            "tags": []
          },
          "execution_count": 39
        }
      ]
    },
    {
      "cell_type": "markdown",
      "metadata": {
        "id": "7uhgGJYHFYEJ"
      },
      "source": [
        "### 4.1 Feature Elimination\n",
        "The features in train set, which are not present (and not derivable) in (from) the test set, are being eliminated. The features \"wordCount\" and \"responsesCreatedCount\" in the train set correspond to the featues \"Length\" and \"Responses\" respectively in the test set. Since these features are already available for the test data, they will be also kept in the train set. The \"totalClapCount\" is the target variable to be predicted. The variable \"language\" is already present in the train set, but not in the test set. Since the task is NLP, it is important to examine the language an entry is written in. Thus, the variable \"language\" will be also derived for the test set (shown in section 8, subection \"Feature Elimination and Extraction\")."
      ]
    },
    {
      "cell_type": "code",
      "metadata": {
        "id": "fLQD56RPDJ3v"
      },
      "source": [
        "df_reduced = df[[\"language\",\"text\", \"totalClapCount\", \"wordCount\", \"responsesCreatedCount\"]]"
      ],
      "execution_count": null,
      "outputs": []
    },
    {
      "cell_type": "code",
      "metadata": {
        "id": "Kksxac9YrmxX",
        "colab": {
          "base_uri": "https://localhost:8080/",
          "height": 204
        },
        "outputId": "16138477-b8ea-4a38-f1c3-c3e5bf5e59ae"
      },
      "source": [
        "df_reduced.head(5)"
      ],
      "execution_count": null,
      "outputs": [
        {
          "output_type": "execute_result",
          "data": {
            "text/html": [
              "<div>\n",
              "<style scoped>\n",
              "    .dataframe tbody tr th:only-of-type {\n",
              "        vertical-align: middle;\n",
              "    }\n",
              "\n",
              "    .dataframe tbody tr th {\n",
              "        vertical-align: top;\n",
              "    }\n",
              "\n",
              "    .dataframe thead th {\n",
              "        text-align: right;\n",
              "    }\n",
              "</style>\n",
              "<table border=\"1\" class=\"dataframe\">\n",
              "  <thead>\n",
              "    <tr style=\"text-align: right;\">\n",
              "      <th></th>\n",
              "      <th>language</th>\n",
              "      <th>text</th>\n",
              "      <th>totalClapCount</th>\n",
              "      <th>wordCount</th>\n",
              "      <th>responsesCreatedCount</th>\n",
              "    </tr>\n",
              "  </thead>\n",
              "  <tbody>\n",
              "    <tr>\n",
              "      <th>0</th>\n",
              "      <td>en</td>\n",
              "      <td>Private Business, Government and Blockchain\\n\\...</td>\n",
              "      <td>100</td>\n",
              "      <td>201</td>\n",
              "      <td>0</td>\n",
              "    </tr>\n",
              "    <tr>\n",
              "      <th>1</th>\n",
              "      <td>en</td>\n",
              "      <td>Private Business, Government and Blockchain\\n\\...</td>\n",
              "      <td>100</td>\n",
              "      <td>201</td>\n",
              "      <td>0</td>\n",
              "    </tr>\n",
              "    <tr>\n",
              "      <th>2</th>\n",
              "      <td>en</td>\n",
              "      <td>Private Business, Government and Blockchain\\n\\...</td>\n",
              "      <td>100</td>\n",
              "      <td>201</td>\n",
              "      <td>0</td>\n",
              "    </tr>\n",
              "    <tr>\n",
              "      <th>3</th>\n",
              "      <td>en</td>\n",
              "      <td>EPQ draft 1 (4844 words)\\nhttps://upload.wikim...</td>\n",
              "      <td>0</td>\n",
              "      <td>4854</td>\n",
              "      <td>0</td>\n",
              "    </tr>\n",
              "    <tr>\n",
              "      <th>4</th>\n",
              "      <td>en</td>\n",
              "      <td>EPQ draft 1 (4844 words)\\nhttps://upload.wikim...</td>\n",
              "      <td>0</td>\n",
              "      <td>4854</td>\n",
              "      <td>0</td>\n",
              "    </tr>\n",
              "  </tbody>\n",
              "</table>\n",
              "</div>"
            ],
            "text/plain": [
              "  language  ... responsesCreatedCount\n",
              "0       en  ...                     0\n",
              "1       en  ...                     0\n",
              "2       en  ...                     0\n",
              "3       en  ...                     0\n",
              "4       en  ...                     0\n",
              "\n",
              "[5 rows x 5 columns]"
            ]
          },
          "metadata": {
            "tags": []
          },
          "execution_count": 41
        }
      ]
    },
    {
      "cell_type": "code",
      "metadata": {
        "id": "ttSWgolmFsGG"
      },
      "source": [
        "# rename the columns to match the ones of the test set \n",
        "df_reduced = df_reduced.rename(columns={\"text\": \"Text\",\"totalClapCount\": \"Claps\", \"wordCount\": \"Length\", \"responsesCreatedCount\": \"Responses\"})"
      ],
      "execution_count": null,
      "outputs": []
    },
    {
      "cell_type": "code",
      "metadata": {
        "id": "OQhzvr3cV8pn",
        "colab": {
          "base_uri": "https://localhost:8080/",
          "height": 204
        },
        "outputId": "e8ed8c12-c4b8-4eb1-face-8b8e116c5e93"
      },
      "source": [
        "df_reduced.head(5)"
      ],
      "execution_count": null,
      "outputs": [
        {
          "output_type": "execute_result",
          "data": {
            "text/html": [
              "<div>\n",
              "<style scoped>\n",
              "    .dataframe tbody tr th:only-of-type {\n",
              "        vertical-align: middle;\n",
              "    }\n",
              "\n",
              "    .dataframe tbody tr th {\n",
              "        vertical-align: top;\n",
              "    }\n",
              "\n",
              "    .dataframe thead th {\n",
              "        text-align: right;\n",
              "    }\n",
              "</style>\n",
              "<table border=\"1\" class=\"dataframe\">\n",
              "  <thead>\n",
              "    <tr style=\"text-align: right;\">\n",
              "      <th></th>\n",
              "      <th>language</th>\n",
              "      <th>Text</th>\n",
              "      <th>Claps</th>\n",
              "      <th>Length</th>\n",
              "      <th>Responses</th>\n",
              "    </tr>\n",
              "  </thead>\n",
              "  <tbody>\n",
              "    <tr>\n",
              "      <th>0</th>\n",
              "      <td>en</td>\n",
              "      <td>Private Business, Government and Blockchain\\n\\...</td>\n",
              "      <td>100</td>\n",
              "      <td>201</td>\n",
              "      <td>0</td>\n",
              "    </tr>\n",
              "    <tr>\n",
              "      <th>1</th>\n",
              "      <td>en</td>\n",
              "      <td>Private Business, Government and Blockchain\\n\\...</td>\n",
              "      <td>100</td>\n",
              "      <td>201</td>\n",
              "      <td>0</td>\n",
              "    </tr>\n",
              "    <tr>\n",
              "      <th>2</th>\n",
              "      <td>en</td>\n",
              "      <td>Private Business, Government and Blockchain\\n\\...</td>\n",
              "      <td>100</td>\n",
              "      <td>201</td>\n",
              "      <td>0</td>\n",
              "    </tr>\n",
              "    <tr>\n",
              "      <th>3</th>\n",
              "      <td>en</td>\n",
              "      <td>EPQ draft 1 (4844 words)\\nhttps://upload.wikim...</td>\n",
              "      <td>0</td>\n",
              "      <td>4854</td>\n",
              "      <td>0</td>\n",
              "    </tr>\n",
              "    <tr>\n",
              "      <th>4</th>\n",
              "      <td>en</td>\n",
              "      <td>EPQ draft 1 (4844 words)\\nhttps://upload.wikim...</td>\n",
              "      <td>0</td>\n",
              "      <td>4854</td>\n",
              "      <td>0</td>\n",
              "    </tr>\n",
              "  </tbody>\n",
              "</table>\n",
              "</div>"
            ],
            "text/plain": [
              "  language  ... Responses\n",
              "0       en  ...         0\n",
              "1       en  ...         0\n",
              "2       en  ...         0\n",
              "3       en  ...         0\n",
              "4       en  ...         0\n",
              "\n",
              "[5 rows x 5 columns]"
            ]
          },
          "metadata": {
            "tags": []
          },
          "execution_count": 43
        }
      ]
    },
    {
      "cell_type": "code",
      "metadata": {
        "id": "IpWWJ0ZAHQ3O",
        "colab": {
          "base_uri": "https://localhost:8080/",
          "height": 34
        },
        "outputId": "92eabba3-5a5b-4323-c446-50061e2b1c2c"
      },
      "source": [
        "df_reduced.shape"
      ],
      "execution_count": null,
      "outputs": [
        {
          "output_type": "execute_result",
          "data": {
            "text/plain": [
              "(279577, 5)"
            ]
          },
          "metadata": {
            "tags": []
          },
          "execution_count": 44
        }
      ]
    },
    {
      "cell_type": "markdown",
      "metadata": {
        "id": "aunFAVMmFDhG"
      },
      "source": [
        "As it can be seen in the output of the next cell, the train set contains entries written in many languages. However, the biggest part of the observations is written in English. \n",
        "\n",
        "There are multiple alternatives to deal with the multiple languages.  \n",
        "\n",
        "1.   One alternative would be to use the **googletrans** library, which allows using the Google Translate API in Python. This way, all entries could be translated in English and the original language could be kept as an independent variable. The benefit of this alternative is that it raises no questions regarding the languages the used embeddings support. However, the problem with this approach is that the API is not completely stable, meaning some of the entries are translated successfully and others not, since the Translater doesn't recognize the language and respectively doesn't execute the translation. The problem is shown two cells lower via a demonstration of a successfully translated entry and an unchanged one. Shortly, this approach is the most efficient one if one has the resources (the Google Translate paid API e.g., which is more stable and consistent). \n",
        "2.   Another alternative would be to keep all entries in their original languages or to drop the ones in languages, whose frequency is low in the set (meaning amount below a certain threshold: e.g. drop all entries, which are in a language which has been used for less han 1000 entries). As a next step, embeddings which support all kept languages must be used (or multiple embedding layers, each supporting one language and processing entries in thie language only). Also, a collection of stopwords for each of the languages must be created. The latter can be done using the library **stopwordsiso**, which contains stop words for numerous languages. Before eventually deciding which languages to keep, it is important to look at the test set (and estimate whether the language variety is so high, that it justifies a very high dimensional, computationally expensive embedding matrix or multiple embedding layers). The languages in the test set can be derived using the library **textblob**. This package supports functions like language detection and translation. The library is more stable and consistent than the free Google API. However, it has limited free usability, meaning it can only be used for a limited amount of detections/translations (1100 requests per IP address). This would be sufficient to translate the entries in the test set, but deifinitely not sufficient to translate the non-English (not even only for the Spanish entries, which is the second most used language after English) entries in the train set. The usage of this library will be demonstrated later in section 8, subsection Feature Elimination and Extraction. As a result, it can be seen that the test set only contains 3 observations in a language different than English. These three observations can be easily translated in English. Due both to the technically conditioned impossibility of translating a reasonable amount of non-English entries and the fact that the test set will eventually contain only English entries (which invalidates the need of multilingual embeddings), the non-English entries will be dropped. Part of the train data gets lost like this and the variable language is not useful anymore, both of which problems could in general be avoided if having the necessary resources (i.e. stable, consistent python-compatible translation libray with no limitations). Since the current model will be an English NLP Model, it is essential to look at the entries (and their languages) in the test data first, each time the model is applied on new real life unseen data. \n",
        "\n"
      ]
    },
    {
      "cell_type": "code",
      "metadata": {
        "id": "HJPGrGvN6qBX",
        "colab": {
          "base_uri": "https://localhost:8080/",
          "height": 918
        },
        "outputId": "6000f319-404d-4cd6-dfe0-3d37e9102ddf"
      },
      "source": [
        "# check all languages present in the textual data\n",
        "df_reduced[\"language\"].value_counts()"
      ],
      "execution_count": null,
      "outputs": [
        {
          "output_type": "execute_result",
          "data": {
            "text/plain": [
              "en         257655\n",
              "es           3714\n",
              "pt           3518\n",
              "zh-Hant      2703\n",
              "fr           2035\n",
              "tr           1558\n",
              "ru           1220\n",
              "th           1217\n",
              "ja           1035\n",
              "it            851\n",
              "id            750\n",
              "ko            672\n",
              "de            404\n",
              "un            344\n",
              "zh            338\n",
              "vi            306\n",
              "nl            272\n",
              "sv            185\n",
              "pl            110\n",
              "cs             87\n",
              "bn             82\n",
              "no             60\n",
              "ar             45\n",
              "da             39\n",
              "is             38\n",
              "my             34\n",
              "uk             33\n",
              "mn             25\n",
              "el             25\n",
              "hi             23\n",
              "la             23\n",
              "si             21\n",
              "ka             15\n",
              "lo             15\n",
              "bg             14\n",
              "sk             12\n",
              "fa             12\n",
              "ro             11\n",
              "ca              9\n",
              "nn              9\n",
              "sr              8\n",
              "ms              7\n",
              "hu              7\n",
              "lv              5\n",
              "az              5\n",
              "ml              5\n",
              "mk              4\n",
              "fi              4\n",
              "lt              4\n",
              "mr              3\n",
              "sl              3\n",
              "te              3\n",
              "Name: language, dtype: int64"
            ]
          },
          "metadata": {
            "tags": []
          },
          "execution_count": 45
        }
      ]
    },
    {
      "cell_type": "code",
      "metadata": {
        "id": "aCb4J_hBZhae",
        "colab": {
          "base_uri": "https://localhost:8080/",
          "height": 419
        },
        "outputId": "96cf20e9-d1c2-457f-b8e3-c13c3984d02d"
      },
      "source": [
        "df_lang = df[[\"language\", \"text\"]]\n",
        "df_lang[df_lang.language == \"fr\"]"
      ],
      "execution_count": null,
      "outputs": [
        {
          "output_type": "execute_result",
          "data": {
            "text/html": [
              "<div>\n",
              "<style scoped>\n",
              "    .dataframe tbody tr th:only-of-type {\n",
              "        vertical-align: middle;\n",
              "    }\n",
              "\n",
              "    .dataframe tbody tr th {\n",
              "        vertical-align: top;\n",
              "    }\n",
              "\n",
              "    .dataframe thead th {\n",
              "        text-align: right;\n",
              "    }\n",
              "</style>\n",
              "<table border=\"1\" class=\"dataframe\">\n",
              "  <thead>\n",
              "    <tr style=\"text-align: right;\">\n",
              "      <th></th>\n",
              "      <th>language</th>\n",
              "      <th>text</th>\n",
              "    </tr>\n",
              "  </thead>\n",
              "  <tbody>\n",
              "    <tr>\n",
              "      <th>1382</th>\n",
              "      <td>fr</td>\n",
              "      <td>Mission Villani et les communautés de partage ...</td>\n",
              "    </tr>\n",
              "    <tr>\n",
              "      <th>1383</th>\n",
              "      <td>fr</td>\n",
              "      <td>Mission Villani et les communautés de partage ...</td>\n",
              "    </tr>\n",
              "    <tr>\n",
              "      <th>1384</th>\n",
              "      <td>fr</td>\n",
              "      <td>Mission Villani et les communautés de partage ...</td>\n",
              "    </tr>\n",
              "    <tr>\n",
              "      <th>1385</th>\n",
              "      <td>fr</td>\n",
              "      <td>Mission Villani et les communautés de partage ...</td>\n",
              "    </tr>\n",
              "    <tr>\n",
              "      <th>1386</th>\n",
              "      <td>fr</td>\n",
              "      <td>Mission Villani et les communautés de partage ...</td>\n",
              "    </tr>\n",
              "    <tr>\n",
              "      <th>...</th>\n",
              "      <td>...</td>\n",
              "      <td>...</td>\n",
              "    </tr>\n",
              "    <tr>\n",
              "      <th>279251</th>\n",
              "      <td>fr</td>\n",
              "      <td>Photo by Olga DeLawrence on Unsplash\\nComment ...</td>\n",
              "    </tr>\n",
              "    <tr>\n",
              "      <th>279252</th>\n",
              "      <td>fr</td>\n",
              "      <td>Photo by Olga DeLawrence on Unsplash\\nComment ...</td>\n",
              "    </tr>\n",
              "    <tr>\n",
              "      <th>279253</th>\n",
              "      <td>fr</td>\n",
              "      <td>Photo by Olga DeLawrence on Unsplash\\nComment ...</td>\n",
              "    </tr>\n",
              "    <tr>\n",
              "      <th>279254</th>\n",
              "      <td>fr</td>\n",
              "      <td>Photo by Olga DeLawrence on Unsplash\\nComment ...</td>\n",
              "    </tr>\n",
              "    <tr>\n",
              "      <th>279255</th>\n",
              "      <td>fr</td>\n",
              "      <td>Photo by Olga DeLawrence on Unsplash\\nComment ...</td>\n",
              "    </tr>\n",
              "  </tbody>\n",
              "</table>\n",
              "<p>2035 rows × 2 columns</p>\n",
              "</div>"
            ],
            "text/plain": [
              "       language                                               text\n",
              "1382         fr  Mission Villani et les communautés de partage ...\n",
              "1383         fr  Mission Villani et les communautés de partage ...\n",
              "1384         fr  Mission Villani et les communautés de partage ...\n",
              "1385         fr  Mission Villani et les communautés de partage ...\n",
              "1386         fr  Mission Villani et les communautés de partage ...\n",
              "...         ...                                                ...\n",
              "279251       fr  Photo by Olga DeLawrence on Unsplash\\nComment ...\n",
              "279252       fr  Photo by Olga DeLawrence on Unsplash\\nComment ...\n",
              "279253       fr  Photo by Olga DeLawrence on Unsplash\\nComment ...\n",
              "279254       fr  Photo by Olga DeLawrence on Unsplash\\nComment ...\n",
              "279255       fr  Photo by Olga DeLawrence on Unsplash\\nComment ...\n",
              "\n",
              "[2035 rows x 2 columns]"
            ]
          },
          "metadata": {
            "tags": []
          },
          "execution_count": 47
        }
      ]
    },
    {
      "cell_type": "markdown",
      "metadata": {
        "id": "YN5sWd2AF_u4"
      },
      "source": [
        "A brief illustration of Google Translate API's stability problem mentioned above "
      ]
    },
    {
      "cell_type": "code",
      "metadata": {
        "id": "1LANjeKjT0Dx",
        "colab": {
          "base_uri": "https://localhost:8080/",
          "height": 137
        },
        "outputId": "847f5d34-3aca-461f-8be5-51de945cbdfd"
      },
      "source": [
        "translator = Translator()\n",
        "translated_n = translator.translate(df_lang.text.loc[1382])\n",
        "translated_n.text # unsuccessful translation"
      ],
      "execution_count": null,
      "outputs": [
        {
          "output_type": "execute_result",
          "data": {
            "application/vnd.google.colaboratory.intrinsic+json": {
              "type": "string"
            },
            "text/plain": [
              "'Mission Villani et les communautés de partage de l’Intelligence Artificielle\\nLes communautés françaises de l’IA participent à la Mission Villani. En partant de la gauche, Anastasia Lieva, Olivier Guillaume, Franck Bardol, Olivier Raffard, Damien Gromier, Igor Carron, Alexia Audevart, Anil Narassiguin, Cedric Villani\\nLe 18 janvier 2018, la Mission Villani a souhaité rencontrer les fondateurs des communautés françaises de l’Intelligence Artificielle (IA) et du Machine Learning (ML).\\nA cette occasion cet article décrit les communautés françaises IA & ML.\\nAprès une très bref exposé des notions principales de l’IA.\\nIl précise ensuite comment ces communautés auto-organisées diffusent l’information et la connaissance plus rapidement et efficacement que les structures hiérarchiques classiques.\\nIl éclaire enfin sur leur apport à la compréhension des bouleversements technologiques en cours.\\nIA et Machine Learning de quoi parle-t-on ?\\nL’intelligence Artificielle est née au milieu des années 50 dans les universités américaines.\\nLe souhait des pères fondateurs de l’IA (John Mc Carthy, Marvin Minsky, Allen Newell, Herbert Simon, et Claude Shannon) en s’appuyant sur les travaux de Alan Turing étaient de reproduire la pensée humaine à l’aide d’un ordinateur. L’objectif de ces pionniers était alors de résoudre des problèmes totalement hors de portée des ordinateurs programmés avec des programmes figés.\\nLes pères de l’IA\\nCet effort de recherche a par la suite donné naissance à plusieurs courants explorant chacun des voies distinctes.\\nQuelles sont les approches possible pour composer une IA ?\\nTrès brièvement, deux courants principaux ont émergés.\\nLe premier dit “symbolique” a cherché un ensemble de règles, d’enchainements de déductions qui permettraient d’imiter la pensée humaine afin de résoudre des problèmes par la logique formelle.\\nLe second dit “numérique” ou “connexioniste” utilise des calculs statistiques et mathématiques complexes pour faire émerger des connaissances et des décisions à partir d’un océan de données massives (Big Data).\\nC’est cette seconde approche qui triomphe actuellement et qui semble avoir terrassée — provisoirement — sa rivale en donnant naissance au Machine Learning puis au Deep Learning.\\nLe Machine Learning découvre automatiquement des règles générales en observant des exemples particuliers.\\nDécouvertes de règles par une IA à partir d’exemples\\nLa puissance de calcul gigantesque rendu disponible à un prix dérisoire permet d’injecter des milliards d’observations dans ces moteurs de corrélations complexes afin d’en tirer un portrait général; en ombre chinoise pourrait-on dire.\\nCeci a donné naissance à une science sans théorie. Une science “à la Google” qui renverse la table du cheminement de la pensée humaine classique.\\nC’est-à-dire, hypothèses -> théorie -> vérification avec des exemples (Data).\\nC’est un profond changement de paradigme auquel on assiste.\\nLe gagnant de la course qui débute sous nos yeux est celui qui dispose du plus grand volume d’exemples (Big Data) afin de nourrir les algorithmes d’Intelligence Artificielle qui en extrairont les règles et les généralités cachées.\\nC’est-à-dire, Big Data -> Intelligence Artificielle -> règles.\\n“Le gagnant est celui qui dispose du plus de données, pas du meilleur algorithme” , Peter Norving (Directeur ingénierie @ Google)\\nPeter Norving\\nL’IA provoque une interrogation planétaire sur les bouleversements à venir\\nL’IA connaît aujourd’hui un écho considérable et suscite des craintes et des interrogations jusque dans les milieux politiques.\\nEn effet, ces dernières années ont vu apparaître des réalisations tangibles qui semblaient totalement irréalisables il y a encore peu.\\nDes programmes intelligents parviennent à supplanter l’homme dans des activités qui lui étaient jusqu’alors réservées (reconnaissance visuelle, écriture automatique d’articles, véhicules sans chauffeur, ventes prédictives, robot de conversation, traduction automatique…).\\nDes pans entiers de l’économie sont bouleversés par l’arrivée d’acteurs maîtrisant parfaitement ces nouveaux outils.\\nToutes les industries sont très fortement impactées par ces technologies déstabilisatrices des forces existantes.\\nRobots @ Amazon\\nL’âge d’or du reporting et de la business intelligence tourné vers le passé cède définitivement le pas aux technologies prédictives appuyées sur le Big Data.\\nLa compréhension de ces nouveaux outils technologiques s’avère désormais être un enjeu crucial pour les décideurs du monde de l’entreprise.\\nLes gouvernements ne sont pas en reste sur l’inquiétude suscitée par le raz-de-marée technologique. Tous les pays développés (GB, USA, Union Européenne) essaient de prévoir quel impact aura l’IA sur nos sociétés.\\nEn France, la mission Villani a été chargée par le premier Ministre d’apporter des préconisations et des enseignements sur le sujet.\\nPour ce faire, la mission Villani rencontre les experts du domaine afin de dresser un panorama complet et de répondre aux interrogations de la puissance public.\\nC’est à ce titre, que les fondateurs des communautés ouvertes de l’IA ont été reçus le 18 janvier par M. le député et Président de l’OPECST Cédric Villani et les membres de sa mission parlementaire.\\nLa rencontre a vu le jour en grande partie grâce aux efforts de FranceIsAI. Cette association oeuvre à l’émergence et à la coordination des communautés IA françaises.\\nLa France à la pointe des communautés ouvertes de partage des connaissances d’Intelligence Artificielle\\nLes communautés françaises de Data Science ont émergées depuis maintenant plusieurs années. Elles communiquent et s’organisent la plupart via une plateforme de rencontre fondée sur les intérêts communs de ses membres (meetup.com).\\nCes communautés adoptent un système ouvert (inscriptions non filtrées ni soumises à agrément), gratuit, hiérarchiquement plat et participatif.\\nC’est-à-dire l’inverse opposé des clubs ou des conférences classiques existantes par ailleurs (droit d’accès, cooptation et paiement d’un droit d’entrée).\\n\\nCe mode d’interaction participe aux types de collaboration qui émergent à l’heure des communautés digitales. Le même modèle a fondé le mouvement Open Source.\\nLe maître mot des communautés qui voit leur essor amplifié par l’internet est l’absence de structures contraignantes mais surtout l’absence d’impulsion descendante des sociétés classiques (relation hiérarchique d’autorité). Ici il n’y a ni organisation pyramidale ni impulsion centralisée.\\nC’est bien en partant du bas (bottom-up) que les Data-Scientists se sont regroupés spontanément et sans attendre d’impulsions venant d’en haut (top-down).\\nL’ensemble des communautés françaises regroupe 15 000 membres et a des structures dans toutes les villes importantes de France (Paris, Toulouse, Montpellier, Lyon, Bordeaux, Marseille, Nantes, Mulhouse, Rennes …).\\nSouvent, plusieurs communautés co-existent dans une même ville. Elles se distinguent en se spécialisant dans l’exploration d’une branche ou d’une technique particulière (analyse du langage naturel par les ordinateurs, moteurs de recommandation, etc). A Paris, il y a une centaine de groupes actifs en la matière.\\nIl faut noter que la communauté parisienne du nom “Paris Machine Learning” est la plus importante d’Europe avec 6 500 membres et la 4 ème au monde après San-Francisco, New-York et Bombay.\\nUne réunion du groupe parisien “Paris Machine Learning”\\nUne représentation mondiale des Data-Scientist\\nIl est intéressant de constater que des communautés similaires existent partout de part le monde. Le même schéma d’organisation est apparu dans bon nombre de pays et de continent (Europe, Russie, Etats-Unis, Inde et Asie).\\nAinsi le même désir de se regrouper en communauté d’intérêt est à l’oeuvre quel que soit le pays, la langue et la culture.\\nOn assiste à l’émergence d’une représentation mondiale de groupes de Data Science fondée sur le partage des connaissances d’Intelligence Artificielle.\\nLe besoin de formation et la compréhension de ces technologiques n’est pas comblé par les structures traditionnelles\\nL’irruption récente de l’Intelligence Artificielle dans le débat universitaire génère une très forte attente de tous les acteurs.\\nLes cadres et managers d’entreprises cherchent à démêler les fils de ces techniques qui leur paraissent parfois obscurse. Les étudiants (y compris ceux des écoles les plus prestigieuses) ne veulent pas rester à la traine et souhaitent maîtriser tous les aspects de méthodes qui leur assureront un emploi bien rémunéré.\\nune réunion du groupe parisien “Paris Machine Learning”\\nEn face, les écoles d’ingénieurs et toutes les structures de formation continue sont restés longtemps absentes de ce champ. C’est moins vrai désormais. Beaucoup d’écoles d’ingénieurs et universités incluent dans leur cycle des formations orientées Big Data, Intelligence Artificielle et Machine Learning.\\nNéanmoins, l’accélération prodigieuse du rythme d’apparition de technologies déstabilisantes provoque un besoin de formation et une soif de compréhension immédiate. Ceci n’est pas en adéquation avec le rythme classique des formations longues qui durent pour la plupart cinq années (Master) voir les doctorats universitaires qui s’étalent encore plus longtemps.\\nC’est probablement le moteur essentiel des communautés IA & ML dont on parle ici.\\nSavoir et comprendre tout de suite ce qui est en train de se jouer et qui chamboule l’économie et la société sans attendre plusieurs années en suivant le rythme des cycles d’enseignement traditionnel.\\nEn face de cette demande de connaissances il y a une offre d’expertise tout aussi abondante.\\nPouvoir exposer les résultats des dernières recherches et les méthodes des entreprises les plus en pointe\\nFace à ce besoin de compréhension, les membres de ces communautés qui ont des résultats tangibles en appliquant des techniques et des méthodes d’Intelligence Artificielle les partage au groupe en de courts exposés de 20 minutes.\\nChaque réunion voit se succéder 3 à 4 intervenants issus de toutes les sphères du monde économiques (start up, grands groupes) mais aussi des chercheurs du monde académique.\\nUne sélection de corporates venus exposer aux membres du Paris Machine Learning\\nLe défi est de donner une intuition et des pistes de réflexions au plus grand nombre sans forcément rentrer dans les détails techniques qui masquent l’essentiel du propos.\\nAinsi, après chaque rencontre les membres repartent avec des méthodes concrètes qui leur permettront eux-mêmes de faire face et de résoudre des problèmes d’ampleur.\\nEn résumé, un intervenant = un problème ET une solution pour le résoudre.\\nCertains de ces groupes filment les exposés et le mettent en libre accès sur YouTube.\\nVenir rencontrer les meilleurs talents pour un recrutement rapide et efficace\\nLes recruteurs ont très tôt compris l’intérêt de ces réunions. Pouvoir approcher dans le même lieu les profils les plus pointus en matière d’Intelligence Artificielle et de Machine Learning leur épargnent un long travail de prospection.\\nNetworking après les exposées (“Paris Machine Learning”)\\nLes discussions qui ont lieu après les exposés leur permettent également de juger l’importance de tel ou tel technique afin d’affiner leur recherche de candidat et bien sur de rencontrer les cerveaux qui vont les programmer.\\nDes interactions fructueuses entre les membres\\nOn conclura ce bref tour d’horizon du fonctionnement de ces groupes de partage d’algorithmes par les interactions qui naissent entre les membres lors des réunions.\\nOn ne compte plus le nombre de start-ups dont les membres se sont rencontrés lors de ces réunions, des étudiants de doctorat y trouvent des sujets et des directeurs de recherche.\\nDes hackathons sont régulièrement organisés. Ce sont des sprints de codage informatique organisés autour d’un thème et qui durent le temps d’un week-end ou d’une soirée. Le but est d’élaborer un prototype viable et opérationnel afin de résoudre un problème précis.\\nAinsi, parmi les défis que l’ensemble des communautés françaises ont explorés figurent “vaincre le cancer” (challenge Epidemium), “Intelligence Artificielle sur des données cryptées” (challenge openMined), “génération automatique d’algorithmes d’Intelligence Artificielle” (challenge Auto-ML), “Data for Good” .\\nHackathon Auto-ML\\nCe qui frappe dans cette liste de sujets d’attention des Data-Scientists est l’ambition de confronter les solutions d’Intelligence Artificielle à des problèmes d’ampleur qui touchent tout à chacun.\\n“les solutions classiques ne fonctionnent pas. Laissez nous essayer avec nos méthodes”. Tel est le mot d’ordre rappelé par un participant.\\nEn définitive, les Data-Scientists experts ou simplement curieux se sont regroupés spontanément en communauté de partage. Les groupes les plus importants comptent plusieurs milliers de membres. L’ensemble de ces communautés fédèrent la majorité des Data-Scientist français. Les groupes français sont parmi les plus importants au monde.\\nLes mêmes regroupements sont à l’oeuvre sur tous les continents.\\nLe fonctionnement de ces communautés de partage obéit à une structure plate, non hiérarchique qui privilégie les interactions entre ses membres (bottom-up) sans besoin d’injonctions autoritaire, centralisée (top-down).\\nParmi ce qui lie et motive les participants est l’accès aux dernières recherches les plus pointues.\\nLa volonté de savoir, comprendre et maîtriser immédiatement les techniques qui sont en train de changer le fonctionnement de secteurs économiques entiers sans attendre la longueur d’un cycle d’enseignement classique. Ainsi que le plaisir d’échanger avec ses pairs.\\nDu bas à gauche vers la droite, Anastasia Lieva, Damien Gromier, Olivier Guillaume, Cedric Villani, Franck Bardol, Olivier Raffard, Igor Carron, Anil Narassiguin et Alexia Audevart\\nL’auteur :\\nFranck Bardol,\\nco-Fondateur et co-organisateur du “Paris Machine Learning”\\nProfesseur associé en grande école, algorithmie & programmation\\nFormateur Big Data Marketing Digital, Machine Learning, Intelligence Artificielle, Programmation, …\\nTech Mentor, evangelist\\nEn savoir plus sur les meetups IA & Machine Learning :\\nExcellent numéro spécial IA de l’abcedaire des institutions, numéro 110, l’IA jusqu’à où ?\\nRapport du Sénat et de l’Assemblée Nationale, Pour une Intelligence Artificielle maîtrisée, utile et démystifiée\\n'"
            ]
          },
          "metadata": {
            "tags": []
          },
          "execution_count": 51
        }
      ]
    },
    {
      "cell_type": "code",
      "metadata": {
        "id": "iNgnim57Y67e",
        "colab": {
          "base_uri": "https://localhost:8080/",
          "height": 137
        },
        "outputId": "9d96e742-7101-486a-f4d1-db96b2c5ef3a"
      },
      "source": [
        "translated_y = translator.translate(df_lang.text.loc[1387])\n",
        "translated_y.text #successful translation"
      ],
      "execution_count": null,
      "outputs": [
        {
          "output_type": "execute_result",
          "data": {
            "application/vnd.google.colaboratory.intrinsic+json": {
              "type": "string"
            },
            "text/plain": [
              "\"Extension of the routine domain\\n\\nRoutine is a foundation of the management of large organizations. When Frederick Taylor first became interested in job optimization in steel companies in the late 19th century, he particularly focused on the more repetitive and easy-to-quantify jobs. It was indeed these tasks, the most routine, that lent themselves best to his innovative approach: the scientific organization of work.\\nThe productivity gains made possible by the Taylorist approach have caused a revolution in the world of production. Routine tasks, because they were the easiest to integrate into the scientific organization of work, have become the most attractive to companies and workers alike. On the business side, managers appreciated routine because it made it possible to make workers interchangeable and generate considerable performance gains. Workers, for their part, readily embraced routine trades because the productivity gains generated in the field of routine tasks were partly redistributed to them in the form of better working conditions (job security, higher wages, more social protection. generous).\\nRoutine has become so value-creating for businesses and workers alike that we have started investing in routinizing as many tasks as possible. The world of services has moved closer to the industry with the standardization of tasks, the standardization of service rendered and the possibility of growing service businesses on an unprecedented scale. In the second half of the twentieth century, a time of the triumph of production and mass consumption, the whole economy seemed to become routine.\\nSome tasks, of course, resisted routine. But companies have found tricks. In the retail trade, routine has been imposed by eliminating counters. Customers have become accustomed to helping themselves from the shelves and then waiting patiently in line at the checkout. Large-scale distribution companies have thus been able to routine their activity and generate the corresponding productivity gains. Another way of “forcing” routinization has been vocational training: certain more complex tasks, by dint of being repeated by well-trained employees, have become routine and have ended up being integrated, too, into the scientific organization. work.\\nRoutine, in transition\\nToday, however, routine is in transition - and that transition poses a significant challenge for businesses. When it exists, routine continues to generate productivity gains, but these are less and less redistributed to workers. Routine therefore appears in a new light: for the majority of the working population, it is no longer a factor of job security and high wages; rather, it has become synonymous with boredom and alienation. The weariness experienced by employees occupying the famous bullshit jobs shows that routine is not what it used to be. And this is a problem for companies, whose routine is often the core of their business.\\nAbove all, with the rise of digital technology, routine is more and more a pretense. There are indeed two ways of looking at the digital transition from a routine point of view. In a way, digital is synonymous with improved customer experience and increased personalization: one could assume that routine is on the decline.\\n\\nBut in reality, the digital transition rather involves an extension of the field of the routine, for at least two reasons. On the one hand, digital makes it possible to put more and more customers to work, if necessary by connecting them to each other in a network. If huge communities of connected customers take care of non-routine tasks, then organizations can focus even more on what they understand best - routine and the associated productivity gains.\\nThe routine, broken\\nOn the other hand, the digitization of products and the increasingly regular and systematic collection of personal data makes it possible to routinize the personalization of the experience offered to the customer.\\nThis is a fundamental break. The routine seen by the company is no longer synonymous with poor quality for the customer. On the contrary, routine in the sphere of production can translate for consumers into an increasingly simple, intuitive and personalized experience. Digital technology is thus disrupting the strategic situation by eliminating the trade-off between routine and personalization. And if companies want to stay competitive, they must align with these new practices.\\nWhat conclusions can be drawn from all this? First, this is good news from an economic growth standpoint. The extension of the field of routine makes it possible to generate even more productivity gains, which must now be learned to redistribute to customers (in the form of lower prices) and to workers (in the form of improved working conditions) .\\nOn the other hand, routine tasks always tend to become more commoditized, so easy are they for competitors to observe and replicate. When a part of the business becomes more routine, the companies involved always end up competing on the non-routine part of their business - all the tasks where frequent interactions with customers break the routine and require investment in qualities. more difficult to routine: listening, availability, empathy, humor, etc.\\nOnce again, all of this is good news: for customers, who can expect to be increasingly served by companies competing for eagerness with them; above all, for the economy as a whole, since non-routine tasks are also the ones that create the most jobs.\\nRoutine, called into question\\nFor a long time the distinction between routine and non-routine tasks was rich in meaning. It was said that routine tasks can be automated, whereas non-routine ones cannot. Robots and artificial intelligence will occupy all the ground of the routine, and humans will remain the non-routine ...\\nBut this distinction is no longer as relevant as it used to be. Artificial intelligence is nothing like human intelligence. For want of “understanding” and “reasoning”, it is content to “scan” immense amounts of data and calculate “stupidly”. However, this type of intelligence performs wonderfully certain tasks deemed to be non-routine. Thus, AI makes reliable medical diagnoses by compiling millions of medical cases like no doctor can. In sum, intuition and experience, once thought to be so valuable, are being overtaken by the exploitation of big data by AI.\\nIBM's Watson won in the game 'Jeopardy'\\nConversely, some deemed routine tasks are not easy to automate. For example, the work done by housekeepers could only be automated at great expense by multiple ultra-sophisticated robots. Suffice to say, it won't be automated for a long time.\\nRoutine is therefore likely to still be heckled, broken, and redefined by the digital transition. Frederick Taylor would lose his Latin!\\nCheck out the other articles from the WillBe Group publication and follow us on Twitter!\\nCity and commerce: what makes urban vitality?\\nUnder what conditions is trade an engine of growth and a source of urban vitality? What policies do you need… medium.com\\nWork: the Remote revolution\\nThe golden age of the traditional office is behind nousmedium.com\\nDisability and digital technology: more autonomy for all?\\nWe have long understood the issue of disability from the perspective of assistance, with a logic of exclusion, even ... medium.com\\nConfucius and managers\\nAlready the author of a book on The Art of War for Leaders, Domitille Germain is publishing next month on ... medium.com\""
            ]
          },
          "metadata": {
            "tags": []
          },
          "execution_count": 52
        }
      ]
    },
    {
      "cell_type": "code",
      "metadata": {
        "id": "Jk8pRxLRR8dq"
      },
      "source": [
        "# dropping all non-English entries\n",
        "df_reduced = df_reduced[df_reduced.language == \"en\"]"
      ],
      "execution_count": null,
      "outputs": []
    },
    {
      "cell_type": "code",
      "metadata": {
        "id": "Tp5SV0b1WH-z",
        "colab": {
          "base_uri": "https://localhost:8080/",
          "height": 34
        },
        "outputId": "7faca096-8d39-4887-8cce-46f639aa48e0"
      },
      "source": [
        "df_reduced.shape"
      ],
      "execution_count": null,
      "outputs": [
        {
          "output_type": "execute_result",
          "data": {
            "text/plain": [
              "(257655, 5)"
            ]
          },
          "metadata": {
            "tags": []
          },
          "execution_count": 54
        }
      ]
    },
    {
      "cell_type": "code",
      "metadata": {
        "id": "SD7YC88nSICo",
        "colab": {
          "base_uri": "https://localhost:8080/",
          "height": 51
        },
        "outputId": "92fc2910-7c2a-4e81-8f7c-3379135f7120"
      },
      "source": [
        "df_reduced.language.value_counts()"
      ],
      "execution_count": null,
      "outputs": [
        {
          "output_type": "execute_result",
          "data": {
            "text/plain": [
              "en    257655\n",
              "Name: language, dtype: int64"
            ]
          },
          "metadata": {
            "tags": []
          },
          "execution_count": 55
        }
      ]
    },
    {
      "cell_type": "markdown",
      "metadata": {
        "id": "rTomHkyyGg7c"
      },
      "source": [
        "### 4.2 Eliminate Duplicates and Missing Values"
      ]
    },
    {
      "cell_type": "code",
      "metadata": {
        "id": "Gdjj980Rud8o"
      },
      "source": [
        "# make sure that identical independent variables cannot be assigned to different values of the target variable, since this would be a data inconsitency\n",
        "df_reduced_no_d=df_reduced.drop_duplicates(subset=[\"Text\", \"Length\", \"Responses\"])"
      ],
      "execution_count": null,
      "outputs": []
    },
    {
      "cell_type": "code",
      "metadata": {
        "id": "LJ9QzeuWWafk",
        "colab": {
          "base_uri": "https://localhost:8080/",
          "height": 34
        },
        "outputId": "aadcc410-610e-4be6-9d5d-0445e8c4c139"
      },
      "source": [
        "df_reduced_no_d.shape"
      ],
      "execution_count": null,
      "outputs": [
        {
          "output_type": "execute_result",
          "data": {
            "text/plain": [
              "(66119, 5)"
            ]
          },
          "metadata": {
            "tags": []
          },
          "execution_count": 57
        }
      ]
    },
    {
      "cell_type": "code",
      "metadata": {
        "id": "xgmXZROVJccb",
        "colab": {
          "base_uri": "https://localhost:8080/",
          "height": 34
        },
        "outputId": "e33f45d2-ac6f-4ec7-e34c-208ee4fcb7c7"
      },
      "source": [
        "# check how many missing values there are\n",
        "df_reduced_no_d.isnull().sum().sum()"
      ],
      "execution_count": null,
      "outputs": [
        {
          "output_type": "execute_result",
          "data": {
            "text/plain": [
              "0"
            ]
          },
          "metadata": {
            "tags": []
          },
          "execution_count": 58
        }
      ]
    },
    {
      "cell_type": "code",
      "metadata": {
        "id": "elvsdhpnJ1Qr",
        "colab": {
          "base_uri": "https://localhost:8080/",
          "height": 269
        },
        "outputId": "38af5965-db8e-41bb-cda5-24d0fe19f735"
      },
      "source": [
        "# validate via missing values graph\n",
        "sns.heatmap(df_reduced_no_d.isnull(), cbar=False);"
      ],
      "execution_count": null,
      "outputs": [
        {
          "output_type": "display_data",
          "data": {
            "image/png": "[encoded data removed]",
            "text/plain": [
              "<Figure size 432x288 with 1 Axes>"
            ]
          },
          "metadata": {
            "tags": [],
            "needs_background": "light"
          }
        }
      ]
    },
    {
      "cell_type": "code",
      "metadata": {
        "id": "eK7vefPkTYns"
      },
      "source": [
        "# the function to drop missing values (if there were any) would be:\n",
        "df_reduced_no_d_no_m=df_reduced_no_d.dropna()"
      ],
      "execution_count": null,
      "outputs": []
    },
    {
      "cell_type": "code",
      "metadata": {
        "id": "hALD-tFzdBYU"
      },
      "source": [
        "# eliminating 3 entries with Length = 0, which contain no text, but have not been detected like missing values due to the atypical cell formatting in case of\n",
        "# a missing value\n",
        "df_reduced_no_d_no_m = df_reduced_no_d_no_m[df_reduced_no_d_no_m.Text != \"\\n\"]\n",
        "df_reduced_no_d_no_m = df_reduced_no_d_no_m[df_reduced_no_d_no_m.Text != \"N/A\\n\"]"
      ],
      "execution_count": null,
      "outputs": []
    },
    {
      "cell_type": "code",
      "metadata": {
        "id": "qZ_B86B8PyiP",
        "colab": {
          "base_uri": "https://localhost:8080/",
          "height": 34
        },
        "outputId": "d6c98f22-5108-4a2f-f322-ca60a079723a"
      },
      "source": [
        "df_reduced_no_d_no_m.shape"
      ],
      "execution_count": null,
      "outputs": [
        {
          "output_type": "execute_result",
          "data": {
            "text/plain": [
              "(66116, 5)"
            ]
          },
          "metadata": {
            "tags": []
          },
          "execution_count": 62
        }
      ]
    },
    {
      "cell_type": "code",
      "metadata": {
        "id": "OwWonQ2kYBFC"
      },
      "source": [
        "# since there are only English entries left, the column language can be dropped\n",
        "df_reduced_no_d_no_m = df_reduced_no_d_no_m.drop([\"language\"], axis= 1)"
      ],
      "execution_count": null,
      "outputs": []
    },
    {
      "cell_type": "code",
      "metadata": {
        "id": "nn6IcwyZYJAO",
        "colab": {
          "base_uri": "https://localhost:8080/",
          "height": 204
        },
        "outputId": "9786edb0-6849-45c8-b72c-ecc84af39492"
      },
      "source": [
        "df_reduced_no_d_no_m.head(5)"
      ],
      "execution_count": null,
      "outputs": [
        {
          "output_type": "execute_result",
          "data": {
            "text/html": [
              "<div>\n",
              "<style scoped>\n",
              "    .dataframe tbody tr th:only-of-type {\n",
              "        vertical-align: middle;\n",
              "    }\n",
              "\n",
              "    .dataframe tbody tr th {\n",
              "        vertical-align: top;\n",
              "    }\n",
              "\n",
              "    .dataframe thead th {\n",
              "        text-align: right;\n",
              "    }\n",
              "</style>\n",
              "<table border=\"1\" class=\"dataframe\">\n",
              "  <thead>\n",
              "    <tr style=\"text-align: right;\">\n",
              "      <th></th>\n",
              "      <th>Text</th>\n",
              "      <th>Claps</th>\n",
              "      <th>Length</th>\n",
              "      <th>Responses</th>\n",
              "    </tr>\n",
              "  </thead>\n",
              "  <tbody>\n",
              "    <tr>\n",
              "      <th>0</th>\n",
              "      <td>Private Business, Government and Blockchain\\n\\...</td>\n",
              "      <td>100</td>\n",
              "      <td>201</td>\n",
              "      <td>0</td>\n",
              "    </tr>\n",
              "    <tr>\n",
              "      <th>3</th>\n",
              "      <td>EPQ draft 1 (4844 words)\\nhttps://upload.wikim...</td>\n",
              "      <td>0</td>\n",
              "      <td>4854</td>\n",
              "      <td>0</td>\n",
              "    </tr>\n",
              "    <tr>\n",
              "      <th>7</th>\n",
              "      <td>Ascent of data Science, SAS and Big data Analy...</td>\n",
              "      <td>0</td>\n",
              "      <td>533</td>\n",
              "      <td>0</td>\n",
              "    </tr>\n",
              "    <tr>\n",
              "      <th>11</th>\n",
              "      <td>Can a robot love us better than another human ...</td>\n",
              "      <td>50</td>\n",
              "      <td>173</td>\n",
              "      <td>0</td>\n",
              "    </tr>\n",
              "    <tr>\n",
              "      <th>16</th>\n",
              "      <td>2017 Big Data, AI and IOT Use Cases\\nAn Active...</td>\n",
              "      <td>27</td>\n",
              "      <td>1768</td>\n",
              "      <td>0</td>\n",
              "    </tr>\n",
              "  </tbody>\n",
              "</table>\n",
              "</div>"
            ],
            "text/plain": [
              "                                                 Text  Claps  Length  Responses\n",
              "0   Private Business, Government and Blockchain\\n\\...    100     201          0\n",
              "3   EPQ draft 1 (4844 words)\\nhttps://upload.wikim...      0    4854          0\n",
              "7   Ascent of data Science, SAS and Big data Analy...      0     533          0\n",
              "11  Can a robot love us better than another human ...     50     173          0\n",
              "16  2017 Big Data, AI and IOT Use Cases\\nAn Active...     27    1768          0"
            ]
          },
          "metadata": {
            "tags": []
          },
          "execution_count": 64
        }
      ]
    },
    {
      "cell_type": "markdown",
      "metadata": {
        "id": "IUC6pYntKRpn"
      },
      "source": [
        "### 4.3 Numerical Data Analysis"
      ]
    },
    {
      "cell_type": "code",
      "metadata": {
        "id": "EWeronSb1XCc",
        "colab": {
          "base_uri": "https://localhost:8080/",
          "height": 204
        },
        "outputId": "de5dc1c4-6794-4979-a3c0-971d8c7a4217"
      },
      "source": [
        "# explore the data types of all variables\n",
        "df_reduced_no_d_no_m.info()\n"
      ],
      "execution_count": null,
      "outputs": [
        {
          "output_type": "stream",
          "text": [
            "<class 'pandas.core.frame.DataFrame'>\n",
            "Int64Index: 66116 entries, 0 to 279572\n",
            "Data columns (total 4 columns):\n",
            " #   Column     Non-Null Count  Dtype \n",
            "---  ------     --------------  ----- \n",
            " 0   Text       66116 non-null  object\n",
            " 1   Claps      66116 non-null  int64 \n",
            " 2   Length     66116 non-null  int64 \n",
            " 3   Responses  66116 non-null  int64 \n",
            "dtypes: int64(3), object(1)\n",
            "memory usage: 2.5+ MB\n"
          ],
          "name": "stdout"
        }
      ]
    },
    {
      "cell_type": "markdown",
      "metadata": {
        "id": "MC0P_tYTWT1u"
      },
      "source": [
        "In the following cells, an univariate numerical data exploration will be performed. At first, a histogram will be plotted for each numerical variable to explore its distribution. The observations and the conclusions to be made from the graphs are the follwoing ones:\n",
        "\n",
        "1.   It can be seen that the variables mostly have the value 0 or values around 0, which causes the distribution to be very right-skewed. This implies the mean does not necessarily provide a good estimate for the center of the data and is not a representative value for most of the data. In this case, the median should be used to evaluate the center of the data, rather than the mean. This dependence is of importance if having missing values, which cannot be dropped out, but must be filled in instead (will be the case when dealing with the test data). The median would then be a reasonable fill.\n",
        "\n",
        "2.   Normally, a histogram would serve as a first look at outliers, but in this case, the outliers are obviously only a small percentage of the most common values (the zeros, which domninate), sincd they are not directly visible from the plots. To better explore outliers, box plots will be used.\n",
        "\n"
      ]
    },
    {
      "cell_type": "code",
      "metadata": {
        "id": "xTkJwkDXVNvY",
        "colab": {
          "base_uri": "https://localhost:8080/",
          "height": 366
        },
        "outputId": "ac7a5012-37f2-4c7d-c3d1-b1da0dbd0fc2"
      },
      "source": [
        "df_reduced_no_d_no_m.select_dtypes(include='int64').hist(bins=20)"
      ],
      "execution_count": null,
      "outputs": [
        {
          "output_type": "execute_result",
          "data": {
            "text/plain": [
              "array([[<matplotlib.axes._subplots.AxesSubplot object at 0x7fd6febb20b8>,\n",
              "        <matplotlib.axes._subplots.AxesSubplot object at 0x7fd6feb642e8>],\n",
              "       [<matplotlib.axes._subplots.AxesSubplot object at 0x7fd6feb98550>,\n",
              "        <matplotlib.axes._subplots.AxesSubplot object at 0x7fd6feb4b7b8>]],\n",
              "      dtype=object)"
            ]
          },
          "metadata": {
            "tags": []
          },
          "execution_count": 66
        },
        {
          "output_type": "display_data",
          "data": {
            "image/png": "[encoded data removed]",
            "text/plain": [
              "<Figure size 432x288 with 4 Axes>"
            ]
          },
          "metadata": {
            "tags": [],
            "needs_background": "light"
          }
        }
      ]
    },
    {
      "cell_type": "markdown",
      "metadata": {
        "id": "KJSYClGwdCiA"
      },
      "source": [
        "As it can be seen from the box plots below, the observations of the variables Responses and Claps mostly consist of outliers (also confirmed by the 5-numbers summary below the plots). This means, that if the outliers of these variables get truncated based on the factorial IQR (as it is in the outlier truncation function), almost (all) values will turn 0. Thus the outlier of these two values won't be truncated.\n",
        "\n",
        "The outliers of the variable Length are more, have a higher variance and the problem in the case of the other two variables and will thus be truncated.\n"
      ]
    },
    {
      "cell_type": "code",
      "metadata": {
        "id": "3zHfZMEcViIZ",
        "colab": {
          "base_uri": "https://localhost:8080/",
          "height": 513
        },
        "outputId": "f7460831-f49e-46c6-ff80-128127d62c57"
      },
      "source": [
        "# plot boxplots for the numeric variables to check for outliers\n",
        "num_vars = df_reduced_no_d_no_m.select_dtypes(include=\"int64\")\n",
        "half = np.ceil(num_vars.shape[1] / 2).astype(int)  # for cosmetic reasons we split the plots into two rows\n",
        "num_vars.iloc[:, 0:half].plot(kind = 'box', subplots=True);\n",
        "num_vars.iloc[:, half:num_vars.shape[1]].plot(kind = 'box', subplots=True);"
      ],
      "execution_count": null,
      "outputs": [
        {
          "output_type": "display_data",
          "data": {
            "image/png": "[encoded data removed]",
            "text/plain": [
              "<Figure size 432x288 with 2 Axes>"
            ]
          },
          "metadata": {
            "tags": [],
            "needs_background": "light"
          }
        },
        {
          "output_type": "display_data",
          "data": {
            "image/png": "[encoded data removed]",
            "text/plain": [
              "<Figure size 432x288 with 1 Axes>"
            ]
          },
          "metadata": {
            "tags": [],
            "needs_background": "light"
          }
        }
      ]
    },
    {
      "cell_type": "code",
      "metadata": {
        "id": "paPWAWjDYxwh",
        "colab": {
          "base_uri": "https://localhost:8080/",
          "height": 297
        },
        "outputId": "564ab903-9136-4cc8-9466-b101d0b209f1"
      },
      "source": [
        "# five number summary to statistically describe the data and get a more precise quantification of the outliers\n",
        "df_reduced_no_d_no_m.describe()"
      ],
      "execution_count": null,
      "outputs": [
        {
          "output_type": "execute_result",
          "data": {
            "text/html": [
              "<div>\n",
              "<style scoped>\n",
              "    .dataframe tbody tr th:only-of-type {\n",
              "        vertical-align: middle;\n",
              "    }\n",
              "\n",
              "    .dataframe tbody tr th {\n",
              "        vertical-align: top;\n",
              "    }\n",
              "\n",
              "    .dataframe thead th {\n",
              "        text-align: right;\n",
              "    }\n",
              "</style>\n",
              "<table border=\"1\" class=\"dataframe\">\n",
              "  <thead>\n",
              "    <tr style=\"text-align: right;\">\n",
              "      <th></th>\n",
              "      <th>Claps</th>\n",
              "      <th>Length</th>\n",
              "      <th>Responses</th>\n",
              "    </tr>\n",
              "  </thead>\n",
              "  <tbody>\n",
              "    <tr>\n",
              "      <th>count</th>\n",
              "      <td>66116.000000</td>\n",
              "      <td>66116.000000</td>\n",
              "      <td>66116.000000</td>\n",
              "    </tr>\n",
              "    <tr>\n",
              "      <th>mean</th>\n",
              "      <td>173.143248</td>\n",
              "      <td>923.780628</td>\n",
              "      <td>0.906362</td>\n",
              "    </tr>\n",
              "    <tr>\n",
              "      <th>std</th>\n",
              "      <td>1894.701647</td>\n",
              "      <td>871.743769</td>\n",
              "      <td>14.970349</td>\n",
              "    </tr>\n",
              "    <tr>\n",
              "      <th>min</th>\n",
              "      <td>0.000000</td>\n",
              "      <td>1.000000</td>\n",
              "      <td>0.000000</td>\n",
              "    </tr>\n",
              "    <tr>\n",
              "      <th>25%</th>\n",
              "      <td>0.000000</td>\n",
              "      <td>422.000000</td>\n",
              "      <td>0.000000</td>\n",
              "    </tr>\n",
              "    <tr>\n",
              "      <th>50%</th>\n",
              "      <td>6.000000</td>\n",
              "      <td>721.000000</td>\n",
              "      <td>0.000000</td>\n",
              "    </tr>\n",
              "    <tr>\n",
              "      <th>75%</th>\n",
              "      <td>65.000000</td>\n",
              "      <td>1159.000000</td>\n",
              "      <td>0.000000</td>\n",
              "    </tr>\n",
              "    <tr>\n",
              "      <th>max</th>\n",
              "      <td>291706.000000</td>\n",
              "      <td>24964.000000</td>\n",
              "      <td>3076.000000</td>\n",
              "    </tr>\n",
              "  </tbody>\n",
              "</table>\n",
              "</div>"
            ],
            "text/plain": [
              "               Claps        Length     Responses\n",
              "count   66116.000000  66116.000000  66116.000000\n",
              "mean      173.143248    923.780628      0.906362\n",
              "std      1894.701647    871.743769     14.970349\n",
              "min         0.000000      1.000000      0.000000\n",
              "25%         0.000000    422.000000      0.000000\n",
              "50%         6.000000    721.000000      0.000000\n",
              "75%        65.000000   1159.000000      0.000000\n",
              "max    291706.000000  24964.000000   3076.000000"
            ]
          },
          "metadata": {
            "tags": []
          },
          "execution_count": 68
        }
      ]
    },
    {
      "cell_type": "markdown",
      "metadata": {
        "id": "Hi7QgUt8fDhe"
      },
      "source": [
        "**Truncate the outliers of the variable Length**"
      ]
    },
    {
      "cell_type": "code",
      "metadata": {
        "id": "4iH89XG3scdX"
      },
      "source": [
        "# define the columns whose outliers will to be truncated\n",
        "df_reduced_no_d_no_m['Length'] = df_reduced_no_d_no_m['Length'].astype(np.float64)\n",
        "floats = [x for x in df_reduced_no_d_no_m.columns if df_reduced_no_d_no_m[x].dtype == 'float64']\n",
        "# apply the truncate function on each observation of the value Length\n",
        "df_reduced_no_d_no_m[floats] = df_reduced_no_d_no_m[floats].apply(outlier_truncation, axis=0)\n",
        "# set the data type of Length back to int64\n",
        "df_reduced_no_d_no_m['Length'] = df_reduced_no_d_no_m['Length'].astype(np.int64)"
      ],
      "execution_count": null,
      "outputs": []
    },
    {
      "cell_type": "markdown",
      "metadata": {
        "id": "Nuac6SkjfKve"
      },
      "source": [
        "**See what has changed after the truncation:**"
      ]
    },
    {
      "cell_type": "markdown",
      "metadata": {
        "id": "yvfh4qMGfkaw"
      },
      "source": [
        "The skewness of the distribution of the variable Length has decreased (even though still a little skew) and the distribution is still far from a normal one, but the mean of the observations is now slightly more representative of the data center."
      ]
    },
    {
      "cell_type": "code",
      "metadata": {
        "id": "MnaGU1YVeIwM",
        "colab": {
          "base_uri": "https://localhost:8080/",
          "height": 366
        },
        "outputId": "a38b14ec-27ec-4ed8-ea01-bacb0088dfaf"
      },
      "source": [
        "df_reduced_no_d_no_m.select_dtypes(include='int64').hist(bins=20)"
      ],
      "execution_count": null,
      "outputs": [
        {
          "output_type": "execute_result",
          "data": {
            "text/plain": [
              "array([[<matplotlib.axes._subplots.AxesSubplot object at 0x7fd6fea107f0>,\n",
              "        <matplotlib.axes._subplots.AxesSubplot object at 0x7fd6fe89a7b8>],\n",
              "       [<matplotlib.axes._subplots.AxesSubplot object at 0x7fd6fe84ba20>,\n",
              "        <matplotlib.axes._subplots.AxesSubplot object at 0x7fd6fe800c88>]],\n",
              "      dtype=object)"
            ]
          },
          "metadata": {
            "tags": []
          },
          "execution_count": 70
        },
        {
          "output_type": "display_data",
          "data": {
            "image/png": "[encoded data removed]",
            "text/plain": [
              "<Figure size 432x288 with 4 Axes>"
            ]
          },
          "metadata": {
            "tags": [],
            "needs_background": "light"
          }
        }
      ]
    },
    {
      "cell_type": "markdown",
      "metadata": {
        "id": "zpwOUgOzgEmM"
      },
      "source": [
        "The otliers have been truncated and the box plot graph is closer to the one of a normally distributed variable."
      ]
    },
    {
      "cell_type": "code",
      "metadata": {
        "id": "Qnm7VMoQdQFh",
        "colab": {
          "base_uri": "https://localhost:8080/",
          "height": 513
        },
        "outputId": "702f31eb-cfc9-435d-f8b7-6b8ab062efb5"
      },
      "source": [
        "num_vars = df_reduced_no_d_no_m.select_dtypes(include=\"int64\")\n",
        "half = np.ceil(num_vars.shape[1] / 2).astype(int)  # for cosmetic reasons we split the plots into two rows\n",
        "num_vars.iloc[:, 0:half].plot(kind = 'box', subplots=True);\n",
        "num_vars.iloc[:, half:num_vars.shape[1]].plot(kind = 'box', subplots=True);"
      ],
      "execution_count": null,
      "outputs": [
        {
          "output_type": "display_data",
          "data": {
            "image/png": "[encoded data removed]",
            "text/plain": [
              "<Figure size 432x288 with 2 Axes>"
            ]
          },
          "metadata": {
            "tags": [],
            "needs_background": "light"
          }
        },
        {
          "output_type": "display_data",
          "data": {
            "image/png": "[encoded data removed]",
            "text/plain": [
              "<Figure size 432x288 with 1 Axes>"
            ]
          },
          "metadata": {
            "tags": [],
            "needs_background": "light"
          }
        }
      ]
    },
    {
      "cell_type": "markdown",
      "metadata": {
        "id": "PhPwiCRBfZe9"
      },
      "source": [
        "Based on the new 5 number summary (see below), the variance of the variable Length has decreased and so has its maximal value respectively the value of its highest outlier.\n"
      ]
    },
    {
      "cell_type": "code",
      "metadata": {
        "id": "QeA5ryXRtgGh",
        "colab": {
          "base_uri": "https://localhost:8080/",
          "height": 297
        },
        "outputId": "58691ef6-5ab0-4df0-d907-471b377cf815"
      },
      "source": [
        "df_reduced_no_d_no_m.describe()"
      ],
      "execution_count": null,
      "outputs": [
        {
          "output_type": "execute_result",
          "data": {
            "text/html": [
              "<div>\n",
              "<style scoped>\n",
              "    .dataframe tbody tr th:only-of-type {\n",
              "        vertical-align: middle;\n",
              "    }\n",
              "\n",
              "    .dataframe tbody tr th {\n",
              "        vertical-align: top;\n",
              "    }\n",
              "\n",
              "    .dataframe thead th {\n",
              "        text-align: right;\n",
              "    }\n",
              "</style>\n",
              "<table border=\"1\" class=\"dataframe\">\n",
              "  <thead>\n",
              "    <tr style=\"text-align: right;\">\n",
              "      <th></th>\n",
              "      <th>Claps</th>\n",
              "      <th>Length</th>\n",
              "      <th>Responses</th>\n",
              "    </tr>\n",
              "  </thead>\n",
              "  <tbody>\n",
              "    <tr>\n",
              "      <th>count</th>\n",
              "      <td>66116.000000</td>\n",
              "      <td>66116.000000</td>\n",
              "      <td>66116.000000</td>\n",
              "    </tr>\n",
              "    <tr>\n",
              "      <th>mean</th>\n",
              "      <td>173.143248</td>\n",
              "      <td>859.610125</td>\n",
              "      <td>0.906362</td>\n",
              "    </tr>\n",
              "    <tr>\n",
              "      <th>std</th>\n",
              "      <td>1894.701647</td>\n",
              "      <td>586.873427</td>\n",
              "      <td>14.970349</td>\n",
              "    </tr>\n",
              "    <tr>\n",
              "      <th>min</th>\n",
              "      <td>0.000000</td>\n",
              "      <td>1.000000</td>\n",
              "      <td>0.000000</td>\n",
              "    </tr>\n",
              "    <tr>\n",
              "      <th>25%</th>\n",
              "      <td>0.000000</td>\n",
              "      <td>422.000000</td>\n",
              "      <td>0.000000</td>\n",
              "    </tr>\n",
              "    <tr>\n",
              "      <th>50%</th>\n",
              "      <td>6.000000</td>\n",
              "      <td>721.000000</td>\n",
              "      <td>0.000000</td>\n",
              "    </tr>\n",
              "    <tr>\n",
              "      <th>75%</th>\n",
              "      <td>65.000000</td>\n",
              "      <td>1159.000000</td>\n",
              "      <td>0.000000</td>\n",
              "    </tr>\n",
              "    <tr>\n",
              "      <th>max</th>\n",
              "      <td>291706.000000</td>\n",
              "      <td>2264.000000</td>\n",
              "      <td>3076.000000</td>\n",
              "    </tr>\n",
              "  </tbody>\n",
              "</table>\n",
              "</div>"
            ],
            "text/plain": [
              "               Claps        Length     Responses\n",
              "count   66116.000000  66116.000000  66116.000000\n",
              "mean      173.143248    859.610125      0.906362\n",
              "std      1894.701647    586.873427     14.970349\n",
              "min         0.000000      1.000000      0.000000\n",
              "25%         0.000000    422.000000      0.000000\n",
              "50%         6.000000    721.000000      0.000000\n",
              "75%        65.000000   1159.000000      0.000000\n",
              "max    291706.000000   2264.000000   3076.000000"
            ]
          },
          "metadata": {
            "tags": []
          },
          "execution_count": 72
        }
      ]
    },
    {
      "cell_type": "markdown",
      "metadata": {
        "id": "SGonVFdqHP3w"
      },
      "source": [
        "A brief univariate explorative plot of the numeric variables in the train set is provided by the correlation plot below. From the plot it can be seen that that Claps and Resopnses have a a colinearity of 0.57, which also intuitively makes sense - the Responses could truly have impact on the Claps. This serves as a confirmation that it is correct to include the variable Responses in the ML model."
      ]
    },
    {
      "cell_type": "code",
      "metadata": {
        "id": "esrECBXfvkt_",
        "colab": {
          "base_uri": "https://localhost:8080/",
          "height": 867
        },
        "outputId": "6b740587-2f9c-44d1-9105-cb0e6f13b2b7"
      },
      "source": [
        "corr= df_reduced_no_d_no_m.corr()\n",
        "f,ax = plt.subplots(figsize=(18, 15))\n",
        "sns.heatmap(corr ,annot=True,linewidth=.5,fmt='1f');"
      ],
      "execution_count": null,
      "outputs": [
        {
          "output_type": "display_data",
          "data": {
            "image/png": "[encoded data removed]",
            "text/plain": [
              "<Figure size 1296x1080 with 2 Axes>"
            ]
          },
          "metadata": {
            "tags": [],
            "needs_background": "light"
          }
        }
      ]
    },
    {
      "cell_type": "markdown",
      "metadata": {
        "id": "sKFTjAtMLxQY"
      },
      "source": [
        "**The numerical variables need to be normalized (min-max-normalization). For this purpose the min and the max value of all numerical input data is needed. Within this context, it is important to consider that the text data will be later transformed into numerical input with the help of embeddings. Then, the min and the max value of the embeddings will also be the range for the min-max-normalization, meaning all numerical values (Claps, Length, Responses) will be scaled between the min and the max value of the embedding matrix.**"
      ]
    },
    {
      "cell_type": "markdown",
      "metadata": {
        "id": "jl_WUZVuP-jU"
      },
      "source": [
        "### 4.4 Clean the Text Data "
      ]
    },
    {
      "cell_type": "code",
      "metadata": {
        "id": "edmWR_jnhPt7",
        "colab": {
          "base_uri": "https://localhost:8080/",
          "height": 204
        },
        "outputId": "cba93d9d-fe12-47cd-c09a-301f2fe53bcb"
      },
      "source": [
        "df_reduced_no_d_no_m.head(5)"
      ],
      "execution_count": null,
      "outputs": [
        {
          "output_type": "execute_result",
          "data": {
            "text/html": [
              "<div>\n",
              "<style scoped>\n",
              "    .dataframe tbody tr th:only-of-type {\n",
              "        vertical-align: middle;\n",
              "    }\n",
              "\n",
              "    .dataframe tbody tr th {\n",
              "        vertical-align: top;\n",
              "    }\n",
              "\n",
              "    .dataframe thead th {\n",
              "        text-align: right;\n",
              "    }\n",
              "</style>\n",
              "<table border=\"1\" class=\"dataframe\">\n",
              "  <thead>\n",
              "    <tr style=\"text-align: right;\">\n",
              "      <th></th>\n",
              "      <th>Text</th>\n",
              "      <th>Claps</th>\n",
              "      <th>Length</th>\n",
              "      <th>Responses</th>\n",
              "    </tr>\n",
              "  </thead>\n",
              "  <tbody>\n",
              "    <tr>\n",
              "      <th>0</th>\n",
              "      <td>Private Business, Government and Blockchain\\n\\...</td>\n",
              "      <td>100</td>\n",
              "      <td>201</td>\n",
              "      <td>0</td>\n",
              "    </tr>\n",
              "    <tr>\n",
              "      <th>3</th>\n",
              "      <td>EPQ draft 1 (4844 words)\\nhttps://upload.wikim...</td>\n",
              "      <td>0</td>\n",
              "      <td>2264</td>\n",
              "      <td>0</td>\n",
              "    </tr>\n",
              "    <tr>\n",
              "      <th>7</th>\n",
              "      <td>Ascent of data Science, SAS and Big data Analy...</td>\n",
              "      <td>0</td>\n",
              "      <td>533</td>\n",
              "      <td>0</td>\n",
              "    </tr>\n",
              "    <tr>\n",
              "      <th>11</th>\n",
              "      <td>Can a robot love us better than another human ...</td>\n",
              "      <td>50</td>\n",
              "      <td>173</td>\n",
              "      <td>0</td>\n",
              "    </tr>\n",
              "    <tr>\n",
              "      <th>16</th>\n",
              "      <td>2017 Big Data, AI and IOT Use Cases\\nAn Active...</td>\n",
              "      <td>27</td>\n",
              "      <td>1768</td>\n",
              "      <td>0</td>\n",
              "    </tr>\n",
              "  </tbody>\n",
              "</table>\n",
              "</div>"
            ],
            "text/plain": [
              "                                                 Text  Claps  Length  Responses\n",
              "0   Private Business, Government and Blockchain\\n\\...    100     201          0\n",
              "3   EPQ draft 1 (4844 words)\\nhttps://upload.wikim...      0    2264          0\n",
              "7   Ascent of data Science, SAS and Big data Analy...      0     533          0\n",
              "11  Can a robot love us better than another human ...     50     173          0\n",
              "16  2017 Big Data, AI and IOT Use Cases\\nAn Active...     27    1768          0"
            ]
          },
          "metadata": {
            "tags": []
          },
          "execution_count": 75
        }
      ]
    },
    {
      "cell_type": "markdown",
      "metadata": {
        "id": "vTIl0VZHhTuL"
      },
      "source": [
        "The text entries will be cleaned using the clean_entries function, which is described in detail in the section Functions (at the beginning of the notebook)"
      ]
    },
    {
      "cell_type": "code",
      "metadata": {
        "id": "YbCKOUGht5CD"
      },
      "source": [
        "clean = clean_entries(df_reduced_no_d_no_m.Text)"
      ],
      "execution_count": null,
      "outputs": []
    },
    {
      "cell_type": "code",
      "metadata": {
        "id": "J6mqQEeLg1EG"
      },
      "source": [
        "# detokenize the entries in order to be able to tokenize them later within Keras\n",
        "df_reduced_no_d_no_m['entry_clean'] = [TreebankWordDetokenizer().detokenize(entry) for entry in clean]"
      ],
      "execution_count": null,
      "outputs": []
    },
    {
      "cell_type": "code",
      "metadata": {
        "id": "kQHxSulNITEb"
      },
      "source": [
        "# save the clean data in a data frame, which can be loaded anytime\n",
        "df_reduced_no_d_no_m.to_csv('/content/gdrive/My Drive/ADAMS_2020/num_text_clean.csv')"
      ],
      "execution_count": null,
      "outputs": []
    },
    {
      "cell_type": "markdown",
      "metadata": {
        "id": "EKuSEuEEWtSr"
      },
      "source": [
        "### 4.5 Benchmark"
      ]
    },
    {
      "cell_type": "code",
      "metadata": {
        "id": "zcQ1BNXfW7Qy"
      },
      "source": [
        "df_clean = \"/content/gdrive/My Drive/ADAMS_2020/num_text_clean.csv\"\n",
        "df_clean = pd.read_csv(df_clean)"
      ],
      "execution_count": null,
      "outputs": []
    },
    {
      "cell_type": "code",
      "metadata": {
        "id": "i8GCn1OCDLVT"
      },
      "source": [
        "# the variable Text is not needed anymore; only the clean entries can be kept\n",
        "df_clean = df_clean.drop([\"Unnamed: 0\", \"Text\"], axis=1)"
      ],
      "execution_count": null,
      "outputs": []
    },
    {
      "cell_type": "code",
      "metadata": {
        "id": "hpnpdgljDfpp",
        "colab": {
          "base_uri": "https://localhost:8080/",
          "height": 419
        },
        "outputId": "35989675-d3f9-47e5-c4a6-eb990acdbb40"
      },
      "source": [
        "df_clean"
      ],
      "execution_count": null,
      "outputs": [
        {
          "output_type": "execute_result",
          "data": {
            "text/html": [
              "<div>\n",
              "<style scoped>\n",
              "    .dataframe tbody tr th:only-of-type {\n",
              "        vertical-align: middle;\n",
              "    }\n",
              "\n",
              "    .dataframe tbody tr th {\n",
              "        vertical-align: top;\n",
              "    }\n",
              "\n",
              "    .dataframe thead th {\n",
              "        text-align: right;\n",
              "    }\n",
              "</style>\n",
              "<table border=\"1\" class=\"dataframe\">\n",
              "  <thead>\n",
              "    <tr style=\"text-align: right;\">\n",
              "      <th></th>\n",
              "      <th>Claps</th>\n",
              "      <th>Length</th>\n",
              "      <th>Responses</th>\n",
              "      <th>entry_clean</th>\n",
              "    </tr>\n",
              "  </thead>\n",
              "  <tbody>\n",
              "    <tr>\n",
              "      <th>0</th>\n",
              "      <td>100</td>\n",
              "      <td>201</td>\n",
              "      <td>0</td>\n",
              "      <td>private business government blockchain major p...</td>\n",
              "    </tr>\n",
              "    <tr>\n",
              "      <th>1</th>\n",
              "      <td>0</td>\n",
              "      <td>4854</td>\n",
              "      <td>0</td>\n",
              "      <td>epq draft word http upload wikimedia org wikip...</td>\n",
              "    </tr>\n",
              "    <tr>\n",
              "      <th>2</th>\n",
              "      <td>0</td>\n",
              "      <td>533</td>\n",
              "      <td>0</td>\n",
              "      <td>ascent data science sa big data analyst traini...</td>\n",
              "    </tr>\n",
              "    <tr>\n",
              "      <th>3</th>\n",
              "      <td>50</td>\n",
              "      <td>173</td>\n",
              "      <td>0</td>\n",
              "      <td>robot love u well another human discuss michel...</td>\n",
              "    </tr>\n",
              "    <tr>\n",
              "      <th>4</th>\n",
              "      <td>27</td>\n",
              "      <td>1768</td>\n",
              "      <td>0</td>\n",
              "      <td>big data ai iot use case active list interest ...</td>\n",
              "    </tr>\n",
              "    <tr>\n",
              "      <th>...</th>\n",
              "      <td>...</td>\n",
              "      <td>...</td>\n",
              "      <td>...</td>\n",
              "      <td>...</td>\n",
              "    </tr>\n",
              "    <tr>\n",
              "      <th>66111</th>\n",
              "      <td>92</td>\n",
              "      <td>984</td>\n",
              "      <td>1</td>\n",
              "      <td>uc berkeley mids immersion fall daniel kent cu...</td>\n",
              "    </tr>\n",
              "    <tr>\n",
              "      <th>66112</th>\n",
              "      <td>4</td>\n",
              "      <td>1478</td>\n",
              "      <td>1</td>\n",
              "      <td>analyze extreme skiing snowboard r freeride wo...</td>\n",
              "    </tr>\n",
              "    <tr>\n",
              "      <th>66113</th>\n",
              "      <td>567</td>\n",
              "      <td>1995</td>\n",
              "      <td>0</td>\n",
              "      <td>build smart chatbot assistant chatengine ibm w...</td>\n",
              "    </tr>\n",
              "    <tr>\n",
              "      <th>66114</th>\n",
              "      <td>42</td>\n",
              "      <td>310</td>\n",
              "      <td>0</td>\n",
              "      <td>ggrepel thing get crowd sometimes useful alway...</td>\n",
              "    </tr>\n",
              "    <tr>\n",
              "      <th>66115</th>\n",
              "      <td>0</td>\n",
              "      <td>790</td>\n",
              "      <td>0</td>\n",
              "      <td>london creates ethic panel evaluate use facial...</td>\n",
              "    </tr>\n",
              "  </tbody>\n",
              "</table>\n",
              "<p>66116 rows × 4 columns</p>\n",
              "</div>"
            ],
            "text/plain": [
              "       Claps  ...                                        entry_clean\n",
              "0        100  ...  private business government blockchain major p...\n",
              "1          0  ...  epq draft word http upload wikimedia org wikip...\n",
              "2          0  ...  ascent data science sa big data analyst traini...\n",
              "3         50  ...  robot love u well another human discuss michel...\n",
              "4         27  ...  big data ai iot use case active list interest ...\n",
              "...      ...  ...                                                ...\n",
              "66111     92  ...  uc berkeley mids immersion fall daniel kent cu...\n",
              "66112      4  ...  analyze extreme skiing snowboard r freeride wo...\n",
              "66113    567  ...  build smart chatbot assistant chatengine ibm w...\n",
              "66114     42  ...  ggrepel thing get crowd sometimes useful alway...\n",
              "66115      0  ...  london creates ethic panel evaluate use facial...\n",
              "\n",
              "[66116 rows x 4 columns]"
            ]
          },
          "metadata": {
            "tags": []
          },
          "execution_count": 78
        }
      ]
    },
    {
      "cell_type": "code",
      "metadata": {
        "id": "8u4DwnmxDebs"
      },
      "source": [
        "# making sure that there are no missing values (the Tokenizer wouldn't read them later)\n",
        "df_clean = df_clean.dropna(subset = [\"entry_clean\"])"
      ],
      "execution_count": null,
      "outputs": []
    },
    {
      "cell_type": "markdown",
      "metadata": {
        "id": "3VDfRv9-nQMd"
      },
      "source": [
        "The train set will be split in three subsets: train (60%), test (20%) and validation (20%). The model will be trained on the train set. Predictions will be made on the test and validation set to evaluate robustness of the model. If the MSE is similar on both sets, the model can be considered robust. The hyperparameter optimization will be performed according to the validation set, meaning that the early stop will be adjusted based on the imporvement on the validation set in its quaity of a hold-out set. Also, the validation loss will be tracked parellely to the loss on the train set."
      ]
    },
    {
      "cell_type": "code",
      "metadata": {
        "id": "b9pOhFehufxA"
      },
      "source": [
        "# split the data in train and hold-out (test) set\n",
        "features=df_clean.drop(['Claps'],axis=1)\n",
        "target=df_clean['Claps']\n",
        "\n",
        "X_train, X_test, y_train, y_test = train_test_split(features, target, test_size=0.4, random_state=111)\n",
        "\n",
        "# X sets contain length, responses, entries\n",
        "# y sets contain claps"
      ],
      "execution_count": null,
      "outputs": []
    },
    {
      "cell_type": "code",
      "metadata": {
        "id": "NSvvnwMPfQRI"
      },
      "source": [
        "# split the test set in test and validation set\n",
        "\n",
        "X_test, X_val, y_test, y_val = train_test_split(X_test, y_test, test_size=0.5, random_state=111)"
      ],
      "execution_count": null,
      "outputs": []
    },
    {
      "cell_type": "code",
      "metadata": {
        "id": "QVGTOBEuvIiK"
      },
      "source": [
        "y_val_list = []\n",
        "y_test_list = []\n",
        "for i in range (0, len(y_val)):\n",
        "  value_val = y_val.iloc[i]\n",
        "  value_test = y_test.iloc[i]\n",
        "  y_val_list.append(value_val)\n",
        "  y_test_list.append(value_test)"
      ],
      "execution_count": null,
      "outputs": []
    },
    {
      "cell_type": "code",
      "metadata": {
        "id": "4CrFE6y3YzsD"
      },
      "source": [
        "# since the features are both textual and numerical data, a separation is needed\n",
        "# save the textual data \n",
        "\n",
        "X_train_text = X_train[\"entry_clean\"]\n",
        "X_train_text_bm = X_train_text.copy()\n",
        "\n",
        "X_test_text = X_test[\"entry_clean\"]\n",
        "X_test_text_bm = X_test_text.copy()\n",
        "\n",
        "X_val_text = X_val[\"entry_clean\"]\n",
        "X_val_text_bm = X_val_text.copy()"
      ],
      "execution_count": null,
      "outputs": []
    },
    {
      "cell_type": "code",
      "metadata": {
        "id": "MOzeurmZgaq1"
      },
      "source": [
        "# save the numerical data\n",
        "X_train_num = X_train[[\"Length\", \"Responses\"]]\n",
        "X_train_num_bm = X_train_num.copy()\n",
        "\n",
        "X_test_num = X_test[[\"Length\", \"Responses\"]]\n",
        "X_test_num_bm = X_test_num.copy()\n",
        "\n",
        "X_val_num = X_val[[\"Length\", \"Responses\"]]\n",
        "X_val_num_bm = X_val_num.copy()"
      ],
      "execution_count": null,
      "outputs": []
    },
    {
      "cell_type": "code",
      "metadata": {
        "id": "MFFz2EnejiHR"
      },
      "source": [
        "# save all numerical variables (features + target) in one data frame, which will be used for the min/max normalization of the numerical variables\n",
        "train_frame_num = X_train_num.copy()\n",
        "train_frame_num[\"Claps\"] = y_train.values.copy()\n",
        "train_frame_num_bm = train_frame_num.copy()\n",
        "\n",
        "test_frame_num = X_test_num.copy()\n",
        "test_frame_num[\"Claps\"] = y_test.values.copy()\n",
        "test_frame_num_bm = test_frame_num.copy()\n",
        "\n",
        "val_frame_num = X_val_num.copy()\n",
        "val_frame_num[\"Claps\"] = y_val.values.copy()\n",
        "val_frame_num_bm = val_frame_num.copy()\n"
      ],
      "execution_count": null,
      "outputs": []
    },
    {
      "cell_type": "code",
      "metadata": {
        "id": "30nJAtAaJy6J"
      },
      "source": [
        "dataframes_bm = rescaled_numeric_input_dataframes(0, 1, train_frame_num_bm, test_frame_num_bm, val_frame_num_bm, X_train_num_bm, X_test_num_bm, X_val_num_bm, y_train, y_test, y_val)"
      ],
      "execution_count": null,
      "outputs": []
    },
    {
      "cell_type": "code",
      "metadata": {
        "id": "oeTNlrRKJ-ss"
      },
      "source": [
        "# create final data frames (series in the case of the y-sets), containing only normalized numeric values, which will be used in the keras model\n",
        "\n",
        "X_train_num_norm_bm = dataframes_bm[0] \n",
        "X_test_num_norm_bm = dataframes_bm[1]\n",
        "X_val_num_norm_bm = dataframes_bm[2]\n",
        "\n",
        "y_train_norm_bm = dataframes_bm[3]\n",
        "y_test_norm_bm = dataframes_bm[4]\n",
        "y_val_norm_bm = dataframes_bm[5]\n",
        "\n",
        "\n"
      ],
      "execution_count": null,
      "outputs": []
    },
    {
      "cell_type": "markdown",
      "metadata": {
        "id": "6mJTeYGZrhzN"
      },
      "source": [
        "Both text data and numeric data need to be pre-processed to be fed to a classifier. For the processing of the numeric data, the function rescaled_numeric_input_dataframes (described in detail in the \"Functions\" section) will be used to rescale the numeric output and create X and y data frames containing only rescaled numeric data, ready to be fed to the benchmark classifier (and the Keras Model later). \n",
        "\n",
        "The text data will be vectorized with the TFIDFVectorizer. The TFIDFVectorizer is a vectorizer going further than the CountVectorizer. The CountVectorizer bases the vectorization on the frequency a word appers in the document with. This results in biasing in favour of most frequent words and ends up in ignoring rare words which could help in processing the data more efficiently.\n",
        "\n",
        "A solution to this is the TFIDFVectorizer. With the TFIDFVectorizer the vectorized value increases proportionally to count, but is penalized proportionally to word frequency in the whole corpus, meaning that a value is porportional to the word frequency in the document and inversely proportional to frequency of the word in the corpus. This prevents rare words to lose on importance, since they are often representative of a document."
      ]
    },
    {
      "cell_type": "code",
      "metadata": {
        "id": "HHJPcN9Mfd0G",
        "colab": {
          "base_uri": "https://localhost:8080/",
          "height": 136
        },
        "outputId": "da05d5f5-099f-44cb-c42e-810c120c100e"
      },
      "source": [
        "# preprocessing text data - fitting the vectorizer on the train data and transforming the train, test and validation set based on the fit (see next cell)\n",
        "vectorizer = TfidfVectorizer(min_df=10)\n",
        "vectorizer.fit(X_train_text_bm) "
      ],
      "execution_count": null,
      "outputs": [
        {
          "output_type": "execute_result",
          "data": {
            "text/plain": [
              "TfidfVectorizer(analyzer='word', binary=False, decode_error='strict',\n",
              "                dtype=<class 'numpy.float64'>, encoding='utf-8',\n",
              "                input='content', lowercase=True, max_df=1.0, max_features=None,\n",
              "                min_df=10, ngram_range=(1, 1), norm='l2', preprocessor=None,\n",
              "                smooth_idf=True, stop_words=None, strip_accents=None,\n",
              "                sublinear_tf=False, token_pattern='(?u)\\\\b\\\\w\\\\w+\\\\b',\n",
              "                tokenizer=None, use_idf=True, vocabulary=None)"
            ]
          },
          "metadata": {
            "tags": []
          },
          "execution_count": 156
        }
      ]
    },
    {
      "cell_type": "code",
      "metadata": {
        "id": "AJy6EGAJj6pD"
      },
      "source": [
        "X_tfidf = vectorizer.transform(X_train_text_bm)\n",
        "X_test_tfidf = vectorizer.transform(X_test_text_bm)\n",
        "X_val_tfidf = vectorizer.transform(X_val_text_bm)"
      ],
      "execution_count": null,
      "outputs": []
    },
    {
      "cell_type": "markdown",
      "metadata": {
        "id": "6tgEsJY_zXjN"
      },
      "source": [
        "Since the classifier which will be used only accepts single inputs, the vectorized text data and the scaled numeric data must be put in one data frame. This is done with the function hstack, which stack arrays/data frames/matricesin sequence horizontally (column wise).\n",
        "\n"
      ]
    },
    {
      "cell_type": "code",
      "metadata": {
        "id": "7YouQp6Lhz9e"
      },
      "source": [
        "X_tr_final_bm = hstack([X_tfidf,X_train_num_norm_bm])\n",
        "X_test_final_bm = hstack([X_test_tfidf,X_test_num_norm_bm])\n",
        "X_val_final_bm = hstack([X_val_tfidf,X_val_num_norm_bm])"
      ],
      "execution_count": null,
      "outputs": []
    },
    {
      "cell_type": "markdown",
      "metadata": {
        "id": "EQNxuotqz-4A"
      },
      "source": [
        "Linear regression with Ridge penalty will be used as a benchmark. The penalty term will be set to its default value (no hyperparameter tuning), since the linear classifier serves as a benchmark and is not the focus of the work."
      ]
    },
    {
      "cell_type": "code",
      "metadata": {
        "id": "tGr0YHhNiltH"
      },
      "source": [
        "clf = Ridge(alpha=1, random_state=241)"
      ],
      "execution_count": null,
      "outputs": []
    },
    {
      "cell_type": "code",
      "metadata": {
        "id": "x6qXj9_RjS7z",
        "colab": {
          "base_uri": "https://localhost:8080/",
          "height": 51
        },
        "outputId": "c4ee8378-1145-4e0c-bbf4-8708a87d6ac2"
      },
      "source": [
        "clf.fit(X_tr_final_bm, y_train_norm_bm) "
      ],
      "execution_count": null,
      "outputs": [
        {
          "output_type": "execute_result",
          "data": {
            "text/plain": [
              "Ridge(alpha=1, copy_X=True, fit_intercept=True, max_iter=None, normalize=False,\n",
              "      random_state=241, solver='auto', tol=0.001)"
            ]
          },
          "metadata": {
            "tags": []
          },
          "execution_count": 160
        }
      ]
    },
    {
      "cell_type": "code",
      "metadata": {
        "id": "BvMlPrnansBw"
      },
      "source": [
        "rslt_val = clf.predict(X_val_final_bm)\n",
        "rslt_test = clf.predict(X_test_final_bm)"
      ],
      "execution_count": null,
      "outputs": []
    },
    {
      "cell_type": "code",
      "metadata": {
        "id": "xvwBt4yMscCF",
        "colab": {
          "base_uri": "https://localhost:8080/",
          "height": 51
        },
        "outputId": "8dc3091f-c34f-4578-feea-d8bc7c0fe8c8"
      },
      "source": [
        "# use the function get_mse_on_test_and_validation_set (described in detail above) to get predictions (scaled), inversely scale them and calculate the MSE\n",
        "get_mse_on_test_and_validation_set(normalized_val_num_frame_bm, normalized_test_num_frame_bm, rslt_val, rslt_test, y_val_list, y_test_list, scaler_bm)"
      ],
      "execution_count": null,
      "outputs": [
        {
          "output_type": "stream",
          "text": [
            "The MSE on the validation set is  7919306.0\n",
            "The MSE on the test set is  5270164.0\n"
          ],
          "name": "stdout"
        }
      ]
    },
    {
      "cell_type": "markdown",
      "metadata": {
        "id": "XciTqfw4yU_U"
      },
      "source": [
        "### 4.6 Text Data Preprocessing for Keras"
      ]
    },
    {
      "cell_type": "markdown",
      "metadata": {
        "id": "moByMS6v9fwi"
      },
      "source": [
        "The text data needs to be preprocessed differently for the Keras model than for the benchmark classifier. A Kers-Tokenizer must to the text train set and then the text train, text test and text validation set need to be transformed. Finally, the tokenized sequences need to be padded so that they are compatible to each other shape- and dimension-wise. Further explanations regarding padding and tokenizations will not follow, since both are standard procedures when processing text data for a neural netowork model."
      ]
    },
    {
      "cell_type": "code",
      "metadata": {
        "id": "WfPDQ4damo_L",
        "colab": {
          "base_uri": "https://localhost:8080/",
          "height": 34
        },
        "outputId": "2857f618-f8d3-4863-ca99-9c81488fedcf"
      },
      "source": [
        "#count the amount of unique words in all entries\n",
        "county = []\n",
        "for i in range (0, len(X_train_text)):\n",
        "  count = Counter(X_train_text.iloc[i].split())\n",
        "  county.append(len(count))\n",
        "sum(county)"
      ],
      "execution_count": null,
      "outputs": [
        {
          "output_type": "execute_result",
          "data": {
            "text/plain": [
              "10549903"
            ]
          },
          "metadata": {
            "tags": []
          },
          "execution_count": 163
        }
      ]
    },
    {
      "cell_type": "code",
      "metadata": {
        "id": "UIHQCF6J658b"
      },
      "source": [
        "NUM_WORDS = 100000 # anything higher than this is very computationally expensive\n",
        "\n",
        "# Create tokenizer object and build vocab from the training set\n",
        "tokenizer_obj = Tokenizer(NUM_WORDS, oov_token=1)  #  fit the tokenizer to the training entries. The test set might include words that are not part of the training data. The argument oov_token ensures that such new words are mapped to the specified index\n",
        "tokenizer_obj.fit_on_texts(X_train_text)"
      ],
      "execution_count": null,
      "outputs": []
    },
    {
      "cell_type": "code",
      "metadata": {
        "id": "kKDSrf3F9cr-"
      },
      "source": [
        "X_tr_text_int = tokenizer_obj.texts_to_sequences(X_train_text)\n",
        "X_test_text_int = tokenizer_obj.texts_to_sequences(X_test_text)\n",
        "X_val_text_int = tokenizer_obj.texts_to_sequences(X_val_text)"
      ],
      "execution_count": null,
      "outputs": []
    },
    {
      "cell_type": "code",
      "metadata": {
        "id": "EoRcyZcQ_UYg",
        "colab": {
          "base_uri": "https://localhost:8080/",
          "height": 34
        },
        "outputId": "0e49c4d6-49ee-494d-b027-d8ba766d77d3"
      },
      "source": [
        "max_entry_length = max([len(review) for review in X_tr_text_int])\n",
        "print('The longest entry of the training set has {} words.'.format(max_entry_length))"
      ],
      "execution_count": null,
      "outputs": [
        {
          "output_type": "stream",
          "text": [
            "The longest entry of the training set has 13275 words.\n"
          ],
          "name": "stdout"
        }
      ]
    },
    {
      "cell_type": "code",
      "metadata": {
        "id": "i1zXVq19_n-K"
      },
      "source": [
        "# pad the text data\n",
        "MAX_REVIEW_LENGTH = 13275\n",
        "\n",
        "X_tr_text_int_pad = pad_sequences(X_tr_text_int, MAX_REVIEW_LENGTH)\n",
        "X_test_text_int_pad = pad_sequences(X_test_text_int, MAX_REVIEW_LENGTH)\n",
        "X_val_text_int_pad = pad_sequences(X_val_text_int, MAX_REVIEW_LENGTH)"
      ],
      "execution_count": null,
      "outputs": []
    },
    {
      "cell_type": "code",
      "metadata": {
        "id": "5eXCukYNStSx",
        "colab": {
          "base_uri": "https://localhost:8080/",
          "height": 34
        },
        "outputId": "ee25f6cf-d2d0-4308-e0cb-b07c506d1e40"
      },
      "source": [
        "X_tr_text_int_pad.shape, X_test_text_int_pad.shape, X_val_text_int_pad.shape"
      ],
      "execution_count": null,
      "outputs": [
        {
          "output_type": "execute_result",
          "data": {
            "text/plain": [
              "((39668, 13275), (13223, 13275), (13223, 13275))"
            ]
          },
          "metadata": {
            "tags": []
          },
          "execution_count": 168
        }
      ]
    },
    {
      "cell_type": "markdown",
      "metadata": {
        "id": "DXGNHrKaVQcS"
      },
      "source": [
        "## 5. Load the Embeddings and Normalize the Numeric Input for Keras"
      ]
    },
    {
      "cell_type": "code",
      "metadata": {
        "id": "gXdE8HHZwuXj",
        "colab": {
          "base_uri": "https://localhost:8080/",
          "height": 34
        },
        "outputId": "b642833f-ab7d-45c2-b8f1-0bf236681e4a"
      },
      "source": [
        "# load glove embeddings 50 dim\n",
        "\n",
        "glove_index = {}\n",
        "with open(\"/content/gdrive/My Drive/ADAMS_2020/glove.6B.50d.txt\",'r', encoding=\"utf8\") as f:\n",
        "  for line in f:\n",
        "        values = line.split()\n",
        "        word = values[0]\n",
        "        coefs = np.asarray(values[1:], dtype='float32')\n",
        "        glove_index[word] = coefs\n",
        "\n",
        "print('Found %s word vectors.' % len(glove_index))"
      ],
      "execution_count": null,
      "outputs": [
        {
          "output_type": "stream",
          "text": [
            "Found 400000 word vectors.\n"
          ],
          "name": "stdout"
        }
      ]
    },
    {
      "cell_type": "code",
      "metadata": {
        "id": "IYfzh-c52iIJ",
        "colab": {
          "base_uri": "https://localhost:8080/",
          "height": 51
        },
        "outputId": "13d85680-6ad8-4419-8050-3b825b3b2586"
      },
      "source": [
        "# get glove embedding weights using the get_embedding function (described in detail in the section Functions)\n",
        "glove_weights, _ = get_embedding_matrix(tokenizer_obj, glove_index, NUM_WORDS)"
      ],
      "execution_count": null,
      "outputs": [
        {
          "output_type": "stream",
          "text": [
            "Created embedding matrix of shape (100000, 50)\n",
            "Encountered 109026 out-of-vocabulary words.\n"
          ],
          "name": "stdout"
        }
      ]
    },
    {
      "cell_type": "markdown",
      "metadata": {
        "id": "4CnDC4lw-5HZ"
      },
      "source": [
        "As already mentioned at the end of section 4.3, after the embedding matrix has been created, the min and the max value will be extracted and the numeric data will be rescaled between these two values. This way, the data (which is now all numeric) will on on the same scale, which will enable the model to fit faster."
      ]
    },
    {
      "cell_type": "code",
      "metadata": {
        "id": "Q8pzQkbLFYnT"
      },
      "source": [
        "# extract min value from the embeddings\n",
        "min = 0\n",
        "for p in range (0, glove_weights.shape[0]):\n",
        "  for q in range (0, glove_weights.shape[1]):\n",
        "    if glove_weights[p][q] < min:\n",
        "      min = glove_weights[p][q]"
      ],
      "execution_count": null,
      "outputs": []
    },
    {
      "cell_type": "code",
      "metadata": {
        "id": "qOqT05oBFanG"
      },
      "source": [
        "# extract max value from the embeddings\n",
        "max = 0\n",
        "for r in range (0, glove_weights.shape[0]):\n",
        "  for s in range (0, glove_weights.shape[1]):\n",
        "    if glove_weights[r][s] > max:\n",
        "      max = glove_weights[r][s]"
      ],
      "execution_count": null,
      "outputs": []
    },
    {
      "cell_type": "code",
      "metadata": {
        "id": "lvEYeUfujndV",
        "colab": {
          "base_uri": "https://localhost:8080/",
          "height": 34
        },
        "outputId": "adb7df72-500a-4736-b6be-63533bcc1383"
      },
      "source": [
        "min, max"
      ],
      "execution_count": null,
      "outputs": [
        {
          "output_type": "execute_result",
          "data": {
            "text/plain": [
              "(-4.625199794769287, 5.0756001472473145)"
            ]
          },
          "metadata": {
            "tags": []
          },
          "execution_count": 173
        }
      ]
    },
    {
      "cell_type": "markdown",
      "metadata": {
        "id": "MyKGtj7HPVqA"
      },
      "source": [
        "#### Min-Max-Normalization of Numerical Variables for the Keras Model"
      ]
    },
    {
      "cell_type": "code",
      "metadata": {
        "id": "mIEaVQzIMVkA"
      },
      "source": [
        "dataframes = rescaled_numeric_input_dataframes(min, max, train_frame_num, test_frame_num, val_frame_num, X_train_num, X_test_num, X_val_num, y_train, y_test, y_val)"
      ],
      "execution_count": null,
      "outputs": []
    },
    {
      "cell_type": "code",
      "metadata": {
        "id": "ClB4lIHpMVkD"
      },
      "source": [
        "# create final data frames (series in the case of the y-sets), containing only normalized numeric values, which will be used in the keras model\n",
        "\n",
        "X_train_num_norm = dataframes[0] \n",
        "X_test_num_norm = dataframes[1]\n",
        "X_val_num_norm = dataframes[2]\n",
        "\n",
        "y_train_norm = dataframes[3]\n",
        "y_test_norm = dataframes[4]\n",
        "y_val_norm = dataframes[5]\n",
        "\n",
        "\n"
      ],
      "execution_count": null,
      "outputs": []
    },
    {
      "cell_type": "markdown",
      "metadata": {
        "id": "v0ggr7pRWEAC"
      },
      "source": [
        "## 6. Estimate the ML Model\n",
        "\n",
        "In the case of the benchmark classifier, the transformed text data and the numeric data were stacked in one frame. Neural networks however allow the implementation of features (e.g. recurrent layers), which are particularly useful for text data modeling and could potentially improve the model performance if optimized sufficiently. In addition, an embedding layer belongs to the architecture of an NLP model. Numeric variables cannot and should not go through this layer. They could go through a recurrent layer, but it wouldn't be as beneficial as it is for text data, since the main idea of recurrent NNs (memorizing long term dependencies) makes much more sense within the context of big amount of text data. So, it doesn't make sense to apply a relatively computationally expensive recurrent layer on data, which won't benefit from it much. Thus, in order to make use of all types of data available, it is reasonable to estimate a multiple inputs (two-headed) model. This is achieved in Keras by using Keras' functional API.  \n",
        "\n",
        "Two separate \"sub\" neural networks are created for each type of data. The first sub NN operates on the text data. An embedding layer and a recurrent layer are both implemented. The recurrent layer is a CuDNNLSTM-layer - a variation of an LSTM layer - which fits the data significantly faster than an LSTM or a GRU layer. A drawback of CuDNNLSTM is that it only uses tanh as activation function, which is little flexible as it only covers the range from 0 to 1. LSTM and GRU layers have more potential to fit the data better as they both can use various activation functions, but are much more computationally expensive. Thus, CuDNNLSTM is a good alternative when having little computational power.\n",
        "Drop-out layers are used to prevent overfitting. \n",
        "\n",
        "The numeric data flows through dense layers with drop-out layers inbetween. \n",
        "\n",
        "Finally, both sub NNs are merged to one, to which only a final output dense layer is added. This then represents the model to be trained and tuned.\n",
        "\n",
        "The imeplementation of the multiple inputs model is shown below.\n",
        "\n"
      ]
    },
    {
      "cell_type": "code",
      "metadata": {
        "id": "gANvSRonA2OO"
      },
      "source": [
        "# Some variables to centralize the configuration of deep learning models\n",
        "NB_HIDDEN = 50\n",
        "EPOCH = 35\n",
        "BATCH_SIZE = 128\n",
        "EMBEDDING_DIM = 50\n",
        "VAL_SPLIT = 0.25  # fraction of the training set used for validation"
      ],
      "execution_count": null,
      "outputs": []
    },
    {
      "cell_type": "code",
      "metadata": {
        "id": "AGE31uZzwpHg"
      },
      "source": [
        "# Using Keras' functional API: two input objects - one for the text data, one for the numeric one\n",
        "inputA = Input(shape=(MAX_REVIEW_LENGTH,))\n",
        "inputB = Input(shape=(X_train_num_norm.shape[1],))"
      ],
      "execution_count": null,
      "outputs": []
    },
    {
      "cell_type": "code",
      "metadata": {
        "id": "2_JralJMAM-X"
      },
      "source": [
        "# create the embedding layer\n",
        "embedding_layer = Embedding(NUM_WORDS, \n",
        "                         EMBEDDING_DIM,  \n",
        "                         embeddings_initializer=Constant(glove_weights), \n",
        "                         input_length=MAX_REVIEW_LENGTH, \n",
        "                         trainable=False  # we start with frozen weights and relax this choice in model #5\n",
        "                         )(inputA)"
      ],
      "execution_count": null,
      "outputs": []
    },
    {
      "cell_type": "code",
      "metadata": {
        "id": "_RHXgD-nQEOX"
      },
      "source": [
        "# first branch operating on textual input\n",
        "\n",
        "a = CuDNNLSTM(NB_HIDDEN,return_sequences=True)(embedding_layer)\n",
        "a = (Dropout(0.25))(a)\n",
        "a = CuDNNLSTM(NB_HIDDEN,return_sequences=True)(a)\n",
        "a = (Dropout(0.25))(a)\n",
        "a = CuDNNLSTM(NB_HIDDEN)(a)\n",
        "a = (Dropout(0.25))(a)\n",
        "a_m = Model(inputs=inputA, outputs=a)"
      ],
      "execution_count": null,
      "outputs": []
    },
    {
      "cell_type": "code",
      "metadata": {
        "id": "8dHt21z0QEOb"
      },
      "source": [
        "# second branch operating on numerical input\n",
        " \n",
        "b = Dense(50, activation=\"tanh\")(inputB)\n",
        "b = (Dropout(0.5))(b)\n",
        "b = Dense(25, activation=\"tanh\")(b)\n",
        "b = (Dropout(0.25))(b)\n",
        "b_m = Model(inputs=inputB, outputs=b)"
      ],
      "execution_count": null,
      "outputs": []
    },
    {
      "cell_type": "code",
      "metadata": {
        "id": "fPu4G1sDwpA8"
      },
      "source": [
        "# combine output of the two branches\n",
        "combined = concatenate([a_m.output, b_m.output])"
      ],
      "execution_count": null,
      "outputs": []
    },
    {
      "cell_type": "code",
      "metadata": {
        "id": "PiVdGz2Hwo61"
      },
      "source": [
        "# apply a final dense output layer and then train and tune the combined model\n",
        "\n",
        "z2 = Dense(1, activation=\"linear\")(combined)"
      ],
      "execution_count": null,
      "outputs": []
    },
    {
      "cell_type": "code",
      "metadata": {
        "id": "jZifJVz0wo17"
      },
      "source": [
        "model = Model(inputs=[a_m.input, b_m.input], outputs=z2)"
      ],
      "execution_count": null,
      "outputs": []
    },
    {
      "cell_type": "code",
      "metadata": {
        "id": "yRony9cjwouV",
        "colab": {
          "base_uri": "https://localhost:8080/",
          "height": 476
        },
        "outputId": "cc8f3ca5-f7a4-4b1f-8827-423354573a61"
      },
      "source": [
        "model.summary()"
      ],
      "execution_count": null,
      "outputs": [
        {
          "output_type": "stream",
          "text": [
            "Model: \"functional_5\"\n",
            "__________________________________________________________________________________________________\n",
            "Layer (type)                    Output Shape         Param #     Connected to                     \n",
            "==================================================================================================\n",
            "input_1 (InputLayer)            [(None, 13275)]      0                                            \n",
            "__________________________________________________________________________________________________\n",
            "embedding (Embedding)           (None, 13275, 50)    5000000     input_1[0][0]                    \n",
            "__________________________________________________________________________________________________\n",
            "input_2 (InputLayer)            [(None, 2)]          0                                            \n",
            "__________________________________________________________________________________________________\n",
            "cu_dnnlstm (CuDNNLSTM)          (None, 50)           20400       embedding[0][0]                  \n",
            "__________________________________________________________________________________________________\n",
            "dense (Dense)                   (None, 50)           150         input_2[0][0]                    \n",
            "__________________________________________________________________________________________________\n",
            "dropout (Dropout)               (None, 50)           0           cu_dnnlstm[0][0]                 \n",
            "__________________________________________________________________________________________________\n",
            "dropout_1 (Dropout)             (None, 50)           0           dense[0][0]                      \n",
            "__________________________________________________________________________________________________\n",
            "concatenate (Concatenate)       (None, 100)          0           dropout[0][0]                    \n",
            "                                                                 dropout_1[0][0]                  \n",
            "__________________________________________________________________________________________________\n",
            "dense_1 (Dense)                 (None, 1)            101         concatenate[0][0]                \n",
            "==================================================================================================\n",
            "Total params: 5,020,651\n",
            "Trainable params: 20,651\n",
            "Non-trainable params: 5,000,000\n",
            "__________________________________________________________________________________________________\n"
          ],
          "name": "stdout"
        }
      ]
    },
    {
      "cell_type": "code",
      "metadata": {
        "id": "w80gbmzov8fz"
      },
      "source": [
        "opt = optimizers.Adam(lr=0.001)"
      ],
      "execution_count": null,
      "outputs": []
    },
    {
      "cell_type": "code",
      "metadata": {
        "id": "dpUy7Dlcv8tq"
      },
      "source": [
        "# set loss function to MSE, because the task is regression\n",
        "model.compile(optimizer=opt, loss='MSE')"
      ],
      "execution_count": null,
      "outputs": []
    },
    {
      "cell_type": "code",
      "metadata": {
        "id": "p0wjxYJX-K9t"
      },
      "source": [
        "# create a checkpoint callback to save the best model (so that predictions can be generated straight after, without having to fit it once again)\n",
        "model_checkpoint_callback = tensorflow.keras.callbacks.ModelCheckpoint(\"/content/gdrive/My Drive/ADAMS_2020/best_num_textModel.h5\",save_best_only=True)\n",
        "early_stop = EarlyStopping(monitor='val_loss', min_delta=0.001, patience=10, restore_best_weights=True)"
      ],
      "execution_count": null,
      "outputs": []
    },
    {
      "cell_type": "code",
      "metadata": {
        "id": "v8itUiEBveet"
      },
      "source": [
        "# train the model\n",
        "story = model.fit([X_tr_text_int_pad, X_train_num_norm],y_train_norm,batch_size=128, verbose=0, epochs=EPOCH, validation_data=([X_val_text_int_pad, X_val_num_norm], y_val_norm), callbacks=[model_checkpoint_callback, early_stop])\n"
      ],
      "execution_count": null,
      "outputs": []
    },
    {
      "cell_type": "markdown",
      "metadata": {
        "id": "lQuYkfruXYK5"
      },
      "source": [
        "The loss on the train and the validation set is plotted below using the function train_test_loss (defined in section Functions). The loss on the train set falls drastically at the beginning, which is typical for the Adam optimizer. The validation loss is constant, which means that the model is not learning and keeps overfitting more and more with each epoch (because the train loss keeps decreasing). This means that the difference between val loss and train loss gets higher and higher and the model fits too closely to the train data and doesn't perform well on unseen data. One possible solution to the problem of not learing is reducing the amount of drop out layers. Hyperparameter optimization will be performed for further changed."
      ]
    },
    {
      "cell_type": "code",
      "metadata": {
        "id": "22dM4z5pQ3Ho",
        "colab": {
          "base_uri": "https://localhost:8080/",
          "height": 295
        },
        "outputId": "fa00a404-3f98-49c5-93d8-306fb441d413"
      },
      "source": [
        "train_test_loss(story)"
      ],
      "execution_count": null,
      "outputs": [
        {
          "output_type": "display_data",
          "data": {
            "image/png": "[encoded data removed]",
            "text/plain": [
              "<Figure size 432x288 with 1 Axes>"
            ]
          },
          "metadata": {
            "tags": [],
            "needs_background": "light"
          }
        }
      ]
    },
    {
      "cell_type": "code",
      "metadata": {
        "id": "vPaLHQvhZ1xY"
      },
      "source": [
        "loaded_model = tensorflow.keras.models.load_model('/content/gdrive/My Drive/ADAMS_2020/best_num_textModel.h5')\n"
      ],
      "execution_count": null,
      "outputs": []
    },
    {
      "cell_type": "code",
      "metadata": {
        "id": "D4GJ7FN__cdJ"
      },
      "source": [
        "pred_val_set = loaded_model.predict([X_val_text_int_pad, X_val_num_norm])\n",
        "pred_test_set = loaded_model.predict([X_test_text_int_pad, X_test_num_norm])"
      ],
      "execution_count": null,
      "outputs": []
    },
    {
      "cell_type": "code",
      "metadata": {
        "id": "3-XrtVpMwiDx",
        "colab": {
          "base_uri": "https://localhost:8080/",
          "height": 51
        },
        "outputId": "c8919578-9fdf-4f84-84e1-a89637617258"
      },
      "source": [
        "get_mse_on_test_and_validation_set(normalized_val_num_frame, normalized_test_num_frame, pred_val_set, pred_test_set, y_val_list, y_test_list)"
      ],
      "execution_count": null,
      "outputs": [
        {
          "output_type": "stream",
          "text": [
            "The MSE on the validation set is  7614620.0\n",
            "The MSE on the test set is  5427858.0\n"
          ],
          "name": "stdout"
        }
      ]
    },
    {
      "cell_type": "markdown",
      "metadata": {
        "id": "Utj8ZGII8i8F"
      },
      "source": [
        "## 7. Tune the ML Model: **Hyperparameter-Optimization**"
      ]
    },
    {
      "cell_type": "code",
      "metadata": {
        "id": "i7ZR9I7OH746"
      },
      "source": [
        "hp_optimization=HP_Optimization(X_train_numerical = X_train_num_norm , X_train_textual = X_tr_text_int_pad,y_train=y_train_norm,\n",
        "                                X_val_numerical = X_val_num_norm,X_val_textual=X_val_text_int_pad,y_val=y_val_norm,\n",
        "                                X_test_numerical = X_test_num_norm,X_test_textual=X_test_text_int_pad,y_test_orig_list=y_test_list,y_val_orig_list=y_val_list,\n",
        "                                X_val_numerical_frame = normalized_val_num_frame, X_test_numerical_frame= normalized_test_num_frame,\n",
        "                                max_length_review = MAX_REVIEW_LENGTH,num_words= NUM_WORDS,embedding_dim=EMBEDDING_DIM,embedding_weights=glove_weights,\n",
        "                                scaler = scaler,num_trials= 10)\n",
        "\n"
      ],
      "execution_count": null,
      "outputs": []
    },
    {
      "cell_type": "code",
      "metadata": {
        "id": "JUYEX5GX5uu5"
      },
      "source": [
        "results_hp_optimization=hp_optimization.run_hp()"
      ],
      "execution_count": null,
      "outputs": []
    },
    {
      "cell_type": "markdown",
      "metadata": {
        "id": "CC_sZVmGQpcA"
      },
      "source": [
        "The following architecture is the one delivering best results within the 10 trials of optimization."
      ]
    },
    {
      "cell_type": "code",
      "metadata": {
        "id": "EGUKGGUaBr9S"
      },
      "source": [
        "# first branch operating on text input\n",
        "\n",
        "a = CuDNNLSTM(NB_HIDDEN)(embedding_layer)\n",
        "a = (Dropout(0.25))(a)\n",
        "a_m = Model(inputs=inputA, outputs=a)"
      ],
      "execution_count": null,
      "outputs": []
    },
    {
      "cell_type": "code",
      "metadata": {
        "id": "YoGa1tOnwpWm"
      },
      "source": [
        "# second branch operating on numeric input\n",
        "# tanh is used as activation function for the purpose of consistency (CuDNNLSTM uses tanh only)\n",
        " \n",
        "b = Dense(50, activation=\"tanh\")(inputB)\n",
        "b = (Dropout(0.25))(b)\n",
        "b_m = Model(inputs=inputB, outputs=b)"
      ],
      "execution_count": null,
      "outputs": []
    },
    {
      "cell_type": "code",
      "metadata": {
        "id": "P-7-kCgR8GFu"
      },
      "source": [
        "# combine output of the two branches\n",
        "combined = concatenate([a_m.output, b_m.output])"
      ],
      "execution_count": null,
      "outputs": []
    },
    {
      "cell_type": "code",
      "metadata": {
        "id": "veSlSZIM8GFw"
      },
      "source": [
        "# apply a Dense layer and then a regression prediction on the combined outputs\n",
        "\n",
        "z2 = Dense(1, activation=\"linear\")(combined)"
      ],
      "execution_count": null,
      "outputs": []
    },
    {
      "cell_type": "code",
      "metadata": {
        "id": "d6O8sahu3rU4"
      },
      "source": [
        "model_tuned = Model(inputs=[a_m.input, b_m.input], outputs=z2)"
      ],
      "execution_count": null,
      "outputs": []
    },
    {
      "cell_type": "code",
      "metadata": {
        "id": "W36Sls7z3mD5",
        "colab": {
          "base_uri": "https://localhost:8080/",
          "height": 680
        },
        "outputId": "27b377e9-1a39-478e-86d5-aa3c4e0e13c7"
      },
      "source": [
        "model_tuned.summary()"
      ],
      "execution_count": null,
      "outputs": [
        {
          "output_type": "stream",
          "text": [
            "Model: \"functional_19\"\n",
            "__________________________________________________________________________________________________\n",
            "Layer (type)                    Output Shape         Param #     Connected to                     \n",
            "==================================================================================================\n",
            "input_3 (InputLayer)            [(None, 13275)]      0                                            \n",
            "__________________________________________________________________________________________________\n",
            "embedding_2 (Embedding)         (None, 13275, 50)    5000000     input_3[0][0]                    \n",
            "__________________________________________________________________________________________________\n",
            "cu_dnnlstm_23 (CuDNNLSTM)       (None, 13275, 50)    20400       embedding_2[0][0]                \n",
            "__________________________________________________________________________________________________\n",
            "dropout_21 (Dropout)            (None, 13275, 50)    0           cu_dnnlstm_23[0][0]              \n",
            "__________________________________________________________________________________________________\n",
            "input_4 (InputLayer)            [(None, 2)]          0                                            \n",
            "__________________________________________________________________________________________________\n",
            "cu_dnnlstm_24 (CuDNNLSTM)       (None, 13275, 50)    20400       dropout_21[0][0]                 \n",
            "__________________________________________________________________________________________________\n",
            "dense_12 (Dense)                (None, 50)           150         input_4[0][0]                    \n",
            "__________________________________________________________________________________________________\n",
            "dropout_22 (Dropout)            (None, 13275, 50)    0           cu_dnnlstm_24[0][0]              \n",
            "__________________________________________________________________________________________________\n",
            "dropout_24 (Dropout)            (None, 50)           0           dense_12[0][0]                   \n",
            "__________________________________________________________________________________________________\n",
            "cu_dnnlstm_25 (CuDNNLSTM)       (None, 50)           20400       dropout_22[0][0]                 \n",
            "__________________________________________________________________________________________________\n",
            "dense_13 (Dense)                (None, 25)           1275        dropout_24[0][0]                 \n",
            "__________________________________________________________________________________________________\n",
            "dropout_23 (Dropout)            (None, 50)           0           cu_dnnlstm_25[0][0]              \n",
            "__________________________________________________________________________________________________\n",
            "dropout_25 (Dropout)            (None, 25)           0           dense_13[0][0]                   \n",
            "__________________________________________________________________________________________________\n",
            "concatenate_3 (Concatenate)     (None, 75)           0           dropout_23[0][0]                 \n",
            "                                                                 dropout_25[0][0]                 \n",
            "__________________________________________________________________________________________________\n",
            "dense_14 (Dense)                (None, 1)            76          concatenate_3[0][0]              \n",
            "==================================================================================================\n",
            "Total params: 5,062,701\n",
            "Trainable params: 62,701\n",
            "Non-trainable params: 5,000,000\n",
            "__________________________________________________________________________________________________\n"
          ],
          "name": "stdout"
        }
      ]
    },
    {
      "cell_type": "code",
      "metadata": {
        "id": "8hZLDMon33xY"
      },
      "source": [
        "# set loss function to MSE, because the task is regression\n",
        "model_tuned.compile(optimizer=opt, loss='MSE')"
      ],
      "execution_count": null,
      "outputs": []
    },
    {
      "cell_type": "code",
      "metadata": {
        "id": "6tcqXZj533xg"
      },
      "source": [
        "# train the modelmodel = Model(inputs=[a_m.input, b_m.input], outputs=z2)\n",
        "story_tuned = model_tuned.fit([X_tr_text_int_pad, X_train_num_norm],y_train_norm,batch_size=128,verbose =0, epochs=EPOCH, validation_data=([X_val_text_int_pad, X_val_num_norm], y_val_norm), callbacks=[model_checkpoint_callback, early_stop])\n"
      ],
      "execution_count": null,
      "outputs": []
    },
    {
      "cell_type": "markdown",
      "metadata": {
        "id": "vX5lW3FeRKBk"
      },
      "source": [
        "The loss on the train set again falls drastically at the beginning, but as already said this is typical for the Adam optimizer. The validation loss shows decreasing tendency, but also jumps across all epochs. The decrease means that the model is learning, but the jumps imply overfitting (because the validation loss in epoch t is higher than in epoch t-1), which means that the model fits too closely to the train data and doesn't perform well on unseen data. The hyperparameters of the model need to be optimized further for an improved performance. An extensive optimization is, however, only possible whe sufficient computational resources are available."
      ]
    },
    {
      "cell_type": "code",
      "metadata": {
        "id": "gEKB5LwCQPO0",
        "colab": {
          "base_uri": "https://localhost:8080/",
          "height": 295
        },
        "outputId": "4c83cd10-66c1-42ba-97e1-5481f32dd190"
      },
      "source": [
        "train_test_loss(story_tuned)"
      ],
      "execution_count": null,
      "outputs": [
        {
          "output_type": "display_data",
          "data": {
            "image/png": "[encoded data removed]",
            "text/plain": [
              "<Figure size 432x288 with 1 Axes>"
            ]
          },
          "metadata": {
            "tags": [],
            "needs_background": "light"
          }
        }
      ]
    },
    {
      "cell_type": "code",
      "metadata": {
        "id": "W4aivTBgR3Q6"
      },
      "source": [
        "loaded_tuned_model = tensorflow.keras.models.load_model('/content/gdrive/My Drive/ADAMS_2020/best_num_textModel.h5')\n"
      ],
      "execution_count": null,
      "outputs": []
    },
    {
      "cell_type": "code",
      "metadata": {
        "id": "uZHGgED8SBbT"
      },
      "source": [
        "pred_val_set_tuned = loaded_tuned_model.predict([X_val_text_int_pad, X_val_num_norm])\n",
        "pred_test_set_tuned = loaded_tuned_model.predict([X_test_text_int_pad, X_test_num_norm])"
      ],
      "execution_count": null,
      "outputs": []
    },
    {
      "cell_type": "code",
      "metadata": {
        "id": "aC2vr0q_SBbZ",
        "colab": {
          "base_uri": "https://localhost:8080/",
          "height": 51
        },
        "outputId": "d801b037-0c0e-4fdc-dec3-fac9b34d3702"
      },
      "source": [
        "get_mse_on_test_and_validation_set(normalized_val_num_frame, normalized_test_num_frame, pred_val_set_tuned, pred_test_set_tuned, y_val_list, y_test_list, scaler)"
      ],
      "execution_count": null,
      "outputs": [
        {
          "output_type": "stream",
          "text": [
            "The MSE on the validation set is  7718051.0\n",
            "The MSE on the test set is  5123486.0\n"
          ],
          "name": "stdout"
        }
      ]
    },
    {
      "cell_type": "markdown",
      "metadata": {
        "id": "MjQ5FZSmSqJ6"
      },
      "source": [
        "### **Summary of Results**\n",
        "\n",
        "**Benchmark**:\n",
        "\n",
        "The MSE on the validation set is  7919306.0\n",
        "\n",
        "The MSE on the test set is  5270164.0\n",
        "\n",
        "**NN without tuning:**\n",
        "\n",
        "The MSE on the validation set is  7614620.0\n",
        "\n",
        "The MSE on the test set is  5427858.0\n",
        "\n",
        "**NN with tuning:**\n",
        "\n",
        "The MSE on the validation set is  7718051.0\n",
        "\n",
        "The MSE on the test set is  5123486.0\n",
        "\n",
        "\n",
        "To create a parallel between results and theory the following can be said:\n",
        "\n",
        "in general, linear classifiers perform decently on text data, since it is very high dimensional and thus often linearily separable. Also, over-fitting is usually well prevented in the case of linear ridge regression since the classifier is not as powerful unlike non-linear classifiers (so it cannnot fit the data too closely). Non-linear classifiers such as neural networks could potentially fit the model better, but require extensive hyperparameter optimization. This could explain the similar performance of the benchmark and the not tuned model. In the current case, hyperprameter optimization has only been performed for 10 trials, which is insufficient to optimize the performance of a NN with over 20.000 trainable parmeters, which result from the embedding and recurrent layers used. In addition, as already said earlier, CuDNNLSTM layers use much less computational power, but are more limited in their quality to fit the data because the only activation function they can use, is tanh. Still, as the results show the performance of the tuned model performs overall the best, even if just slightly better than the benchmark and the not tuned model. With more trials and regular LSTM (or other (bidirectional) recurrent layers), the performance could improve more significantly. "
      ]
    },
    {
      "cell_type": "markdown",
      "metadata": {
        "id": "IMvys7Pq8LX0"
      },
      "source": [
        "## 8. Test Data\n",
        "\n",
        "Most of this section is very similar to section 4."
      ]
    },
    {
      "cell_type": "markdown",
      "metadata": {
        "id": "1WVZuir48Wn1"
      },
      "source": [
        "### 8.1 Data Analysis and Data Preprocessing"
      ]
    },
    {
      "cell_type": "code",
      "metadata": {
        "id": "Q1M6FXNV8mBu",
        "colab": {
          "base_uri": "https://localhost:8080/",
          "height": 306
        },
        "outputId": "c0500949-676b-4a8f-d272-55622ccd8e26"
      },
      "source": [
        "df_test.head(5)"
      ],
      "execution_count": null,
      "outputs": [
        {
          "output_type": "execute_result",
          "data": {
            "text/html": [
              "<div>\n",
              "<style scoped>\n",
              "    .dataframe tbody tr th:only-of-type {\n",
              "        vertical-align: middle;\n",
              "    }\n",
              "\n",
              "    .dataframe tbody tr th {\n",
              "        vertical-align: top;\n",
              "    }\n",
              "\n",
              "    .dataframe thead th {\n",
              "        text-align: right;\n",
              "    }\n",
              "</style>\n",
              "<table border=\"1\" class=\"dataframe\">\n",
              "  <thead>\n",
              "    <tr style=\"text-align: right;\">\n",
              "      <th></th>\n",
              "      <th>Unnamed: 0</th>\n",
              "      <th>index</th>\n",
              "      <th>Author</th>\n",
              "      <th>PublicationDetails</th>\n",
              "      <th>Responses</th>\n",
              "      <th>Header</th>\n",
              "      <th>Text</th>\n",
              "      <th>Length</th>\n",
              "    </tr>\n",
              "  </thead>\n",
              "  <tbody>\n",
              "    <tr>\n",
              "      <th>0</th>\n",
              "      <td>0</td>\n",
              "      <td>0</td>\n",
              "      <td>Daniel Jeffries</td>\n",
              "      <td>Daniel Jeffries in HackerNoon.comJul 31, 2017</td>\n",
              "      <td>627 responses</td>\n",
              "      <td>Why Everyone Missed the Most Mind-Blowing Feat...</td>\n",
              "      <td>There’s one incredible feature of cryptocurren...</td>\n",
              "      <td>23401</td>\n",
              "    </tr>\n",
              "    <tr>\n",
              "      <th>1</th>\n",
              "      <td>1</td>\n",
              "      <td>1</td>\n",
              "      <td>Noam Levenson</td>\n",
              "      <td>Noam Levenson in HackerNoon.comDec 6, 2017</td>\n",
              "      <td>156 responses</td>\n",
              "      <td>NEO versus Ethereum: Why NEO might be 2018’s s...</td>\n",
              "      <td>&lt;img class=\"progressiveMedia-noscript js-progr...</td>\n",
              "      <td>23972</td>\n",
              "    </tr>\n",
              "    <tr>\n",
              "      <th>2</th>\n",
              "      <td>2</td>\n",
              "      <td>2</td>\n",
              "      <td>Daniel Jeffries</td>\n",
              "      <td>Daniel Jeffries in HackerNoon.comJul 21, 2017</td>\n",
              "      <td>176 responses</td>\n",
              "      <td>The Cryptocurrency Trading Bible</td>\n",
              "      <td>So you want to trade cryptocurrency?You’ve see...</td>\n",
              "      <td>402</td>\n",
              "    </tr>\n",
              "    <tr>\n",
              "      <th>3</th>\n",
              "      <td>3</td>\n",
              "      <td>5</td>\n",
              "      <td>Haseeb Qureshi</td>\n",
              "      <td>Haseeb Qureshi in HackerNoon.comFeb 19, 2018</td>\n",
              "      <td>72 responses</td>\n",
              "      <td>Stablecoins: designing a price-stable cryptocu...</td>\n",
              "      <td>A useful currency should be a medium of exchan...</td>\n",
              "      <td>19730</td>\n",
              "    </tr>\n",
              "    <tr>\n",
              "      <th>4</th>\n",
              "      <td>4</td>\n",
              "      <td>7</td>\n",
              "      <td>William Belk</td>\n",
              "      <td>William Belk in HackerNoon.comJan 28, 2018</td>\n",
              "      <td>19 responses</td>\n",
              "      <td>Chaos vs. Order — The Cryptocurrency Dilemma</td>\n",
              "      <td>Crypto crypto crypto crypto. It’s here. It’s h...</td>\n",
              "      <td>5324</td>\n",
              "    </tr>\n",
              "  </tbody>\n",
              "</table>\n",
              "</div>"
            ],
            "text/plain": [
              "   Unnamed: 0  index  ...                                               Text Length\n",
              "0           0      0  ...  There’s one incredible feature of cryptocurren...  23401\n",
              "1           1      1  ...  <img class=\"progressiveMedia-noscript js-progr...  23972\n",
              "2           2      2  ...  So you want to trade cryptocurrency?You’ve see...    402\n",
              "3           3      5  ...  A useful currency should be a medium of exchan...  19730\n",
              "4           4      7  ...  Crypto crypto crypto crypto. It’s here. It’s h...   5324\n",
              "\n",
              "[5 rows x 8 columns]"
            ]
          },
          "metadata": {
            "tags": []
          },
          "execution_count": 265
        }
      ]
    },
    {
      "cell_type": "code",
      "metadata": {
        "id": "ByvH1rLP8mB0",
        "colab": {
          "base_uri": "https://localhost:8080/",
          "height": 34
        },
        "outputId": "ae083a0b-4be2-462a-8a8c-297bee90cf1d"
      },
      "source": [
        "df_test.shape"
      ],
      "execution_count": null,
      "outputs": [
        {
          "output_type": "execute_result",
          "data": {
            "text/plain": [
              "(514, 8)"
            ]
          },
          "metadata": {
            "tags": []
          },
          "execution_count": 266
        }
      ]
    },
    {
      "cell_type": "markdown",
      "metadata": {
        "id": "6UBwg78I84ez"
      },
      "source": [
        "#### Feature Elimination and Extraction"
      ]
    },
    {
      "cell_type": "code",
      "metadata": {
        "id": "lJoJhHi39DdB"
      },
      "source": [
        "# leave only the needed columns\n",
        "df_test_reduced = df_test[[\"Text\", \"Length\", \"Responses\"]]"
      ],
      "execution_count": null,
      "outputs": []
    },
    {
      "cell_type": "code",
      "metadata": {
        "id": "mg7zL2Hj9DdD",
        "colab": {
          "base_uri": "https://localhost:8080/",
          "height": 204
        },
        "outputId": "46f9f45b-5221-4311-c626-f5eac095665c"
      },
      "source": [
        "df_test_reduced.head(5)"
      ],
      "execution_count": null,
      "outputs": [
        {
          "output_type": "execute_result",
          "data": {
            "text/html": [
              "<div>\n",
              "<style scoped>\n",
              "    .dataframe tbody tr th:only-of-type {\n",
              "        vertical-align: middle;\n",
              "    }\n",
              "\n",
              "    .dataframe tbody tr th {\n",
              "        vertical-align: top;\n",
              "    }\n",
              "\n",
              "    .dataframe thead th {\n",
              "        text-align: right;\n",
              "    }\n",
              "</style>\n",
              "<table border=\"1\" class=\"dataframe\">\n",
              "  <thead>\n",
              "    <tr style=\"text-align: right;\">\n",
              "      <th></th>\n",
              "      <th>Text</th>\n",
              "      <th>Length</th>\n",
              "      <th>Responses</th>\n",
              "    </tr>\n",
              "  </thead>\n",
              "  <tbody>\n",
              "    <tr>\n",
              "      <th>0</th>\n",
              "      <td>There’s one incredible feature of cryptocurren...</td>\n",
              "      <td>23401</td>\n",
              "      <td>627 responses</td>\n",
              "    </tr>\n",
              "    <tr>\n",
              "      <th>1</th>\n",
              "      <td>&lt;img class=\"progressiveMedia-noscript js-progr...</td>\n",
              "      <td>23972</td>\n",
              "      <td>156 responses</td>\n",
              "    </tr>\n",
              "    <tr>\n",
              "      <th>2</th>\n",
              "      <td>So you want to trade cryptocurrency?You’ve see...</td>\n",
              "      <td>402</td>\n",
              "      <td>176 responses</td>\n",
              "    </tr>\n",
              "    <tr>\n",
              "      <th>3</th>\n",
              "      <td>A useful currency should be a medium of exchan...</td>\n",
              "      <td>19730</td>\n",
              "      <td>72 responses</td>\n",
              "    </tr>\n",
              "    <tr>\n",
              "      <th>4</th>\n",
              "      <td>Crypto crypto crypto crypto. It’s here. It’s h...</td>\n",
              "      <td>5324</td>\n",
              "      <td>19 responses</td>\n",
              "    </tr>\n",
              "  </tbody>\n",
              "</table>\n",
              "</div>"
            ],
            "text/plain": [
              "                                                Text  Length      Responses\n",
              "0  There’s one incredible feature of cryptocurren...   23401  627 responses\n",
              "1  <img class=\"progressiveMedia-noscript js-progr...   23972  156 responses\n",
              "2  So you want to trade cryptocurrency?You’ve see...     402  176 responses\n",
              "3  A useful currency should be a medium of exchan...   19730   72 responses\n",
              "4  Crypto crypto crypto crypto. It’s here. It’s h...    5324   19 responses"
            ]
          },
          "metadata": {
            "tags": []
          },
          "execution_count": 268
        }
      ]
    },
    {
      "cell_type": "code",
      "metadata": {
        "id": "fy7PrABdO8sy",
        "colab": {
          "base_uri": "https://localhost:8080/",
          "height": 340
        },
        "outputId": "1adf2776-3ddf-4ba2-fee8-83a830c09d30"
      },
      "source": [
        "# the column Responses must contain numerical values only (without the String \"responses\")\n",
        "df_test_reduced[[\"keep\", 'delete']] = df_test_reduced.copy()['Responses'].str.split(' ', n=1, expand=True)\n",
        "df_test_reduced = df_test_reduced.copy().drop([\"delete\"], axis=1)\n",
        "df_test_reduced = df_test_reduced.copy().drop([\"Responses\"], axis=1)\n",
        "df_test_reduced = df_test_reduced.copy().rename(columns={\"keep\": \"Responses\"})\n",
        "df_test_reduced.head(5)"
      ],
      "execution_count": null,
      "outputs": [
        {
          "output_type": "stream",
          "text": [
            "/usr/local/lib/python3.6/dist-packages/pandas/core/frame.py:2963: SettingWithCopyWarning:\n",
            "\n",
            "\n",
            "A value is trying to be set on a copy of a slice from a DataFrame.\n",
            "Try using .loc[row_indexer,col_indexer] = value instead\n",
            "\n",
            "See the caveats in the documentation: https://pandas.pydata.org/pandas-docs/stable/user_guide/indexing.html#returning-a-view-versus-a-copy\n",
            "\n"
          ],
          "name": "stderr"
        },
        {
          "output_type": "execute_result",
          "data": {
            "text/html": [
              "<div>\n",
              "<style scoped>\n",
              "    .dataframe tbody tr th:only-of-type {\n",
              "        vertical-align: middle;\n",
              "    }\n",
              "\n",
              "    .dataframe tbody tr th {\n",
              "        vertical-align: top;\n",
              "    }\n",
              "\n",
              "    .dataframe thead th {\n",
              "        text-align: right;\n",
              "    }\n",
              "</style>\n",
              "<table border=\"1\" class=\"dataframe\">\n",
              "  <thead>\n",
              "    <tr style=\"text-align: right;\">\n",
              "      <th></th>\n",
              "      <th>Text</th>\n",
              "      <th>Length</th>\n",
              "      <th>Responses</th>\n",
              "    </tr>\n",
              "  </thead>\n",
              "  <tbody>\n",
              "    <tr>\n",
              "      <th>0</th>\n",
              "      <td>There’s one incredible feature of cryptocurren...</td>\n",
              "      <td>23401</td>\n",
              "      <td>627</td>\n",
              "    </tr>\n",
              "    <tr>\n",
              "      <th>1</th>\n",
              "      <td>&lt;img class=\"progressiveMedia-noscript js-progr...</td>\n",
              "      <td>23972</td>\n",
              "      <td>156</td>\n",
              "    </tr>\n",
              "    <tr>\n",
              "      <th>2</th>\n",
              "      <td>So you want to trade cryptocurrency?You’ve see...</td>\n",
              "      <td>402</td>\n",
              "      <td>176</td>\n",
              "    </tr>\n",
              "    <tr>\n",
              "      <th>3</th>\n",
              "      <td>A useful currency should be a medium of exchan...</td>\n",
              "      <td>19730</td>\n",
              "      <td>72</td>\n",
              "    </tr>\n",
              "    <tr>\n",
              "      <th>4</th>\n",
              "      <td>Crypto crypto crypto crypto. It’s here. It’s h...</td>\n",
              "      <td>5324</td>\n",
              "      <td>19</td>\n",
              "    </tr>\n",
              "  </tbody>\n",
              "</table>\n",
              "</div>"
            ],
            "text/plain": [
              "                                                Text  Length Responses\n",
              "0  There’s one incredible feature of cryptocurren...   23401       627\n",
              "1  <img class=\"progressiveMedia-noscript js-progr...   23972       156\n",
              "2  So you want to trade cryptocurrency?You’ve see...     402       176\n",
              "3  A useful currency should be a medium of exchan...   19730        72\n",
              "4  Crypto crypto crypto crypto. It’s here. It’s h...    5324        19"
            ]
          },
          "metadata": {
            "tags": []
          },
          "execution_count": 269
        }
      ]
    },
    {
      "cell_type": "markdown",
      "metadata": {
        "id": "arf4Q2NOcLPs"
      },
      "source": [
        "As mentioned earlier in section 4, the library Textblob is used for the purpose of language detection across the test set."
      ]
    },
    {
      "cell_type": "code",
      "metadata": {
        "id": "a9TxRZUsXqOP"
      },
      "source": [
        "from textblob import TextBlob"
      ],
      "execution_count": null,
      "outputs": []
    },
    {
      "cell_type": "code",
      "metadata": {
        "id": "qLUzU7V5PQO1"
      },
      "source": [
        "# use libray Textblob to determine the languages of the entries in the test set\n",
        "languages=[]\n",
        "for i in range(0,df_test_reduced.shape[0]):\n",
        "  lang = TextBlob(df_test_reduced[\"Text\"].iloc[i]) # creating a Textblob object\n",
        "  language = lang.detect_language() # using function detect_language() of the Textblob object\n",
        "  languages.append(language)\n",
        "df_test_reduced[\"Language\"] = languages"
      ],
      "execution_count": null,
      "outputs": []
    },
    {
      "cell_type": "code",
      "metadata": {
        "id": "HJnt6_VdhoA-",
        "colab": {
          "base_uri": "https://localhost:8080/",
          "height": 204
        },
        "outputId": "6c2dd344-f585-49d0-81c0-5f7ed0257690"
      },
      "source": [
        "df_test_reduced.head(5)"
      ],
      "execution_count": null,
      "outputs": [
        {
          "output_type": "execute_result",
          "data": {
            "text/html": [
              "<div>\n",
              "<style scoped>\n",
              "    .dataframe tbody tr th:only-of-type {\n",
              "        vertical-align: middle;\n",
              "    }\n",
              "\n",
              "    .dataframe tbody tr th {\n",
              "        vertical-align: top;\n",
              "    }\n",
              "\n",
              "    .dataframe thead th {\n",
              "        text-align: right;\n",
              "    }\n",
              "</style>\n",
              "<table border=\"1\" class=\"dataframe\">\n",
              "  <thead>\n",
              "    <tr style=\"text-align: right;\">\n",
              "      <th></th>\n",
              "      <th>Text</th>\n",
              "      <th>Length</th>\n",
              "      <th>Responses</th>\n",
              "      <th>Language</th>\n",
              "    </tr>\n",
              "  </thead>\n",
              "  <tbody>\n",
              "    <tr>\n",
              "      <th>0</th>\n",
              "      <td>There’s one incredible feature of cryptocurren...</td>\n",
              "      <td>23401</td>\n",
              "      <td>627</td>\n",
              "      <td>en</td>\n",
              "    </tr>\n",
              "    <tr>\n",
              "      <th>1</th>\n",
              "      <td>&lt;img class=\"progressiveMedia-noscript js-progr...</td>\n",
              "      <td>23972</td>\n",
              "      <td>156</td>\n",
              "      <td>en</td>\n",
              "    </tr>\n",
              "    <tr>\n",
              "      <th>2</th>\n",
              "      <td>So you want to trade cryptocurrency?You’ve see...</td>\n",
              "      <td>402</td>\n",
              "      <td>176</td>\n",
              "      <td>en</td>\n",
              "    </tr>\n",
              "    <tr>\n",
              "      <th>3</th>\n",
              "      <td>A useful currency should be a medium of exchan...</td>\n",
              "      <td>19730</td>\n",
              "      <td>72</td>\n",
              "      <td>en</td>\n",
              "    </tr>\n",
              "    <tr>\n",
              "      <th>4</th>\n",
              "      <td>Crypto crypto crypto crypto. It’s here. It’s h...</td>\n",
              "      <td>5324</td>\n",
              "      <td>19</td>\n",
              "      <td>en</td>\n",
              "    </tr>\n",
              "  </tbody>\n",
              "</table>\n",
              "</div>"
            ],
            "text/plain": [
              "                                                Text  Length Responses Language\n",
              "0  There’s one incredible feature of cryptocurren...   23401       627       en\n",
              "1  <img class=\"progressiveMedia-noscript js-progr...   23972       156       en\n",
              "2  So you want to trade cryptocurrency?You’ve see...     402       176       en\n",
              "3  A useful currency should be a medium of exchan...   19730        72       en\n",
              "4  Crypto crypto crypto crypto. It’s here. It’s h...    5324        19       en"
            ]
          },
          "metadata": {
            "tags": []
          },
          "execution_count": 273
        }
      ]
    },
    {
      "cell_type": "code",
      "metadata": {
        "id": "MqmJTwdZPc0V",
        "colab": {
          "base_uri": "https://localhost:8080/",
          "height": 102
        },
        "outputId": "b4a03025-d0f9-4ce4-a868-0ca4621853e9"
      },
      "source": [
        "df_test_reduced[\"Language\"].value_counts()"
      ],
      "execution_count": null,
      "outputs": [
        {
          "output_type": "execute_result",
          "data": {
            "text/plain": [
              "en       511\n",
              "pt         1\n",
              "zh-TW      1\n",
              "ja         1\n",
              "Name: Language, dtype: int64"
            ]
          },
          "metadata": {
            "tags": []
          },
          "execution_count": 274
        }
      ]
    },
    {
      "cell_type": "markdown",
      "metadata": {
        "id": "May132-nhxC-"
      },
      "source": [
        "**The test set only contains three entries written in a language different than English. Two of them (chinese and portguese) can be translated by the Google Translate API, one (japanese) cannot be (the problem with the instability of the API was explained in section 4.1). These two entries will be thus translated and the predictions will be made on the translated version.**"
      ]
    },
    {
      "cell_type": "code",
      "metadata": {
        "id": "M6OCsSxfQic6",
        "colab": {
          "base_uri": "https://localhost:8080/",
          "height": 142
        },
        "outputId": "50c87a82-bf09-4dd5-937b-28f322bc32a5"
      },
      "source": [
        "df_test_reduced[df_test_reduced.Language!=\"en\"]"
      ],
      "execution_count": null,
      "outputs": [
        {
          "output_type": "execute_result",
          "data": {
            "text/html": [
              "<div>\n",
              "<style scoped>\n",
              "    .dataframe tbody tr th:only-of-type {\n",
              "        vertical-align: middle;\n",
              "    }\n",
              "\n",
              "    .dataframe tbody tr th {\n",
              "        vertical-align: top;\n",
              "    }\n",
              "\n",
              "    .dataframe thead th {\n",
              "        text-align: right;\n",
              "    }\n",
              "</style>\n",
              "<table border=\"1\" class=\"dataframe\">\n",
              "  <thead>\n",
              "    <tr style=\"text-align: right;\">\n",
              "      <th></th>\n",
              "      <th>Text</th>\n",
              "      <th>Length</th>\n",
              "      <th>Responses</th>\n",
              "      <th>Language</th>\n",
              "    </tr>\n",
              "  </thead>\n",
              "  <tbody>\n",
              "    <tr>\n",
              "      <th>196</th>\n",
              "      <td>原文刊載於《GQ》網站：吃貨老司機應該要知道的好地方：Good Food You不久之前，這...</td>\n",
              "      <td>396</td>\n",
              "      <td>NaN</td>\n",
              "      <td>zh-TW</td>\n",
              "    </tr>\n",
              "    <tr>\n",
              "      <th>198</th>\n",
              "      <td>Bebi a noite como se fosse Coca-Cola. Mastigue...</td>\n",
              "      <td>278</td>\n",
              "      <td>NaN</td>\n",
              "      <td>pt</td>\n",
              "    </tr>\n",
              "    <tr>\n",
              "      <th>434</th>\n",
              "      <td>Netflixにおける日本語字幕の導入Netflix Technology Blog in ...</td>\n",
              "      <td>17725</td>\n",
              "      <td>NaN</td>\n",
              "      <td>ja</td>\n",
              "    </tr>\n",
              "  </tbody>\n",
              "</table>\n",
              "</div>"
            ],
            "text/plain": [
              "                                                  Text  ...  Language\n",
              "196  原文刊載於《GQ》網站：吃貨老司機應該要知道的好地方：Good Food You不久之前，這...  ...     zh-TW\n",
              "198  Bebi a noite como se fosse Coca-Cola. Mastigue...  ...        pt\n",
              "434  Netflixにおける日本語字幕の導入Netflix Technology Blog in ...  ...        ja\n",
              "\n",
              "[3 rows x 4 columns]"
            ]
          },
          "metadata": {
            "tags": []
          },
          "execution_count": 276
        }
      ]
    },
    {
      "cell_type": "code",
      "metadata": {
        "id": "NwtKS4Wua7oa"
      },
      "source": [
        "translator = Translator() # initialize a Translator object"
      ],
      "execution_count": null,
      "outputs": []
    },
    {
      "cell_type": "code",
      "metadata": {
        "id": "NiT9Kiu3bGMh"
      },
      "source": [
        "df_test_reduced.Text.loc[196] = translator.translate(df_test_reduced.copy().Text.loc[196]).text"
      ],
      "execution_count": null,
      "outputs": []
    },
    {
      "cell_type": "code",
      "metadata": {
        "id": "IJlgUVOZiyD-",
        "colab": {
          "base_uri": "https://localhost:8080/",
          "height": 137
        },
        "outputId": "cb6cd4bd-1ce4-4547-adac-749c8d59be42"
      },
      "source": [
        "df_test_reduced.Text.loc[196] # translation has been successful"
      ],
      "execution_count": null,
      "outputs": [
        {
          "output_type": "execute_result",
          "data": {
            "application/vnd.google.colaboratory.intrinsic+json": {
              "type": "string"
            },
            "text/plain": [
              "'The original text was published on the \"GQ\" website: Good place that old food drivers should know: Good Food You Not long ago, this was just a treasure hunt base for chefs and gluttons in the dining circle. \"There is an importer who sells a lot of European ingredients, you can pick and choose.\" They said so, and as a result, the busy office hidden in the alleys of Tingzhou Road, always piled with large and small inbound and outbound cardboard boxes, became regular customers. Chatting, picking goods, looking for new ingredients, \"My dad said he can\\'t refuse customers.\" Sandy, the second-generation successor, said, \"But then it really affected the delivery, and I couldn\\'t greet him, so I opened this one in the alley. Store.” When Sandy said this, the legendary \"Chef\" Abang was snickering, turning his head and pointing to himself: \"I am one of the guests.\" Well, actually I am too (shangshou), but I was after they opened the store, and a foodie friend recommended: \"Hey, there is a food vendor on Tingzhou Road. There are so many great things. You can check it out.\" The first time I visited, I only wanted to see olive oil, but bought it. When you become a discount member, you will check in every week. But I have to clarify that it is not because the red and white wine here is very cheap, but because it is attracted by the fresh cabinets, cheese cabinets and the various spices.'"
            ]
          },
          "metadata": {
            "tags": []
          },
          "execution_count": 283
        }
      ]
    },
    {
      "cell_type": "code",
      "metadata": {
        "id": "H-0i4UuUghmt"
      },
      "source": [
        "df_test_reduced.Text.loc[198] = translator.translate(df_test_reduced.Text.loc[198]).text"
      ],
      "execution_count": null,
      "outputs": []
    },
    {
      "cell_type": "code",
      "metadata": {
        "id": "R3CysztejBx0",
        "colab": {
          "base_uri": "https://localhost:8080/",
          "height": 52
        },
        "outputId": "ea421996-17c3-4477-99ba-4df6cf644987"
      },
      "source": [
        "df_test_reduced.Text.loc[198] # translation has been successful"
      ],
      "execution_count": null,
      "outputs": [
        {
          "output_type": "execute_result",
          "data": {
            "application/vnd.google.colaboratory.intrinsic+json": {
              "type": "string"
            },
            "text/plain": [
              "'I drank the night like it was Coca-Cola. I chewed on stars like ice chips. I opened my eyes as if they were headlights. And I broke the glass as if nothing else needed to exist. I have to give up looking for easy answers. I fear that I will never be able to avoid disasters.'"
            ]
          },
          "metadata": {
            "tags": []
          },
          "execution_count": 285
        }
      ]
    },
    {
      "cell_type": "code",
      "metadata": {
        "id": "6kI23JYkgtT2"
      },
      "source": [
        "df_test_reduced.Text.loc[434] = translator.translate(df_test_reduced.Text.loc[434]).text"
      ],
      "execution_count": null,
      "outputs": []
    },
    {
      "cell_type": "code",
      "metadata": {
        "id": "j_d_X0H_jF6n",
        "colab": {
          "base_uri": "https://localhost:8080/",
          "height": 188
        },
        "outputId": "c2ffb9c5-a350-4bbf-a4e3-b12887beef48"
      },
      "source": [
        "df_test_reduced.Text.loc[434] #translation has not been successful => demonstrates once again the problem with Google Translate API"
      ],
      "execution_count": null,
      "outputs": [
        {
          "output_type": "execute_result",
          "data": {
            "application/vnd.google.colaboratory.intrinsic+json": {
              "type": "string"
            },
            "text/plain": [
              "'Netflixにおける日本語字幕の導入Netflix Technology Blog in Netflix TechBlogFollowMay 14, 2018 · 36 min read(Please note that this article is a localized (to Japanese) version of a corresponding tech blog article in the English language)Netflixでは、2015年9月の日本における配信サービス開始時から日本語字幕を提供しています。 今回のブログでは、日本語字幕提供に至るまでの技術的な取り組みについて説明します。 字幕ソースファイルの仕様、字幕ソースファイルからNetflix配信用字幕への変換モデル、Netflixにおける日本語字幕の納品モデルなどを取り上げます。さらに、W3C字幕規格Timed Text Markup Language 2 (TTML2)導入に向けた対応についても触れます。2014年の終盤にかけて、Netflixでは2015年9月に予定していた日本での配信開始に向け、技術的な機能実現を進めていました。 当時、日本市場で展開している他社ストリーミングサービスの字幕品質が問題となっていることは十分認識していました。 その上でNetflixの高い品質基準を維持するために、日本における上質な動画配信サービスの慣例となるべく、日本語字幕にとっての”必須”機能をすべて導入する覚悟で準備を始めました。 それらは、下記必要条件への追加条件として導入したものです。字幕は動画と分けてクライアントに納品 (すなわち、焼き付け字幕は不可)字幕のソースファイル形式は、将来性を確保するためにもすべてテキスト形式でNetflixに納品日本語字幕の必須機能概要市場調査、日本語言語およびメディア関連の専門家アドバイスをまとめた結果、日本語字幕に関する5つの必須機能が明らかになりました。 これから説明するその5つの機能とは、ルビ、傍点、縦書き、斜体、縦中横 (縦字幕の数字を横書きで表示) です。 これらの機能を実現することは、従来の課題を一層複雑にする大きなチャレンジとなりました。ルビルビは特定の言葉を説明するためのものです。 たとえば、なじみのない言葉や外来語、スラングの意味を伝えたり、珍しい漢字またはあまり知られていない漢字にふりがなを付けるために使用します。 また、視聴者がコンテンツをより深く理解し楽しめるように、訳文の文化的背景を説明する場合もあります。 ルビ表示は通常、字幕文字よりも小さなフォントサイズを使い、1行のみの字幕、あるいは2行字幕の1行目には、文字の上にルビを振ります。 2行字幕の2行目にルビが存在する場合、文字の下にルビを振ります。ルビは2行字幕の行間には決して配置しません。どちらの行の文字を説明しているのか分かりづらくなるためです。図1に示すルビの例は、”All he ever amounted to was chitlins.”というセリフの字幕に振られたものです。図1: ルビの例単語”chitlins”*の訳語にその音訳のルビを振ることで、視聴者はセリフのキーワードと訳語を関連付けることができます。 上述したように、ルビは2行字幕の行間には決して配置しません。 図2に示すのは、2行字幕の正しいルビの振り方です。 万一、3行の字幕を必要とする場合、1行目と2行目は文字の上に、また3行目は文字の下にルビを振ります。図2: 2行字幕の正しいルビの配置傍点傍点は単語や言葉を強調するため、上または下に配置するもので、英文における斜体と同じ役割です。 言外の意味を伝えるのに役立ち、翻訳をより豊かで力強いものにします。 図3に示す傍点の例は、”I need someone to talk to.”というセリフの字幕に振られたものです。図3: 傍点の例上図の例の字幕では、傍点は単語”talk”の訳語の文字上に振られています。 単語を強調することで、このシーンで話者が特定の人しか知らない情報の提供者を必要としていることが伝わります。縦字幕縦字幕は、主に動画の画面上に表示されている文字との重なりを避けるために使用します。 英語字幕における画面上部への表示に相当するものです。 図4に例を示します。図4: 画面上のクレジットと縦字幕を同時に表示縦中横日本語のタイポグラフィでは、縦書き文字の中に横書きの短い数字やアルファベット文字が含まれることがよくあります。 これを縦中横と呼びます。 縦に並べるのではなく、半角文字を横並びに配置することで読みやすくなり、字幕1行の中により多くの文字を入れることができます。 図5に示す例は、”It’s as if we are still 23 years old”というセリフの字幕です。 この例では、半角数字”23\"が縦中横になっています。図5: 横並びに配置された数字を含む縦字幕斜体斜体は他言語におけるイタリック体と同様、ナレーション、画面外のセリフ、および強制字幕に使用します。 ただし、日本語字幕の場合、横字幕と縦字幕では斜体の傾き方向が異なる点が独特です。さらに傾きの角度も一定とは限りません。 図6と図7に例を示します。図6: 横字幕の斜体図7: 縦字幕の斜体日本語字幕のソーシングエンターテインメント業界での字幕アセットは、主に、構造化テキスト/バイナリファイルまたはレンダリング画像の2形式のどちらかです。 Netflixのコンテンツ取り込みシステム用には、常に前者の形式をお願いしてきました。 それにはいくつかの理由があります。 まず、クライアントによって字幕機能に差があるため、1つのソースから多様なクライアントアセットを作成する必要があります。 また、テキスト形式の字幕ソースファイルは将来性も確保されています。 つまり、新しいデバイス機能が次々と市場に出ても、テキスト形式なら、Netflixが所有する膨大な字幕アセットのバックカタログへ問題なく適用できるのです。 たとえば、HDRデバイスで再生されるHDRコンテンツに字幕を表示する場合、白い文字が最大白色の鏡面ハイライトにならないよう、輝度ゲインを指定することが推奨されます。 テキスト形式の字幕ソースを使用すれば、輝度ゲインをサポートするクライントプロフィールに対応した字幕表示を容易に処理できます。 一方、画像形式の字幕ソースを取り込んだ場合、同様の処理をクライアントアセットに適用するのは非常に困難です。 さらに、解析のための検索性や自然言語処理の観点からも、不透明な画像形式アセットに比べて、はるかに優れています。テキスト形式の字幕ソースが必須条件であることを前提に、日本語に利用できるオプションを検討した結果、Videotron Lambda (LambdaCap形式とも呼ばれる) を日本語字幕として唯一使用可能なモデルとして選択しました。 これにはいくつかの理由がありますが、 分析した結果、LambdaCap形式には次のような特徴があることがわかったからです:ある程度オープンであるため、Netflix独自のツールやワークフローを構築することができる。現時点で日本語字幕ツールがサポートする最も一般的な字幕形式である。 これは特に、既存の日本語字幕会社にNetflix向けの字幕作成を作成してもらうために大切な点でした。既存の日本語字幕の最も一般的なアーカイブ形式である。 LambdaCap形式なら、変換の必要なく既存アセットを取り込めるこの点も重要なポイントの1つでした。前述の日本語字幕の必須機能をサポートする。焼き付けに使用する画像ベースの字幕ファイル作成用として、業界で幅広く使われている。 すなわち、徹底的にテストされたものだったのです。このように、日本でのNetflix配信開始時にはVideotron Lambdaを選択していましたが、長期的には決して優れたオプションではありませんでした。 業界の標準形式ではなく、仕様面において曖昧な点があるためです。 LambdaCap形式は日本語字幕の必須機能をサポートする一方で、TTML1のようなウェブプラットフォーム規格がサポートする基本的な機能の一部が含まれていないことがあります。 そうしたサポート外の機能には、色、フォント情報、さまざまなレイアウトやコンポジションのプリミティブなどが含まれます。 また、Netflixのエコシステムにおける再生デバイスへの納品モデルとしても、LambdaCap形式を使用しないことにしました。 さらにこの時期、タイムテキスト作業グループ (TTWG) がTTML規格の第2バージョンであるTTML2に取り組んでいました。 TTML2の目的の1つは、日本語字幕を主要対象とした多言語字幕をサポートすることでした。 そこで、NetflixでTTML2規格化に向けてTTWGと協力することになり、すでに蓄積した経験に基づいて仕様の完成、および後述する導入作業を行ったのです。 こうして、最終的にはTTML2が、Netflixの字幕処理パイプラインにおける全ソース形式の正準表現になりました。日本語字幕機能のTTML2へのマッピング表1は上記の日本語字幕の必須機能と、TTML2が提供する構造間のマッピングを要約したものです。 また、Netflixの日本語字幕カタログ全体における上記機能の使用統計と、Netflixエコシステムの理想モードも示しています。 現時点で未使用の機能や使用頻度が低いものは、今後、より広く使用されるものと予測されます。† 次のセクションでは、特にサポートされている値に関する各機能の詳細を説明します。表1: 日本語字幕機能とTTML2のスタイル構造間のマッピングの要約ルビtts:rubyこのスタイル属性は、ルビ自体とルビが振られた文字幅の定義を含む、ルビコンテンツの構造的な特徴を指定しています。 tts:rubyに関連付けられた値の範囲は、対応するHTMLマークアップ要素にマッピングされます。 TTMLサンプルで示しているように、”container”マークアップはルビの振られた文字とルビを含み、”base”と”text”はそれぞれ文字とルビをマークアップします。 このサンプルのレンダリングは、図8になるはずです。<?xml version=”1.0\" encoding=”utf-8\"?> <tt xmlns=”http://www.w3.org/ns/ttml\" xmlns:ttm=”http://www.w3.org/ns/ttml#metadata\" xmlns:ttp=”http://www.w3.org/ns/ttml#parameter\" xmlns:tts=”http://www.w3.org/ns/ttml#styling\" ttp:frameRate=”30\" ttp:frameRateMultiplier=”1000 1001\" ttp:version=”2\" tts:extent=”1280px 720px” xml:lang=”ja”> <head> <styling> <initial tts:fontSize=”6.0vh” tts:lineHeight=”7.5vh” tts:showBackground=”whenActive” tts:textOutline=”black 0.1em”/> <style xml:id=”s2\" tts:textAlign=”start”/> <style xml:id=”s3\" tts:ruby=”container”/> <style xml:id=”s4\" tts:ruby=”base”/> <style xml:id=”s5\" tts:ruby=”text” tts:rubyPosition=”before”/> <style xml:id=”s7\" tts:textAlign=”center”/> <style xml:id=”s8\" tts:ruby=”text” tts:rubyPosition=”after”/>  </styling> <layout> <region xml:id=”横下” tts:displayAlign=”after” tts:extent=”80vw 30vh” tts:position=”center bottom 10vh”/> </layout> </head> <body region=”横下” xml:space=”preserve”> <div> <p begin=”00:04:30:13\" end=”00:04:32:18\" style=”s7\"><span style=”s2\"><span style=”s3\"><span style=”s4\">太孫</span><span style=”s5\">たいそん</span></span>のペクチョンを連れ<br/><span style=”s3\"><span style=”s4\">北漢</span><span style=”s8\">プッカン</span></span>山に登り</span></p> </div> </body> </tt>図8: 上記TTMLサンプルに対応するレンダリングtts:rubyPositionこのスタイル属性は、文字に相対するブロック進行方向の寸法内でのルビの配置を指定しています。 日本語字幕の場合、tts:rubyPosition=”top”とtts:rubyPosition=”bottom”では想定外の行替えに対応できないため、理想的ではないことが分かりました。ルビが2行目にあるときは文字の下に置く必要があるためです。 そのような場合、tts:rubyPosition=”auto”はその名のとおり、自動的に対応してくれます。 次のTTMLサンプルでその例を示しています。 このサンプルのレンダリングを図9で示します。 現在、”auto”の動作は厳密には2行イベントにのみ指定できるものであり、2行イベントの2行目に予測しない改行が起きた場合は適用されません。 NetflixではTTML2で説明されている”outside”の現在の動作が正しいモデルであると考えるため、”auto”を廃止して代わりに”outside”を採用する可能性もあります。<?xml version=\"1.0\" encoding=\"UTF-8\"?> <tt xmlns=\"http://www.w3.org/ns/ttml\" xmlns:tt=\"http://www.w3.org/ns/ttml\" xmlns:ttm=\"http://www.w3.org/ns/ttml#metadata\" xmlns:ttp=\"http://www.w3.org/ns/ttml#parameter\" xmlns:tts=\"http://www.w3.org/ns/ttml#styling\" ttp:tickRate=\"10000000\" ttp:version=\"2\" xml:lang=\"ja\"> <head>  <styling>   <initial tts:backgroundColor=\"transparent\" tts:color=\"white\" tts:fontSize=\"6.000vh\"/>   <style xml:id=\"style0\" tts:textAlign=\"center\"/>   <style xml:id=\"style1\" tts:textAlign=\"start\"/>   <style xml:id=\"style2\" tts:ruby=\"container\" tts:rubyPosition=\"auto\"/>   <style xml:id=\"style3\" tts:ruby=\"base\"/>   <style xml:id=\"style4\" tts:ruby=\"text\"/>   <style xml:id=\"style5\" tts:ruby=\"text\"/>  </styling>  <layout>   <region xml:id=\"region0\" tts:displayAlign=\"after\"/>  </layout>  </head> <body xml:space=\"preserve\">  <div>   <p xml:id=\"subtitle1\" begin=\"18637368750t\" end=\"18676157500t\" region=\"region0\" style=\"style0\"><span style=\"style1\">テソプ<span style=\"style2\"><span style=\"style3\">の所だ</span><span style=\"style4\">カン食ン</span></span>食おう<br/><span style=\"style2\"><span style=\"style3\">江陵</span><span style=\"style5\">カンヌン</span></span>で刺身でも食おう</span></p>  </div> </body> </tt>図9: 上記TTMLサンプルに対応するレンダリングtts:rubyAlignこのスタイル属性は、ルビコンテナが生成したインラインエリア内のルビの配置を指定しています。 Netflixでの日本語字幕の経験から、tts:rubyAlignの推奨値を”center”にしています。<?xml version=\"1.0\" encoding=\"utf-8\"?> <tt xmlns=\"http://www.w3.org/ns/ttml\" xmlns:tt=\"http://www.w3.org/ns/ttml\" xmlns:ttm=\"http://www.w3.org/ns/ttml#metadata\" xmlns:ttp=\"http://www.w3.org/ns/ttml#parameter\" xmlns:tts=\"http://www.w3.org/ns/ttml#styling\" ttp:tickRate=\"10000000\" ttp:version=\"2\" xml:lang=\"ja\"> <head>  <styling>   <initial tts:backgroundColor=\"transparent\" tts:color=\"white\" tts:fontSize=\"6.000vh\" tts:lineHeight=\"7.500vh\" tts:opacity=\"1.000\" tts:showBackground=\"whenActive\" tts:writingMode=\"lrtb\" tts:rubyAlign=\"center\"/>   <style xml:id=\"style0\" tts:textAlign=\"center\"/>   <style xml:id=\"style1\" tts:textAlign=\"start\"/>   <style xml:id=\"style2\" tts:ruby=\"container\"/>   <style xml:id=\"style3\" tts:ruby=\"base\"/>   <style xml:id=\"style4\" tts:ruby=\"text\" tts:rubyPosition=\"auto\"/>  </styling>  <layout>   <region xml:id=\"region0\" tts:displayAlign=\"after\" tts:extent=\"80.000% 30.000%\" tts:position=\"center bottom 10vh\" tts:showBackground=\"whenActive\"/>  </layout> </head> <body xml:space=\"preserve\">  <div>   <p xml:id=\"subtitle1\" begin=\"18637368750t\" end=\"18676157500t\" region=\"region0\" style=\"style0\"><span style=\"style1\">テソプ<span style=\"style2\"><span style=\"style3\">の所だ</span><span style=\"style4\">カン食ン</span></span>食おう</span></p>   <p xml:id=\"subtitle2\" begin=\"18676991666t\" end=\"18717031666t\" region=\"region0\" style=\"style0\"><span style=\"style1\">テソプ<span style=\"style2\"><span style=\"style3\">の所だ</span><span style=\"style4\">カン食ンカン食ン</span></span>食おう</span></p>  </div> </body> </tt>次に示すのは上記TTMLサンプルに対応するものです。文字の幅がルビより大きい場合と、その逆の場合の動作の2つの例を表示しています。 どちらの例でも、”の所だ” (ユニコード文字3文字) の文字とルビのアラインメントは”center”です。例1この例 (図10) では、ルビの幅が文字の幅よりも小さくレンダリングされています。図10: レンダリングされたルビの幅が文字の幅よりも小さい例2この例 (図11) では、ルビの幅が文字の幅よりも大きくレンダリングされています。 どちらの例も、文字に対してルビは中央揃えになっています。図11: レンダリングされたルビの幅が文字の幅よりも大きいtts:rubyReserveこの機能の目的は、文字のみの字幕からルビ付き字幕 (またはその逆) に移動する際に、ブロックの進行方向に沿って文字の配置の時間的整合性を保持することです。 この機能はまた、傍点を使用する際、時間が変わっても文字のアラインメントを保つためにも使用できます。<?xml version=\"1.0\" encoding=\"utf-8\"?> <tt xmlns=\"http://www.w3.org/ns/ttml\" xmlns:tt=\"http://www.w3.org/ns/ttml\" xmlns:ttm=\"http://www.w3.org/ns/ttml#metadata\" xmlns:ttp=\"http://www.w3.org/ns/ttml#parameter\" xmlns:tts=\"http://www.w3.org/ns/ttml#styling\" ttp:tickRate=\"10000000\" ttp:version=\"2\" xml:lang=\"ja\"> <head>  <styling>   <initial tts:backgroundColor=\"transparent\" tts:color=\"white\" tts:fontSize=\"6.000vh\" tts:lineHeight=\"7.500vh\" tts:opacity=\"1.000\" tts:showBackground=\"whenActive\" tts:writingMode=\"lrtb\" tts:rubyReserve=\"auto\"/>   <style xml:id=\"style0\" tts:fontShear=\"16.78842%\" tts:textAlign=\"center\"/>   <style xml:id=\"style1\" tts:fontShear=\"16.78842%\" tts:textAlign=\"start\"/>   <style xml:id=\"style2\" tts:fontShear=\"16.78842%\" tts:ruby=\"container\"/>   <style xml:id=\"style3\" tts:fontShear=\"16.78842%\" tts:ruby=\"base\"/>   <style xml:id=\"style4\" tts:fontShear=\"16.78842%\" tts:ruby=\"text\" tts:rubyPosition=\"auto\"/>  </styling>  <layout>   <region xml:id=\"region0\" tts:displayAlign=\"after\" tts:extent=\"80.000% 30.000%\" tts:position=\"center bottom 10vh\" tts:showBackground=\"whenActive\"/>  </layout> </head> <body xml:space=\"preserve\">  <div>   <p xml:id=\"subtitle1\" begin=\"18623187916t\" end=\"18635700416t\" region=\"region0\" style=\"style0\"><span style=\"style1\">“行き先は？”</span></p>   <p xml:id=\"subtitle2\" begin=\"18637368750t\" end=\"18676157500t\" region=\"region0\" style=\"style0\"><span style=\"style1\">“テソプの所だ<br/><span style=\"style2\"><span style=\"style3\">江陵</span><span style=\"style4\">カンヌン</span></span>で刺身でも食おう”</span></p>  </div> </body> </tt>,図12: 文字の上下相対移動がない2つの字幕のシーケンス,上記TTMLサンプルのレンダリングが図12です。 tts:rubyReserveを有効にした場合、時間が経過しても字幕の相対移動は起こりません。,図13: 文字の上下相対移動がある2つの字幕のシーケンス,tts:rubyReserveを有効にしていない場合、時間が経過すると字幕文字のベースラインに相対移動が起こるため、快適ではない視聴体験が発生してしまいます。 図13に示すのは、1つ目の字幕の文字 (左側) と2つ目の字幕の2行目の文字 (右側) との間に起きている、上下相対移動の例です。縦書き標準の縦書きNetflixでは縦書きモードを指定する際に、tts:writingModeを利用します。 次に縦書き (縦書き用の句読点や記号を含む) の例を示します。以下はTTMLサンプルおよび対応するレンダリング (図14) です。<?xml version=\"1.0\" encoding=\"utf-8\"?> <tt xmlns=\"http://www.w3.org/ns/ttml\" xmlns:ttm=\"http://www.w3.org/ns/ttml#metadata\" xmlns:ttp=\"http://www.w3.org/ns/ttml#parameter\" xmlns:tts=\"http://www.w3.org/ns/ttml#styling\" ttp:frameRate=\"30\" ttp:frameRateMultiplier=\"1000 1001\" ttp:version=\"2\" tts:extent=\"1280px 720px\" xml:lang=\"ja\"> <head>  <styling>   <initial tts:fontSize=\"6.0vh\" tts:lineHeight=\"7.5vh\" tts:showBackground=\"whenActive\" tts:textOutline=\"black 0.1em\"/>   <style xml:id=\"s1\" tts:fontShear=\"16.78842%\" tts:textAlign=\"center\"/>   <style xml:id=\"s2\" tts:textAlign=\"start\"/>   <style xml:id=\"s3\" tts:ruby=\"container\"/>   <style xml:id=\"s4\" tts:ruby=\"base\"/>   <style xml:id=\"s5\" tts:ruby=\"text\" tts:rubyPosition=\"before\"/>   <style xml:id=\"s8\" tts:ruby=\"text\" tts:rubyPosition=\"after\"/>  </styling>  <layout>   <region xml:id=\"縦左\" tts:displayAlign=\"after\" tts:extent=\"30vh 80vh\" tts:position=\"left 10vw center\" tts:writingMode=\"tbrl\"/>  </layout> </head> <body xml:space=\"preserve\">  <div>   <p begin=\"00:05:07:23\" end=\"00:05:09:12\" region=\"縦左\" style=\"s1\"><span style=\"s2\"><span style=\"s3\"><span style=\"s4\">党項城</span><span style=\"s5\">タンハンじょう</span></span>…現在の<span style=\"s3\"><span style=\"s4\">京畿道</span><span style=\"s5\">キョンギド</span></span>に<br/>位置する城（<span style=\"s3\"><span style=\"s4\">唐</span><span style=\"s8\">タン</span></span>城）</span></p>  </div> </body> </tt>図14: 上記TTMLサンプルに対応するレンダリング縦書きのルビ  上記TTMLサンプルで示したように、縦書きモードにおけるルビのマークアップは横書きモードの場合と変わりはありません。縦中横tts:textCombine縦中横機能を実行するにはtts:textCombineを使用します。 次のTTMLサンプルがその例です。 図15でわかる通り、この機能を使うと字幕の読みやすさが増します。<?xml version=\"1.0\" encoding=\"utf-8\"?> <tt xmlns=\"http://www.w3.org/ns/ttml\" xmlns:ttm=\"http://www.w3.org/ns/ttml#metadata\" xmlns:ttp=\"http://www.w3.org/ns/ttml#parameter\" xmlns:tts=\"http://www.w3.org/ns/ttml#styling\" ttp:frameRate=\"24\" ttp:frameRateMultiplier=\"1000 1001\" ttp:version=\"2\" tts:extent=\"1280px 720px\" xml:lang=\"ja\"> <head>  <styling>   <initial tts:fontSize=\"6.0vh\" tts:lineHeight=\"7.5vh\" tts:showBackground=\"whenActive\" tts:textOutline=\"black 0.1em\"/>   <style xml:id=\"s1\" tts:textCombine=\"all\"/>   <style xml:id=\"s5\" tts:textAlign=\"center\"/>   <style xml:id=\"s6\" tts:textAlign=\"start\"/> <!-- set up tts:textEmphasis in initial section →   <style xml:id=\"s10\" tts:textEmphasis=\"dot after\"/>  </styling>  <layout>   <region xml:id=\"横下\" tts:displayAlign=\"after\" tts:extent=\"80vw 30vh\" tts:position=\"center bottom 10vh\"/>   <region xml:id=\"縦右\" tts:extent=\"30vh 80vh\" tts:position=\"right 10vw center\" tts:writingMode=\"tbrl\"/>  </layout> </head> <body region=\"横下\" xml:space=\"preserve\">  <div> <!-- illustration of tts:textCombine in vertical writing mode →   <p begin=\"00:00:37:07\" end=\"00:00:40:00\" region=\"縦右\">まるで<span style=\"s1\">23</span>歳のままだわ</p> <!-- illustration of tts:textEmphasis →   <p begin=\"00:09:37:14\" end=\"00:09:41:00\" style=\"s5\"><span style=\"s6\">もし そうでも<br/><span style=\"s10\">お相手</span>するって</span></p>  </div> </body> </tt>図15: 上記TTMLサンプルに対応するレンダリング傍点tts:textEmphasis傍点をレンダリングするのに使用します。 この機能は前のセクションに記載したTTMLサンプルでも指定されています。 図16は、同サンプルに対応するレンダリングです。図16: 前のセクションのTTMLサンプルに対応するレンダリング斜体tts:fontShear日本語のタイポグラフィにはイタリック体のフォントはありません。 斜体を表示するには、グリフの幾何変換を実行します。 共通値tts:fontShearは約15度の回転に相当します。 前述したように、斜体の傾き方向は横字幕と縦字幕で異なります。 次のTTMLサンプルのレンダリング図17と図18を確認してください。<?xml version=\"1.0\" encoding=\"utf-8\"?> <tt xmlns=\"http://www.w3.org/ns/ttml\" xmlns:ttm=\"http://www.w3.org/ns/ttml#metadata\" xmlns:ttp=\"http://www.w3.org/ns/ttml#parameter\" xmlns:tts=\"http://www.w3.org/ns/ttml#styling\" ttp:frameRate=\"30\" ttp:frameRateMultiplier=\"1000 1001\" ttp:version=\"2\" tts:extent=\"1280px 720px\" xml:lang=\"ja\"> <head>  <styling>   <initial tts:fontSize=\"6.0vh\" tts:lineHeight=\"7.5vh\" tts:showBackground=\"whenActive\" tts:textOutline=\"black 0.1em\"/>   <style xml:id=\"s1\" tts:fontShear=\"16.78842%\" tts:textAlign=\"center\"/>   <style xml:id=\"s2\" tts:textAlign=\"start\"/>   <style xml:id=\"s3\" tts:ruby=\"container\"/>   <style xml:id=\"s4\" tts:ruby=\"base\"/>   <style xml:id=\"s5\" tts:ruby=\"text\" tts:rubyPosition=\"before\"/>  </styling>  <layout>   <region xml:id=\"横下\" tts:displayAlign=\"after\" tts:extent=\"80vw 30vh\" tts:position=\"center bottom 10vh\"/>   <region xml:id=\"縦左\" tts:displayAlign=\"after\" tts:extent=\"30vh 80vh\" tts:position=\"left 10vw center\" tts:writingMode=\"tbrl\"/>  </layout> </head> <body region=\"横下\" xml:space=\"preserve\">  <div>   <p begin=\"00:01:11:14\" end=\"00:01:15:05\" style=\"s1\"><span style=\"s2\">天と地に隔たりのない時</span></p>   <p begin=\"00:05:04:27\" end=\"00:05:06:28\" region=\"縦左\" style=\"s1\"><span style=\"s2\"><span style=\"s3\"><span style=\"s4\">黄草嶺</span><span style=\"s5\">ファンチョリョン</span></span>…現在の<span style=\"s3\"><span style=\"s4\">栄光</span><span style=\"s5\">ヨングァン</span></span>郡に<br/>位置する嶺</span></p>  </div> </body> </tt>図17: 上記TTMLサンプルに対応する横字幕のレンダリング図18: 上記TTMLサンプルの縦字幕レンダリング字幕の納品日本語の字幕機能を特定し、ソース形式を選択して、日本語字幕アセットの納品仕様を作成しました。 次の課題はクライアントへの字幕納品でした。 日本語字幕の取り込みはVideotron Lambda形式で行っていましたが、前述の理由でLambdaCap形式はクライアントモデルには適していないと考えるようになりました。 また、テキスト形式の字幕をクライアントへ納品することが望ましい一方で、大多数のNetflix対応デバイスは複雑な日本語字幕機能をサポートしていませんでした。 こうした問題により、日本では画像形式の字幕を使用することにしました。そして複雑な日本語字幕のレンダリング作業のすべてを、Netflixにおけるバックエンドのトランスコード処理で対応することにしたのです。  画像形式の字幕をレンダリングするためには日本語字幕のレンダリングエンジンの導入が必要となり、これが次の課題となりました。 このプロジェクトには、日本語タイポグラフィの専門家でありW3C TTML仕様エディターでもあるグレン・アダムス氏の協力を仰ぎました。 そのコラボレーションの成果が、Netflixによる出資およびSkynavの開発から実現したオープンソースソフトウェアTimed Text Toolkit (TTT) プロジェクトです。 TTTは日本語字幕の必須機能すべてをサポートし、TTML2ファイルの検証とレンダリングを行う完全なツールセットを提供します。 W3C TTML系の派生規格であるIMSC1 (Internet Media Subtitles and Captions: インターネットメディア用字幕とキャプション) は、インターネットベースの字幕とキャプションの納品アプリケーションを対象にしたものです。 IMSC1仕様の開発段階でTTTを完全な基準組み込みとして使用することができたため、TTTはIMSC1仕様の推奨基準となりました。 同様に、TTTはTTML2の完全な組み込みを提供するため、TTML2仕様の実現がさらに可能になります。図19: 日本語字幕用のNetflix字幕処理パイプラインTTTを使用し、LambdaCap形式ソースファイルをTTML2正準表現に変換した後、字幕を画像としてレンダリングする字幕処理パイプラインを導入しました。 図19で示している通り、cap2ttモジュールを使用してLambdaCap形式ファイルをTTML2ドキュメントに変換します。 TTML2ドキュメントはttpeによって一連の画像シーケンスに変換されます。 字幕画像の時間シーケンスは、それら画像のタイミングと位置情報を含むアーカイブにパッケージされます。 そして、そのアーカイブがNetflixエコシステムのデバイスに納品されるのです。 また、こうした画像セットを異なる解像度で作成し、多様な画面サイズやデバイスフォームファクターに対応しています。今後の課題さまざまな理由から、長期的に望ましい納品システムは画像形式よりもテキスト形式だと言えます。 たとえば、画像形式よりテキスト形式のほうがファイルサイズが小さいため帯域効率がアップすることや、字幕のフォント、フォントサイズ、色をエンドユーザーが柔軟に選択できることなどがその利点です。 Netflixエコシステムの再生デバイスがさらに日本語字幕の機能をサポートできるようになり、TTML2規格が定着すれば、今後はテキスト形式の納品モデルに移行する予定です。 Netflixではこれに向け、さまざまなTTML2機能に対して最上級のサポートを提供し、デバイスに最適な融通性の高い字幕レンダリングエンジンの開発を現在進めています。— ロヒット・プリ、シリル・コンコラト、デヴィッド・ロンカ、ユミ・ディーター(*) 「ハウス・オブ・カード 野望の階段」で使われたスラングで、”チトリンズ”とも呼ばれるアメリカ南部のブタの小腸を材料にした料理。 こうした言葉は視聴者にとってなじみがないことが多い。(†) 表に含まれていないその他のTTML2日本語機能 (tts:rubyOverhangなど) は、Netflixにおける日本語字幕機能のサポートには必要ありません。'"
            ]
          },
          "metadata": {
            "tags": []
          },
          "execution_count": 287
        }
      ]
    },
    {
      "cell_type": "markdown",
      "metadata": {
        "id": "ZjXxQhKO9OVV"
      },
      "source": [
        "#### Treat Duplicates and Missing Values"
      ]
    },
    {
      "cell_type": "code",
      "metadata": {
        "id": "e_eoWUTT9OVW",
        "colab": {
          "base_uri": "https://localhost:8080/",
          "height": 102
        },
        "outputId": "cbd1af9d-3be9-4eea-8fc5-1fb6672064aa"
      },
      "source": [
        "# check how many missing values there are\n",
        "# only the variable Reponses contains missing values\n",
        "df_test_reduced.isnull().sum()"
      ],
      "execution_count": null,
      "outputs": [
        {
          "output_type": "execute_result",
          "data": {
            "text/plain": [
              "Text          0\n",
              "Length        0\n",
              "Responses    82\n",
              "Language      0\n",
              "dtype: int64"
            ]
          },
          "metadata": {
            "tags": []
          },
          "execution_count": 288
        }
      ]
    },
    {
      "cell_type": "code",
      "metadata": {
        "id": "CDTtDfAU9OVX",
        "colab": {
          "base_uri": "https://localhost:8080/",
          "height": 269
        },
        "outputId": "a931daf8-9260-4239-9f05-649ca0d9a4e6"
      },
      "source": [
        "# validate via missing values graph\n",
        "sns.heatmap(df_test_reduced.isnull(), cbar=False);"
      ],
      "execution_count": null,
      "outputs": [
        {
          "output_type": "display_data",
          "data": {
            "image/png": "[encoded data removed]",
            "text/plain": [
              "<Figure size 432x288 with 1 Axes>"
            ]
          },
          "metadata": {
            "tags": [],
            "needs_background": "light"
          }
        }
      ]
    },
    {
      "cell_type": "code",
      "metadata": {
        "id": "2rNPzymuqfZK",
        "colab": {
          "base_uri": "https://localhost:8080/",
          "height": 204
        },
        "outputId": "17175009-0eb3-4d42-88b9-ff5caffe023a"
      },
      "source": [
        "df_test_reduced.info()"
      ],
      "execution_count": null,
      "outputs": [
        {
          "output_type": "stream",
          "text": [
            "<class 'pandas.core.frame.DataFrame'>\n",
            "RangeIndex: 514 entries, 0 to 513\n",
            "Data columns (total 4 columns):\n",
            " #   Column     Non-Null Count  Dtype \n",
            "---  ------     --------------  ----- \n",
            " 0   Text       514 non-null    object\n",
            " 1   Length     514 non-null    int64 \n",
            " 2   Responses  432 non-null    object\n",
            " 3   Language   514 non-null    object\n",
            "dtypes: int64(1), object(3)\n",
            "memory usage: 16.2+ KB\n"
          ],
          "name": "stdout"
        }
      ]
    },
    {
      "cell_type": "markdown",
      "metadata": {
        "id": "5Pi9X6GgdSaA"
      },
      "source": [
        "As it can be seen from the info(), the variable Responses is of type object. It needs to be transformed into an integer to be used as a numeric variable. The problem with the missing values cannot be solved by dropping the observations, since this is the test set. A solution is to fill them in with a metric of the center of the variable's observations (e.g. mean, median). As already explained in section 4, the distribution of the varible needs to be looked at before deciding on this. In the case of a skewed distribution, it is better to use the median. Below a histogram of the variable Responses can be seen. The distribution is right-skewed, so the median of the value Responses will be used to fill in the missing values."
      ]
    },
    {
      "cell_type": "code",
      "metadata": {
        "id": "LU1pmJ4om3m1"
      },
      "source": [
        "# finding the median\n",
        "a = df_test_reduced.copy()[df_test_reduced.Responses.isnull() == False]\n",
        "a['Responses'] = a['Responses'].str.replace(',','')\n",
        "a['Responses'] = a['Responses'].astype(np.int64)\n",
        "rs_median = a[\"Responses\"].median(axis=0)"
      ],
      "execution_count": null,
      "outputs": []
    },
    {
      "cell_type": "code",
      "metadata": {
        "id": "c7OwKie6dINf",
        "colab": {
          "base_uri": "https://localhost:8080/",
          "height": 332
        },
        "outputId": "d46f1786-0514-4645-f08b-8e7378c2eece"
      },
      "source": [
        "a.select_dtypes(include='int64').hist(bins=20)"
      ],
      "execution_count": null,
      "outputs": [
        {
          "output_type": "execute_result",
          "data": {
            "text/plain": [
              "array([[<matplotlib.axes._subplots.AxesSubplot object at 0x7fd682a79828>,\n",
              "        <matplotlib.axes._subplots.AxesSubplot object at 0x7fd682a45588>]],\n",
              "      dtype=object)"
            ]
          },
          "metadata": {
            "tags": []
          },
          "execution_count": 292
        },
        {
          "output_type": "display_data",
          "data": {
            "image/png": "[encoded data removed]",
            "text/plain": [
              "<Figure size 432x288 with 2 Axes>"
            ]
          },
          "metadata": {
            "tags": [],
            "needs_background": "light"
          }
        }
      ]
    },
    {
      "cell_type": "code",
      "metadata": {
        "id": "ZUKtnIHLp8VY"
      },
      "source": [
        "# replacing the missing values by the median\n",
        "df_test_reduced['Responses'] = df_test_reduced['Responses'].str.replace(',','')\n",
        "df_test_reduced[\"Responses\"] = df_test_reduced.copy()[\"Responses\"].fillna(value = round(rs_median))"
      ],
      "execution_count": null,
      "outputs": []
    },
    {
      "cell_type": "code",
      "metadata": {
        "id": "IpKjPoDzwksX",
        "colab": {
          "base_uri": "https://localhost:8080/",
          "height": 204
        },
        "outputId": "81a1d910-ddf9-4930-ae9a-10710fec43e5"
      },
      "source": [
        "# checking whether the missing values are gone: they are\n",
        "df_test_reduced.info()"
      ],
      "execution_count": null,
      "outputs": [
        {
          "output_type": "stream",
          "text": [
            "<class 'pandas.core.frame.DataFrame'>\n",
            "RangeIndex: 514 entries, 0 to 513\n",
            "Data columns (total 4 columns):\n",
            " #   Column     Non-Null Count  Dtype \n",
            "---  ------     --------------  ----- \n",
            " 0   Text       514 non-null    object\n",
            " 1   Length     514 non-null    int64 \n",
            " 2   Responses  514 non-null    object\n",
            " 3   Language   514 non-null    object\n",
            "dtypes: int64(1), object(3)\n",
            "memory usage: 16.2+ KB\n"
          ],
          "name": "stdout"
        }
      ]
    },
    {
      "cell_type": "code",
      "metadata": {
        "id": "MoT7qHoMxQGZ"
      },
      "source": [
        "df_test_reduced['Responses'] = df_test_reduced['Responses'].astype(np.int64)"
      ],
      "execution_count": null,
      "outputs": []
    },
    {
      "cell_type": "code",
      "metadata": {
        "id": "9tvJJ0-v9OVo"
      },
      "source": [
        "# dropping the column language, since all entries are in English\n",
        "df_test_reduced=df_test_reduced.drop([\"Language\"], axis= 1)"
      ],
      "execution_count": null,
      "outputs": []
    },
    {
      "cell_type": "code",
      "metadata": {
        "id": "7Jq773GT9OVp",
        "colab": {
          "base_uri": "https://localhost:8080/",
          "height": 204
        },
        "outputId": "48f962d4-6e95-412f-a13e-2ab85a94b428"
      },
      "source": [
        "df_test_reduced.head(5)"
      ],
      "execution_count": null,
      "outputs": [
        {
          "output_type": "execute_result",
          "data": {
            "text/html": [
              "<div>\n",
              "<style scoped>\n",
              "    .dataframe tbody tr th:only-of-type {\n",
              "        vertical-align: middle;\n",
              "    }\n",
              "\n",
              "    .dataframe tbody tr th {\n",
              "        vertical-align: top;\n",
              "    }\n",
              "\n",
              "    .dataframe thead th {\n",
              "        text-align: right;\n",
              "    }\n",
              "</style>\n",
              "<table border=\"1\" class=\"dataframe\">\n",
              "  <thead>\n",
              "    <tr style=\"text-align: right;\">\n",
              "      <th></th>\n",
              "      <th>Text</th>\n",
              "      <th>Length</th>\n",
              "      <th>Responses</th>\n",
              "    </tr>\n",
              "  </thead>\n",
              "  <tbody>\n",
              "    <tr>\n",
              "      <th>0</th>\n",
              "      <td>There’s one incredible feature of cryptocurren...</td>\n",
              "      <td>23401</td>\n",
              "      <td>627</td>\n",
              "    </tr>\n",
              "    <tr>\n",
              "      <th>1</th>\n",
              "      <td>&lt;img class=\"progressiveMedia-noscript js-progr...</td>\n",
              "      <td>23972</td>\n",
              "      <td>156</td>\n",
              "    </tr>\n",
              "    <tr>\n",
              "      <th>2</th>\n",
              "      <td>So you want to trade cryptocurrency?You’ve see...</td>\n",
              "      <td>402</td>\n",
              "      <td>176</td>\n",
              "    </tr>\n",
              "    <tr>\n",
              "      <th>3</th>\n",
              "      <td>A useful currency should be a medium of exchan...</td>\n",
              "      <td>19730</td>\n",
              "      <td>72</td>\n",
              "    </tr>\n",
              "    <tr>\n",
              "      <th>4</th>\n",
              "      <td>Crypto crypto crypto crypto. It’s here. It’s h...</td>\n",
              "      <td>5324</td>\n",
              "      <td>19</td>\n",
              "    </tr>\n",
              "  </tbody>\n",
              "</table>\n",
              "</div>"
            ],
            "text/plain": [
              "                                                Text  Length  Responses\n",
              "0  There’s one incredible feature of cryptocurren...   23401        627\n",
              "1  <img class=\"progressiveMedia-noscript js-progr...   23972        156\n",
              "2  So you want to trade cryptocurrency?You’ve see...     402        176\n",
              "3  A useful currency should be a medium of exchan...   19730         72\n",
              "4  Crypto crypto crypto crypto. It’s here. It’s h...    5324         19"
            ]
          },
          "metadata": {
            "tags": []
          },
          "execution_count": 298
        }
      ]
    },
    {
      "cell_type": "markdown",
      "metadata": {
        "id": "8k7y3cIR9ZTV"
      },
      "source": [
        "#### Numerical Data Analysis\n",
        "\n",
        "Everything that has been said in the numerical data analysis of the train set (section 4.3) is also valid for the test set. The executed functions and the used plots are also the same. Thus, no detailed explanation will follow."
      ]
    },
    {
      "cell_type": "code",
      "metadata": {
        "id": "EodBY2k39ZTW",
        "colab": {
          "base_uri": "https://localhost:8080/",
          "height": 187
        },
        "outputId": "9bfd162c-3f52-402a-e74a-cc97984afcd6"
      },
      "source": [
        "# explore the data types of all variables\n",
        "df_test_reduced.info()\n"
      ],
      "execution_count": null,
      "outputs": [
        {
          "output_type": "stream",
          "text": [
            "<class 'pandas.core.frame.DataFrame'>\n",
            "RangeIndex: 514 entries, 0 to 513\n",
            "Data columns (total 3 columns):\n",
            " #   Column     Non-Null Count  Dtype \n",
            "---  ------     --------------  ----- \n",
            " 0   Text       514 non-null    object\n",
            " 1   Length     514 non-null    int64 \n",
            " 2   Responses  514 non-null    int64 \n",
            "dtypes: int64(2), object(1)\n",
            "memory usage: 12.2+ KB\n"
          ],
          "name": "stdout"
        }
      ]
    },
    {
      "cell_type": "markdown",
      "metadata": {
        "id": "Yd8kzfCwhwOS"
      },
      "source": [
        "**Before outlier treatment**"
      ]
    },
    {
      "cell_type": "code",
      "metadata": {
        "id": "08PLu11m9ZTY",
        "colab": {
          "base_uri": "https://localhost:8080/",
          "height": 332
        },
        "outputId": "22c9141c-148d-4eff-b371-4a3fa623a1e2"
      },
      "source": [
        "# plot histograms of the numerical variables to explore their ditribution\n",
        "# => the variables Length and Responses mostly have the value 0 \n",
        "df_test_reduced.select_dtypes(include='int64').hist(bins=20)"
      ],
      "execution_count": null,
      "outputs": [
        {
          "output_type": "execute_result",
          "data": {
            "text/plain": [
              "array([[<matplotlib.axes._subplots.AxesSubplot object at 0x7f69b89898d0>,\n",
              "        <matplotlib.axes._subplots.AxesSubplot object at 0x7f69b43e7fd0>]],\n",
              "      dtype=object)"
            ]
          },
          "metadata": {
            "tags": []
          },
          "execution_count": 413
        },
        {
          "output_type": "display_data",
          "data": {
            "image/png": "[encoded data removed]",
            "text/plain": [
              "<Figure size 432x288 with 2 Axes>"
            ]
          },
          "metadata": {
            "tags": [],
            "needs_background": "light"
          }
        }
      ]
    },
    {
      "cell_type": "code",
      "metadata": {
        "id": "nu03eRjB9ZTa",
        "colab": {
          "base_uri": "https://localhost:8080/",
          "height": 513
        },
        "outputId": "0afb19ae-2159-4f4e-b9e8-6ec1a1388aa6"
      },
      "source": [
        "# plot boxplots for the numeric variables to check for outliers\n",
        "\n",
        "num_vars = df_test_reduced.select_dtypes(include=\"int64\")\n",
        "half = np.ceil(num_vars.shape[1] / 2).astype(int)  # for cosmetic reasons we split the plots into two rows\n",
        "num_vars.iloc[:, 0:half].plot(kind = 'box', subplots=True);\n",
        "num_vars.iloc[:, half:num_vars.shape[1]].plot(kind = 'box', subplots=True);"
      ],
      "execution_count": null,
      "outputs": [
        {
          "output_type": "display_data",
          "data": {
            "image/png": "[encoded data removed]",
            "text/plain": [
              "<Figure size 432x288 with 1 Axes>"
            ]
          },
          "metadata": {
            "tags": [],
            "needs_background": "light"
          }
        },
        {
          "output_type": "display_data",
          "data": {
            "image/png": "[encoded data removed]",
            "text/plain": [
              "<Figure size 432x288 with 1 Axes>"
            ]
          },
          "metadata": {
            "tags": [],
            "needs_background": "light"
          }
        }
      ]
    },
    {
      "cell_type": "code",
      "metadata": {
        "id": "91vQCvKs9ZTc",
        "colab": {
          "base_uri": "https://localhost:8080/",
          "height": 297
        },
        "outputId": "6b8d53c7-43ff-4c05-83bf-ba41e528fca1"
      },
      "source": [
        "df_test_reduced.describe()"
      ],
      "execution_count": null,
      "outputs": [
        {
          "output_type": "execute_result",
          "data": {
            "text/html": [
              "<div>\n",
              "<style scoped>\n",
              "    .dataframe tbody tr th:only-of-type {\n",
              "        vertical-align: middle;\n",
              "    }\n",
              "\n",
              "    .dataframe tbody tr th {\n",
              "        vertical-align: top;\n",
              "    }\n",
              "\n",
              "    .dataframe thead th {\n",
              "        text-align: right;\n",
              "    }\n",
              "</style>\n",
              "<table border=\"1\" class=\"dataframe\">\n",
              "  <thead>\n",
              "    <tr style=\"text-align: right;\">\n",
              "      <th></th>\n",
              "      <th>Length</th>\n",
              "      <th>Responses</th>\n",
              "    </tr>\n",
              "  </thead>\n",
              "  <tbody>\n",
              "    <tr>\n",
              "      <th>count</th>\n",
              "      <td>514.000000</td>\n",
              "      <td>514.000000</td>\n",
              "    </tr>\n",
              "    <tr>\n",
              "      <th>mean</th>\n",
              "      <td>6545.963035</td>\n",
              "      <td>31.869650</td>\n",
              "    </tr>\n",
              "    <tr>\n",
              "      <th>std</th>\n",
              "      <td>6449.069641</td>\n",
              "      <td>108.265145</td>\n",
              "    </tr>\n",
              "    <tr>\n",
              "      <th>min</th>\n",
              "      <td>251.000000</td>\n",
              "      <td>1.000000</td>\n",
              "    </tr>\n",
              "    <tr>\n",
              "      <th>25%</th>\n",
              "      <td>908.750000</td>\n",
              "      <td>3.000000</td>\n",
              "    </tr>\n",
              "    <tr>\n",
              "      <th>50%</th>\n",
              "      <td>5228.000000</td>\n",
              "      <td>7.500000</td>\n",
              "    </tr>\n",
              "    <tr>\n",
              "      <th>75%</th>\n",
              "      <td>10433.250000</td>\n",
              "      <td>32.000000</td>\n",
              "    </tr>\n",
              "    <tr>\n",
              "      <th>max</th>\n",
              "      <td>32766.000000</td>\n",
              "      <td>1263.000000</td>\n",
              "    </tr>\n",
              "  </tbody>\n",
              "</table>\n",
              "</div>"
            ],
            "text/plain": [
              "             Length    Responses\n",
              "count    514.000000   514.000000\n",
              "mean    6545.963035    31.869650\n",
              "std     6449.069641   108.265145\n",
              "min      251.000000     1.000000\n",
              "25%      908.750000     3.000000\n",
              "50%     5228.000000     7.500000\n",
              "75%    10433.250000    32.000000\n",
              "max    32766.000000  1263.000000"
            ]
          },
          "metadata": {
            "tags": []
          },
          "execution_count": 416
        }
      ]
    },
    {
      "cell_type": "markdown",
      "metadata": {
        "id": "FVhji7W4hd1f"
      },
      "source": [
        "**Execute outlier truncation of the variable Length**"
      ]
    },
    {
      "cell_type": "code",
      "metadata": {
        "id": "OFYvzR0i9ZTf"
      },
      "source": [
        "# define the columns whose outliers will to be truncated\n",
        "df_test_reduced['Length'] = df_test_reduced['Length'].astype(np.float64)\n",
        "floats = [x for x in df_test_reduced.columns if df_test_reduced[x].dtype == 'float64']\n",
        "# apply the truncate function on each observation of the value Length\n",
        "df_test_reduced[floats] = df_test_reduced[floats].apply(outlier_truncation, axis=0)\n",
        "# set the data type of Length back to int64\n",
        "df_test_reduced['Length'] = df_test_reduced['Length'].astype(np.int64)"
      ],
      "execution_count": null,
      "outputs": []
    },
    {
      "cell_type": "markdown",
      "metadata": {
        "id": "iHKaiUrRhps8"
      },
      "source": [
        "**See what has changed after the truncation**"
      ]
    },
    {
      "cell_type": "code",
      "metadata": {
        "id": "htr0X7Zs9ZTr",
        "colab": {
          "base_uri": "https://localhost:8080/",
          "height": 513
        },
        "outputId": "37062b1b-0d6f-4fdb-b378-5bab37af5a43"
      },
      "source": [
        "num_vars = df_test_reduced.select_dtypes(include=\"int64\")\n",
        "half = np.ceil(num_vars.shape[1] / 2).astype(int)  # for cosmetic reasons we split the plots into two rows\n",
        "num_vars.iloc[:, 0:half].plot(kind = 'box', subplots=True);\n",
        "num_vars.iloc[:, half:num_vars.shape[1]].plot(kind = 'box', subplots=True);"
      ],
      "execution_count": null,
      "outputs": [
        {
          "output_type": "display_data",
          "data": {
            "image/png": "[encoded data removed]",
            "text/plain": [
              "<Figure size 432x288 with 1 Axes>"
            ]
          },
          "metadata": {
            "tags": [],
            "needs_background": "light"
          }
        },
        {
          "output_type": "display_data",
          "data": {
            "image/png": "[encoded data removed]",
            "text/plain": [
              "<Figure size 432x288 with 1 Axes>"
            ]
          },
          "metadata": {
            "tags": [],
            "needs_background": "light"
          }
        }
      ]
    },
    {
      "cell_type": "code",
      "metadata": {
        "id": "f_8zEY2p9ZTt",
        "colab": {
          "base_uri": "https://localhost:8080/",
          "height": 332
        },
        "outputId": "9b9cc54a-d6ac-4a1a-d1b2-f1d7fbb4dd6b"
      },
      "source": [
        "df_test_reduced.select_dtypes(include='int64').hist(bins=20)"
      ],
      "execution_count": null,
      "outputs": [
        {
          "output_type": "execute_result",
          "data": {
            "text/plain": [
              "array([[<matplotlib.axes._subplots.AxesSubplot object at 0x7f69b4053fd0>,\n",
              "        <matplotlib.axes._subplots.AxesSubplot object at 0x7f69b3fac2b0>]],\n",
              "      dtype=object)"
            ]
          },
          "metadata": {
            "tags": []
          },
          "execution_count": 424
        },
        {
          "output_type": "display_data",
          "data": {
            "image/png": "[encoded data removed]",
            "text/plain": [
              "<Figure size 432x288 with 2 Axes>"
            ]
          },
          "metadata": {
            "tags": [],
            "needs_background": "light"
          }
        }
      ]
    },
    {
      "cell_type": "code",
      "metadata": {
        "id": "6hGAcTt89ZTo",
        "colab": {
          "base_uri": "https://localhost:8080/",
          "height": 297
        },
        "outputId": "66e2521c-7c4f-4860-cd3c-89433e9dd035"
      },
      "source": [
        "# check what has changed after the truncation\n",
        "# => the variance of the variable Length has decreased and so has its maximal value respectively the value of its hughest outlier\n",
        "df_test_reduced.describe()"
      ],
      "execution_count": null,
      "outputs": [
        {
          "output_type": "execute_result",
          "data": {
            "text/html": [
              "<div>\n",
              "<style scoped>\n",
              "    .dataframe tbody tr th:only-of-type {\n",
              "        vertical-align: middle;\n",
              "    }\n",
              "\n",
              "    .dataframe tbody tr th {\n",
              "        vertical-align: top;\n",
              "    }\n",
              "\n",
              "    .dataframe thead th {\n",
              "        text-align: right;\n",
              "    }\n",
              "</style>\n",
              "<table border=\"1\" class=\"dataframe\">\n",
              "  <thead>\n",
              "    <tr style=\"text-align: right;\">\n",
              "      <th></th>\n",
              "      <th>Length</th>\n",
              "      <th>Responses</th>\n",
              "    </tr>\n",
              "  </thead>\n",
              "  <tbody>\n",
              "    <tr>\n",
              "      <th>count</th>\n",
              "      <td>514.000000</td>\n",
              "      <td>514.000000</td>\n",
              "    </tr>\n",
              "    <tr>\n",
              "      <th>mean</th>\n",
              "      <td>6450.764591</td>\n",
              "      <td>31.869650</td>\n",
              "    </tr>\n",
              "    <tr>\n",
              "      <th>std</th>\n",
              "      <td>6130.950696</td>\n",
              "      <td>108.265145</td>\n",
              "    </tr>\n",
              "    <tr>\n",
              "      <th>min</th>\n",
              "      <td>251.000000</td>\n",
              "      <td>1.000000</td>\n",
              "    </tr>\n",
              "    <tr>\n",
              "      <th>25%</th>\n",
              "      <td>908.750000</td>\n",
              "      <td>3.000000</td>\n",
              "    </tr>\n",
              "    <tr>\n",
              "      <th>50%</th>\n",
              "      <td>5228.000000</td>\n",
              "      <td>7.500000</td>\n",
              "    </tr>\n",
              "    <tr>\n",
              "      <th>75%</th>\n",
              "      <td>10433.250000</td>\n",
              "      <td>32.000000</td>\n",
              "    </tr>\n",
              "    <tr>\n",
              "      <th>max</th>\n",
              "      <td>24720.000000</td>\n",
              "      <td>1263.000000</td>\n",
              "    </tr>\n",
              "  </tbody>\n",
              "</table>\n",
              "</div>"
            ],
            "text/plain": [
              "             Length    Responses\n",
              "count    514.000000   514.000000\n",
              "mean    6450.764591    31.869650\n",
              "std     6130.950696   108.265145\n",
              "min      251.000000     1.000000\n",
              "25%      908.750000     3.000000\n",
              "50%     5228.000000     7.500000\n",
              "75%    10433.250000    32.000000\n",
              "max    24720.000000  1263.000000"
            ]
          },
          "metadata": {
            "tags": []
          },
          "execution_count": 421
        }
      ]
    },
    {
      "cell_type": "markdown",
      "metadata": {
        "id": "uI03DUxf9ZTx"
      },
      "source": [
        "**The numerical variables need to be normalized (min-max-normalization). For this purpose the min and the max value of all numerical input data is needed. The text data will be later transformed into numerical one with the help of embeddings. Then, the min and the max value of the embeddings will also be the range for the min-max-normalization, meaning all numerical values (Claps, Length, Responses) will be scaled between the min and the max value of the embeddings.**"
      ]
    },
    {
      "cell_type": "markdown",
      "metadata": {
        "id": "o0HQyQPk9d5l"
      },
      "source": [
        "#### Clean the Text Data "
      ]
    },
    {
      "cell_type": "code",
      "metadata": {
        "id": "g40gEM5z9d5m",
        "colab": {
          "base_uri": "https://localhost:8080/",
          "height": 204
        },
        "outputId": "0a64655c-a643-4509-a50d-4e3d81e82f4a"
      },
      "source": [
        "df_test_reduced.head(5)"
      ],
      "execution_count": null,
      "outputs": [
        {
          "output_type": "execute_result",
          "data": {
            "text/html": [
              "<div>\n",
              "<style scoped>\n",
              "    .dataframe tbody tr th:only-of-type {\n",
              "        vertical-align: middle;\n",
              "    }\n",
              "\n",
              "    .dataframe tbody tr th {\n",
              "        vertical-align: top;\n",
              "    }\n",
              "\n",
              "    .dataframe thead th {\n",
              "        text-align: right;\n",
              "    }\n",
              "</style>\n",
              "<table border=\"1\" class=\"dataframe\">\n",
              "  <thead>\n",
              "    <tr style=\"text-align: right;\">\n",
              "      <th></th>\n",
              "      <th>Text</th>\n",
              "      <th>Length</th>\n",
              "      <th>Responses</th>\n",
              "    </tr>\n",
              "  </thead>\n",
              "  <tbody>\n",
              "    <tr>\n",
              "      <th>0</th>\n",
              "      <td>There’s one incredible feature of cryptocurren...</td>\n",
              "      <td>23401</td>\n",
              "      <td>627</td>\n",
              "    </tr>\n",
              "    <tr>\n",
              "      <th>1</th>\n",
              "      <td>&lt;img class=\"progressiveMedia-noscript js-progr...</td>\n",
              "      <td>23972</td>\n",
              "      <td>156</td>\n",
              "    </tr>\n",
              "    <tr>\n",
              "      <th>2</th>\n",
              "      <td>So you want to trade cryptocurrency?You’ve see...</td>\n",
              "      <td>402</td>\n",
              "      <td>176</td>\n",
              "    </tr>\n",
              "    <tr>\n",
              "      <th>3</th>\n",
              "      <td>A useful currency should be a medium of exchan...</td>\n",
              "      <td>19730</td>\n",
              "      <td>72</td>\n",
              "    </tr>\n",
              "    <tr>\n",
              "      <th>4</th>\n",
              "      <td>Crypto crypto crypto crypto. It’s here. It’s h...</td>\n",
              "      <td>5324</td>\n",
              "      <td>19</td>\n",
              "    </tr>\n",
              "  </tbody>\n",
              "</table>\n",
              "</div>"
            ],
            "text/plain": [
              "                                                Text  Length  Responses\n",
              "0  There’s one incredible feature of cryptocurren...   23401        627\n",
              "1  <img class=\"progressiveMedia-noscript js-progr...   23972        156\n",
              "2  So you want to trade cryptocurrency?You’ve see...     402        176\n",
              "3  A useful currency should be a medium of exchan...   19730         72\n",
              "4  Crypto crypto crypto crypto. It’s here. It’s h...    5324         19"
            ]
          },
          "metadata": {
            "tags": []
          },
          "execution_count": 426
        }
      ]
    },
    {
      "cell_type": "code",
      "metadata": {
        "id": "JLsPFxCT9d5r",
        "colab": {
          "base_uri": "https://localhost:8080/",
          "height": 102
        },
        "outputId": "6a9334f0-bfc6-4620-fcf4-719f15f539cd"
      },
      "source": [
        "clean_test = clean_entries(df_test_reduced.Text)"
      ],
      "execution_count": null,
      "outputs": [
        {
          "output_type": "stream",
          "text": [
            "****************************************\n",
            "Cleaning 514 entries.\n",
            "Processed 500 entries\n",
            "DONE\n",
            "****************************************\n"
          ],
          "name": "stdout"
        }
      ]
    },
    {
      "cell_type": "code",
      "metadata": {
        "id": "BVr6y8sg9d5t"
      },
      "source": [
        "# detokenize the entries in order to be able to tokenize them later within Keras\n",
        "df_test_reduced['entry_clean'] = [TreebankWordDetokenizer().detokenize(entry) for entry in clean_test]"
      ],
      "execution_count": null,
      "outputs": []
    },
    {
      "cell_type": "code",
      "metadata": {
        "id": "3uYVaxNp9d5u"
      },
      "source": [
        "df_test_reduced.to_csv('/content/gdrive/My Drive/ADAMS_2020/test_clean.csv')"
      ],
      "execution_count": null,
      "outputs": []
    },
    {
      "cell_type": "markdown",
      "metadata": {
        "id": "dKGpA8Dz9mKx"
      },
      "source": [
        "#### Text Data Preprocessing for Keras"
      ]
    },
    {
      "cell_type": "code",
      "metadata": {
        "id": "V0yhzLCA6hpC"
      },
      "source": [
        "test_clean = \"/content/gdrive/My Drive/ADAMS_2020/test_clean.csv\"\n",
        "test_clean = pd.read_csv(test_clean)"
      ],
      "execution_count": null,
      "outputs": []
    },
    {
      "cell_type": "code",
      "metadata": {
        "id": "xY3rVH8kD7Y2",
        "colab": {
          "base_uri": "https://localhost:8080/",
          "height": 204
        },
        "outputId": "3e79dc68-d6c3-4cc0-c979-a7da95abbcc4"
      },
      "source": [
        "test_clean.head(5)"
      ],
      "execution_count": null,
      "outputs": [
        {
          "output_type": "execute_result",
          "data": {
            "text/html": [
              "<div>\n",
              "<style scoped>\n",
              "    .dataframe tbody tr th:only-of-type {\n",
              "        vertical-align: middle;\n",
              "    }\n",
              "\n",
              "    .dataframe tbody tr th {\n",
              "        vertical-align: top;\n",
              "    }\n",
              "\n",
              "    .dataframe thead th {\n",
              "        text-align: right;\n",
              "    }\n",
              "</style>\n",
              "<table border=\"1\" class=\"dataframe\">\n",
              "  <thead>\n",
              "    <tr style=\"text-align: right;\">\n",
              "      <th></th>\n",
              "      <th>Unnamed: 0</th>\n",
              "      <th>Text</th>\n",
              "      <th>Length</th>\n",
              "      <th>Responses</th>\n",
              "      <th>entry_clean</th>\n",
              "    </tr>\n",
              "  </thead>\n",
              "  <tbody>\n",
              "    <tr>\n",
              "      <th>0</th>\n",
              "      <td>0</td>\n",
              "      <td>There’s one incredible feature of cryptocurren...</td>\n",
              "      <td>23401</td>\n",
              "      <td>627</td>\n",
              "      <td>one incredible feature cryptocurrencies almost...</td>\n",
              "    </tr>\n",
              "    <tr>\n",
              "      <th>1</th>\n",
              "      <td>1</td>\n",
              "      <td>&lt;img class=\"progressiveMedia-noscript js-progr...</td>\n",
              "      <td>23972</td>\n",
              "      <td>156</td>\n",
              "      <td>onchainneo founder da hongfei erik zhang found...</td>\n",
              "    </tr>\n",
              "    <tr>\n",
              "      <th>2</th>\n",
              "      <td>2</td>\n",
              "      <td>So you want to trade cryptocurrency?You’ve see...</td>\n",
              "      <td>402</td>\n",
              "      <td>176</td>\n",
              "      <td>want trade cryptocurrency see eye pop return w...</td>\n",
              "    </tr>\n",
              "    <tr>\n",
              "      <th>3</th>\n",
              "      <td>3</td>\n",
              "      <td>A useful currency should be a medium of exchan...</td>\n",
              "      <td>19730</td>\n",
              "      <td>72</td>\n",
              "      <td>useful currency medium exchange unit account s...</td>\n",
              "    </tr>\n",
              "    <tr>\n",
              "      <th>4</th>\n",
              "      <td>4</td>\n",
              "      <td>Crypto crypto crypto crypto. It’s here. It’s h...</td>\n",
              "      <td>5324</td>\n",
              "      <td>19</td>\n",
              "      <td>crypto crypto crypto crypto happen big way fas...</td>\n",
              "    </tr>\n",
              "  </tbody>\n",
              "</table>\n",
              "</div>"
            ],
            "text/plain": [
              "   Unnamed: 0  ...                                        entry_clean\n",
              "0           0  ...  one incredible feature cryptocurrencies almost...\n",
              "1           1  ...  onchainneo founder da hongfei erik zhang found...\n",
              "2           2  ...  want trade cryptocurrency see eye pop return w...\n",
              "3           3  ...  useful currency medium exchange unit account s...\n",
              "4           4  ...  crypto crypto crypto crypto happen big way fas...\n",
              "\n",
              "[5 rows x 5 columns]"
            ]
          },
          "metadata": {
            "tags": []
          },
          "execution_count": 302
        }
      ]
    },
    {
      "cell_type": "code",
      "metadata": {
        "id": "QmGNag02FmP-"
      },
      "source": [
        "# drop all unnecessary columns\n",
        "test_clean = test_clean.drop([\"Unnamed: 0\", \"Text\"], axis = 1)"
      ],
      "execution_count": null,
      "outputs": []
    },
    {
      "cell_type": "code",
      "metadata": {
        "id": "M-Kf7bKKLynE",
        "colab": {
          "base_uri": "https://localhost:8080/",
          "height": 419
        },
        "outputId": "7e4fefb3-32dd-46d5-cd22-26c02980f96b"
      },
      "source": [
        "test_clean"
      ],
      "execution_count": null,
      "outputs": [
        {
          "output_type": "execute_result",
          "data": {
            "text/html": [
              "<div>\n",
              "<style scoped>\n",
              "    .dataframe tbody tr th:only-of-type {\n",
              "        vertical-align: middle;\n",
              "    }\n",
              "\n",
              "    .dataframe tbody tr th {\n",
              "        vertical-align: top;\n",
              "    }\n",
              "\n",
              "    .dataframe thead th {\n",
              "        text-align: right;\n",
              "    }\n",
              "</style>\n",
              "<table border=\"1\" class=\"dataframe\">\n",
              "  <thead>\n",
              "    <tr style=\"text-align: right;\">\n",
              "      <th></th>\n",
              "      <th>Length</th>\n",
              "      <th>Responses</th>\n",
              "      <th>entry_clean</th>\n",
              "    </tr>\n",
              "  </thead>\n",
              "  <tbody>\n",
              "    <tr>\n",
              "      <th>0</th>\n",
              "      <td>23401</td>\n",
              "      <td>627</td>\n",
              "      <td>one incredible feature cryptocurrencies almost...</td>\n",
              "    </tr>\n",
              "    <tr>\n",
              "      <th>1</th>\n",
              "      <td>23972</td>\n",
              "      <td>156</td>\n",
              "      <td>onchainneo founder da hongfei erik zhang found...</td>\n",
              "    </tr>\n",
              "    <tr>\n",
              "      <th>2</th>\n",
              "      <td>402</td>\n",
              "      <td>176</td>\n",
              "      <td>want trade cryptocurrency see eye pop return w...</td>\n",
              "    </tr>\n",
              "    <tr>\n",
              "      <th>3</th>\n",
              "      <td>19730</td>\n",
              "      <td>72</td>\n",
              "      <td>useful currency medium exchange unit account s...</td>\n",
              "    </tr>\n",
              "    <tr>\n",
              "      <th>4</th>\n",
              "      <td>5324</td>\n",
              "      <td>19</td>\n",
              "      <td>crypto crypto crypto crypto happen big way fas...</td>\n",
              "    </tr>\n",
              "    <tr>\n",
              "      <th>...</th>\n",
              "      <td>...</td>\n",
              "      <td>...</td>\n",
              "      <td>...</td>\n",
              "    </tr>\n",
              "    <tr>\n",
              "      <th>509</th>\n",
              "      <td>9025</td>\n",
              "      <td>181</td>\n",
              "      <td>startup founder ever suppose give even one glo...</td>\n",
              "    </tr>\n",
              "    <tr>\n",
              "      <th>510</th>\n",
              "      <td>5571</td>\n",
              "      <td>24</td>\n",
              "      <td>embark startup journey know tackle first long ...</td>\n",
              "    </tr>\n",
              "    <tr>\n",
              "      <th>511</th>\n",
              "      <td>475</td>\n",
              "      <td>24</td>\n",
              "      <td>fuck startup extravagant party crazy site even...</td>\n",
              "    </tr>\n",
              "    <tr>\n",
              "      <th>512</th>\n",
              "      <td>13483</td>\n",
              "      <td>116</td>\n",
              "      <td>note post glorify prostitution criticise start...</td>\n",
              "    </tr>\n",
              "    <tr>\n",
              "      <th>513</th>\n",
              "      <td>8736</td>\n",
              "      <td>34</td>\n",
              "      <td>question craigslist albert einstein common ans...</td>\n",
              "    </tr>\n",
              "  </tbody>\n",
              "</table>\n",
              "<p>514 rows × 3 columns</p>\n",
              "</div>"
            ],
            "text/plain": [
              "     Length  Responses                                        entry_clean\n",
              "0     23401        627  one incredible feature cryptocurrencies almost...\n",
              "1     23972        156  onchainneo founder da hongfei erik zhang found...\n",
              "2       402        176  want trade cryptocurrency see eye pop return w...\n",
              "3     19730         72  useful currency medium exchange unit account s...\n",
              "4      5324         19  crypto crypto crypto crypto happen big way fas...\n",
              "..      ...        ...                                                ...\n",
              "509    9025        181  startup founder ever suppose give even one glo...\n",
              "510    5571         24  embark startup journey know tackle first long ...\n",
              "511     475         24  fuck startup extravagant party crazy site even...\n",
              "512   13483        116  note post glorify prostitution criticise start...\n",
              "513    8736         34  question craigslist albert einstein common ans...\n",
              "\n",
              "[514 rows x 3 columns]"
            ]
          },
          "metadata": {
            "tags": []
          },
          "execution_count": 304
        }
      ]
    },
    {
      "cell_type": "code",
      "metadata": {
        "id": "lIBpfUU49mK9"
      },
      "source": [
        "# since the features are both textual and numerical data, a separation is needed\n",
        "# save the textual data \n",
        "test_clean_text = test_clean[\"entry_clean\"]\n",
        "test_clean_num = test_clean[[\"Length\", \"Responses\"]]"
      ],
      "execution_count": null,
      "outputs": []
    },
    {
      "cell_type": "code",
      "metadata": {
        "id": "Hvv-VCzH9mK_"
      },
      "source": [
        "test_clean_text_int = tokenizer_obj.texts_to_sequences(test_clean_text)"
      ],
      "execution_count": null,
      "outputs": []
    },
    {
      "cell_type": "code",
      "metadata": {
        "id": "bmmaMjdE9mLF"
      },
      "source": [
        "# pad the text data\n",
        "\n",
        "test_clean_text_int_pad = pad_sequences(test_clean_text_int, MAX_REVIEW_LENGTH)"
      ],
      "execution_count": null,
      "outputs": []
    },
    {
      "cell_type": "markdown",
      "metadata": {
        "id": "dZw3Hozj9mLJ"
      },
      "source": [
        "#### Min-Max-Normalization of Numerical Variables\n",
        "\n",
        "As mentioned earlier at the end of section 4.3 the numerical variables will be normalized according to the min max normalization. The min and the max value in the created embeddings will represent the min and max values, between which the variables will be rescaled. The values from the train set embeddings are used, so that both train and test data are on the same scale."
      ]
    },
    {
      "cell_type": "code",
      "metadata": {
        "id": "DUA-q_kO9mLS"
      },
      "source": [
        "# scale the numerical values in the test set using the scaler fitted on the train and validation set\n",
        "normalized_test_clean_num = scaler.transform(test_clean_num)"
      ],
      "execution_count": null,
      "outputs": []
    },
    {
      "cell_type": "code",
      "metadata": {
        "id": "SuqQVeH79mLT"
      },
      "source": [
        "responses_norm = []\n",
        "for m in range (0, normalized_test_clean_num.shape[0]):\n",
        "  resp_norm = normalized_test_clean_num[m][1]\n",
        "  responses_norm.append(resp_norm)\n",
        "\n",
        "X_test_num[\"Responses_Norm\"] = responses_norm"
      ],
      "execution_count": null,
      "outputs": []
    },
    {
      "cell_type": "code",
      "metadata": {
        "id": "QhKSCX6f9mLU"
      },
      "source": [
        "length_norm = []\n",
        "for m in range (0, normalized_test_clean_num.shape[0]):\n",
        "  len_norm = normalized_test_clean_num[m][0]\n",
        "  length_norm.append(len_norm)\n",
        "\n",
        "X_test_num[\"Length_Norm\"] = length_norm_val"
      ],
      "execution_count": null,
      "outputs": []
    },
    {
      "cell_type": "code",
      "metadata": {
        "id": "mbOoOt93dB59"
      },
      "source": [
        "prediction = loaded_tuned_model.predict([test_clean_text_int_pad, X_test_num])\n",
        "prediction=prediction.reshape(prediction.shape[0])"
      ],
      "execution_count": null,
      "outputs": []
    },
    {
      "cell_type": "code",
      "metadata": {
        "id": "ZnlZGEDHeJc6"
      },
      "source": [
        "prediction_claps_test = []\n",
        "for i in range (0, len(prediction)):\n",
        "    pred_claps_test = prediction[i]\n",
        "    prediction_claps_test.append(pred_claps_test)\n"
      ],
      "execution_count": null,
      "outputs": []
    },
    {
      "cell_type": "code",
      "metadata": {
        "id": "QoP2TRBweieZ"
      },
      "source": [
        "X_test_num[\"Predicted_Claps_Norm\"] = prediction_claps_test"
      ],
      "execution_count": null,
      "outputs": []
    },
    {
      "cell_type": "code",
      "metadata": {
        "id": "3iuzkLSDeoMP"
      },
      "source": [
        "# leave only the predictions\n",
        "X_test_num = X_test_num.drop([\"Length_Norm\"], axis =1)\n",
        "X_test_num = X_test_num.drop([\"Responses_Norm\"], axis =1)"
      ],
      "execution_count": null,
      "outputs": []
    },
    {
      "cell_type": "code",
      "metadata": {
        "id": "pY601KN5e2Gp"
      },
      "source": [
        "# the results must be scaled back, since real number of claps/likes is not scaled\n",
        "predictions = scaler.inverse_transform(X_test_num)"
      ],
      "execution_count": null,
      "outputs": []
    },
    {
      "cell_type": "code",
      "metadata": {
        "id": "UWLDW9M0ewIZ"
      },
      "source": [
        "prediction_claps_inverse_test = []\n",
        "\n",
        "for i in range (0, len(predictions)):\n",
        "  pred_test = predictions[i][1]\n",
        "  prediction_claps_inverse_test.append((round(pred_test)))"
      ],
      "execution_count": null,
      "outputs": []
    },
    {
      "cell_type": "code",
      "metadata": {
        "id": "NFFDdCiCfIzk",
        "colab": {
          "base_uri": "https://localhost:8080/",
          "height": 1000
        },
        "outputId": "cf3c0754-3c65-4c0c-c24a-bf62df487963"
      },
      "source": [
        "prediction_claps_inverse_test"
      ],
      "execution_count": null,
      "outputs": [
        {
          "output_type": "execute_result",
          "data": {
            "text/plain": [
              "[406.0,\n",
              " 405.0,\n",
              " 3.0,\n",
              " 405.0,\n",
              " 383.0,\n",
              " 405.0,\n",
              " 297.0,\n",
              " 383.0,\n",
              " 405.0,\n",
              " 3.0,\n",
              " 4.0,\n",
              " 4.0,\n",
              " 5.0,\n",
              " 405.0,\n",
              " 404.0,\n",
              " 397.0,\n",
              " 399.0,\n",
              " 404.0,\n",
              " 3.0,\n",
              " 403.0,\n",
              " 397.0,\n",
              " 90.0,\n",
              " 405.0,\n",
              " 405.0,\n",
              " 250.0,\n",
              " 405.0,\n",
              " 393.0,\n",
              " 403.0,\n",
              " 3.0,\n",
              " 4.0,\n",
              " 3.0,\n",
              " 36.0,\n",
              " 404.0,\n",
              " 402.0,\n",
              " 401.0,\n",
              " 404.0,\n",
              " 404.0,\n",
              " 3.0,\n",
              " 400.0,\n",
              " 3.0,\n",
              " 393.0,\n",
              " 3.0,\n",
              " 404.0,\n",
              " 337.0,\n",
              " 3.0,\n",
              " 403.0,\n",
              " 3.0,\n",
              " 3.0,\n",
              " 3.0,\n",
              " 388.0,\n",
              " 24.0,\n",
              " 3.0,\n",
              " 3.0,\n",
              " 404.0,\n",
              " 404.0,\n",
              " 3.0,\n",
              " 403.0,\n",
              " 5.0,\n",
              " 3.0,\n",
              " 403.0,\n",
              " 385.0,\n",
              " 314.0,\n",
              " 333.0,\n",
              " 405.0,\n",
              " 330.0,\n",
              " 3.0,\n",
              " 4.0,\n",
              " 392.0,\n",
              " 4.0,\n",
              " 357.0,\n",
              " 369.0,\n",
              " 3.0,\n",
              " 3.0,\n",
              " 3.0,\n",
              " 3.0,\n",
              " 396.0,\n",
              " 3.0,\n",
              " 248.0,\n",
              " 3.0,\n",
              " 3.0,\n",
              " 3.0,\n",
              " 374.0,\n",
              " 4.0,\n",
              " 3.0,\n",
              " 3.0,\n",
              " 394.0,\n",
              " 3.0,\n",
              " 3.0,\n",
              " 8.0,\n",
              " 334.0,\n",
              " 3.0,\n",
              " 11.0,\n",
              " 352.0,\n",
              " 3.0,\n",
              " 3.0,\n",
              " 3.0,\n",
              " 4.0,\n",
              " 403.0,\n",
              " 144.0,\n",
              " 345.0,\n",
              " 403.0,\n",
              " 7.0,\n",
              " 3.0,\n",
              " 3.0,\n",
              " 3.0,\n",
              " 3.0,\n",
              " 3.0,\n",
              " 4.0,\n",
              " 42.0,\n",
              " 3.0,\n",
              " 4.0,\n",
              " 288.0,\n",
              " 3.0,\n",
              " 403.0,\n",
              " 3.0,\n",
              " 3.0,\n",
              " 361.0,\n",
              " 3.0,\n",
              " 306.0,\n",
              " 3.0,\n",
              " 89.0,\n",
              " 3.0,\n",
              " 3.0,\n",
              " 3.0,\n",
              " 3.0,\n",
              " 4.0,\n",
              " 333.0,\n",
              " 30.0,\n",
              " 3.0,\n",
              " 399.0,\n",
              " 396.0,\n",
              " 3.0,\n",
              " 392.0,\n",
              " 3.0,\n",
              " 3.0,\n",
              " 4.0,\n",
              " 3.0,\n",
              " 395.0,\n",
              " 3.0,\n",
              " 382.0,\n",
              " 3.0,\n",
              " 3.0,\n",
              " 3.0,\n",
              " 3.0,\n",
              " 3.0,\n",
              " 400.0,\n",
              " 235.0,\n",
              " 404.0,\n",
              " 3.0,\n",
              " 3.0,\n",
              " 3.0,\n",
              " 6.0,\n",
              " 3.0,\n",
              " 4.0,\n",
              " 343.0,\n",
              " 221.0,\n",
              " 3.0,\n",
              " 3.0,\n",
              " 3.0,\n",
              " 3.0,\n",
              " 401.0,\n",
              " 3.0,\n",
              " 3.0,\n",
              " 10.0,\n",
              " 6.0,\n",
              " 4.0,\n",
              " 401.0,\n",
              " 3.0,\n",
              " 255.0,\n",
              " 4.0,\n",
              " 3.0,\n",
              " 44.0,\n",
              " 403.0,\n",
              " 267.0,\n",
              " 3.0,\n",
              " 26.0,\n",
              " 24.0,\n",
              " 363.0,\n",
              " 3.0,\n",
              " 3.0,\n",
              " 3.0,\n",
              " 108.0,\n",
              " 66.0,\n",
              " 401.0,\n",
              " 3.0,\n",
              " 200.0,\n",
              " 401.0,\n",
              " 3.0,\n",
              " 3.0,\n",
              " 3.0,\n",
              " 62.0,\n",
              " 15.0,\n",
              " 352.0,\n",
              " 400.0,\n",
              " 3.0,\n",
              " 13.0,\n",
              " 3.0,\n",
              " 3.0,\n",
              " 3.0,\n",
              " 3.0,\n",
              " 5.0,\n",
              " 3.0,\n",
              " 403.0,\n",
              " 396.0,\n",
              " 3.0,\n",
              " 337.0,\n",
              " 383.0,\n",
              " 364.0,\n",
              " 7.0,\n",
              " 389.0,\n",
              " 3.0,\n",
              " 398.0,\n",
              " 14.0,\n",
              " 3.0,\n",
              " 3.0,\n",
              " 5.0,\n",
              " 381.0,\n",
              " 3.0,\n",
              " 3.0,\n",
              " 398.0,\n",
              " 3.0,\n",
              " 404.0,\n",
              " 3.0,\n",
              " 82.0,\n",
              " 3.0,\n",
              " 3.0,\n",
              " 3.0,\n",
              " 3.0,\n",
              " 404.0,\n",
              " 4.0,\n",
              " 386.0,\n",
              " 75.0,\n",
              " 395.0,\n",
              " 38.0,\n",
              " 3.0,\n",
              " 406.0,\n",
              " 4.0,\n",
              " 3.0,\n",
              " 3.0,\n",
              " 3.0,\n",
              " 3.0,\n",
              " 3.0,\n",
              " 3.0,\n",
              " 3.0,\n",
              " 3.0,\n",
              " 3.0,\n",
              " 3.0,\n",
              " 3.0,\n",
              " 3.0,\n",
              " 3.0,\n",
              " 3.0,\n",
              " 3.0,\n",
              " 3.0,\n",
              " 3.0,\n",
              " 3.0,\n",
              " 3.0,\n",
              " 3.0,\n",
              " 3.0,\n",
              " 3.0,\n",
              " 3.0,\n",
              " 3.0,\n",
              " 309.0,\n",
              " 403.0,\n",
              " 404.0,\n",
              " 403.0,\n",
              " 404.0,\n",
              " 404.0,\n",
              " 399.0,\n",
              " 403.0,\n",
              " 404.0,\n",
              " 405.0,\n",
              " 404.0,\n",
              " 404.0,\n",
              " 404.0,\n",
              " 404.0,\n",
              " 402.0,\n",
              " 404.0,\n",
              " 404.0,\n",
              " 3.0,\n",
              " 392.0,\n",
              " 403.0,\n",
              " 404.0,\n",
              " 402.0,\n",
              " 402.0,\n",
              " 3.0,\n",
              " 402.0,\n",
              " 395.0,\n",
              " 404.0,\n",
              " 403.0,\n",
              " 403.0,\n",
              " 403.0,\n",
              " 246.0,\n",
              " 404.0,\n",
              " 343.0,\n",
              " 402.0,\n",
              " 3.0,\n",
              " 404.0,\n",
              " 403.0,\n",
              " 402.0,\n",
              " 69.0,\n",
              " 384.0,\n",
              " 404.0,\n",
              " 398.0,\n",
              " 276.0,\n",
              " 401.0,\n",
              " 398.0,\n",
              " 3.0,\n",
              " 405.0,\n",
              " 404.0,\n",
              " 403.0,\n",
              " 405.0,\n",
              " 402.0,\n",
              " 401.0,\n",
              " 382.0,\n",
              " 404.0,\n",
              " 405.0,\n",
              " 398.0,\n",
              " 404.0,\n",
              " 172.0,\n",
              " 403.0,\n",
              " 216.0,\n",
              " 41.0,\n",
              " 386.0,\n",
              " 403.0,\n",
              " 178.0,\n",
              " 270.0,\n",
              " 403.0,\n",
              " 224.0,\n",
              " 404.0,\n",
              " 400.0,\n",
              " 400.0,\n",
              " 406.0,\n",
              " 405.0,\n",
              " 405.0,\n",
              " 404.0,\n",
              " 405.0,\n",
              " 191.0,\n",
              " 404.0,\n",
              " 404.0,\n",
              " 404.0,\n",
              " 402.0,\n",
              " 20.0,\n",
              " 403.0,\n",
              " 400.0,\n",
              " 309.0,\n",
              " 403.0,\n",
              " 404.0,\n",
              " 403.0,\n",
              " 404.0,\n",
              " 404.0,\n",
              " 399.0,\n",
              " 403.0,\n",
              " 404.0,\n",
              " 404.0,\n",
              " 402.0,\n",
              " 119.0,\n",
              " 405.0,\n",
              " 3.0,\n",
              " 392.0,\n",
              " 403.0,\n",
              " 404.0,\n",
              " 402.0,\n",
              " 405.0,\n",
              " 396.0,\n",
              " 401.0,\n",
              " 404.0,\n",
              " 399.0,\n",
              " 404.0,\n",
              " 397.0,\n",
              " 405.0,\n",
              " 3.0,\n",
              " 403.0,\n",
              " 404.0,\n",
              " 398.0,\n",
              " 401.0,\n",
              " 405.0,\n",
              " 404.0,\n",
              " 404.0,\n",
              " 3.0,\n",
              " 69.0,\n",
              " 403.0,\n",
              " 405.0,\n",
              " 404.0,\n",
              " 404.0,\n",
              " 403.0,\n",
              " 404.0,\n",
              " 404.0,\n",
              " 404.0,\n",
              " 404.0,\n",
              " 402.0,\n",
              " 402.0,\n",
              " 395.0,\n",
              " 404.0,\n",
              " 403.0,\n",
              " 403.0,\n",
              " 246.0,\n",
              " 404.0,\n",
              " 343.0,\n",
              " 402.0,\n",
              " 3.0,\n",
              " 404.0,\n",
              " 403.0,\n",
              " 402.0,\n",
              " 384.0,\n",
              " 276.0,\n",
              " 401.0,\n",
              " 398.0,\n",
              " 405.0,\n",
              " 404.0,\n",
              " 403.0,\n",
              " 405.0,\n",
              " 402.0,\n",
              " 401.0,\n",
              " 382.0,\n",
              " 404.0,\n",
              " 405.0,\n",
              " 398.0,\n",
              " 404.0,\n",
              " 172.0,\n",
              " 403.0,\n",
              " 216.0,\n",
              " 41.0,\n",
              " 386.0,\n",
              " 403.0,\n",
              " 178.0,\n",
              " 270.0,\n",
              " 403.0,\n",
              " 224.0,\n",
              " 404.0,\n",
              " 400.0,\n",
              " 400.0,\n",
              " 404.0,\n",
              " 391.0,\n",
              " 403.0,\n",
              " 405.0,\n",
              " 404.0,\n",
              " 184.0,\n",
              " 386.0,\n",
              " 405.0,\n",
              " 54.0,\n",
              " 404.0,\n",
              " 391.0,\n",
              " 403.0,\n",
              " 402.0,\n",
              " 73.0,\n",
              " 404.0,\n",
              " 404.0,\n",
              " 404.0,\n",
              " 280.0,\n",
              " 398.0,\n",
              " 404.0,\n",
              " 404.0,\n",
              " 3.0,\n",
              " 402.0,\n",
              " 216.0,\n",
              " 5.0,\n",
              " 405.0,\n",
              " 400.0,\n",
              " 403.0,\n",
              " 405.0,\n",
              " 404.0,\n",
              " 151.0,\n",
              " 3.0,\n",
              " 404.0,\n",
              " 403.0,\n",
              " 403.0,\n",
              " 394.0,\n",
              " 404.0,\n",
              " 379.0,\n",
              " 405.0,\n",
              " 3.0,\n",
              " 363.0,\n",
              " 398.0,\n",
              " 400.0,\n",
              " 402.0,\n",
              " 4.0,\n",
              " 404.0,\n",
              " 403.0,\n",
              " 404.0,\n",
              " 402.0,\n",
              " 399.0,\n",
              " 5.0,\n",
              " 404.0,\n",
              " 3.0,\n",
              " 404.0,\n",
              " 3.0,\n",
              " 6.0,\n",
              " 405.0,\n",
              " 3.0,\n",
              " 390.0,\n",
              " 404.0,\n",
              " 406.0,\n",
              " 402.0,\n",
              " 3.0,\n",
              " 403.0,\n",
              " 400.0,\n",
              " 3.0,\n",
              " 404.0,\n",
              " 3.0,\n",
              " 161.0,\n",
              " 3.0,\n",
              " 271.0,\n",
              " 3.0,\n",
              " 404.0,\n",
              " 399.0,\n",
              " 3.0,\n",
              " 394.0,\n",
              " 390.0,\n",
              " 3.0,\n",
              " 403.0,\n",
              " 388.0,\n",
              " 3.0,\n",
              " 404.0,\n",
              " 402.0]"
            ]
          },
          "metadata": {
            "tags": []
          },
          "execution_count": 351
        }
      ]
    },
    {
      "cell_type": "code",
      "metadata": {
        "id": "evEkTZZVW-xf"
      },
      "source": [
        "index_list=[]\n",
        "for i in range (0, len(df_test)):\n",
        "  index = i \n",
        "  index_list.append(index)\n"
      ],
      "execution_count": null,
      "outputs": []
    },
    {
      "cell_type": "code",
      "metadata": {
        "id": "crWf9ciwW0H8"
      },
      "source": [
        "prediction = pd.DataFrame(index_list, columns=[\"index\"])"
      ],
      "execution_count": null,
      "outputs": []
    },
    {
      "cell_type": "code",
      "metadata": {
        "id": "ygA5fID3gXR5"
      },
      "source": [
        "prediction[\"Claps\"] = prediction_claps_inverse_test"
      ],
      "execution_count": null,
      "outputs": []
    },
    {
      "cell_type": "code",
      "metadata": {
        "id": "wDa0E_GVgc7S"
      },
      "source": [
        "prediction_df = prediction.to_csv('/content/gdrive/My Drive/ADAMS_2020/prediction.csv')"
      ],
      "execution_count": null,
      "outputs": []
    }
  ]
}
